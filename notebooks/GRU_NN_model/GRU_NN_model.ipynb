{
 "cells": [
  {
   "cell_type": "markdown",
   "metadata": {
    "colab_type": "text",
    "id": "gnWCGPLQ5ePG"
   },
   "source": [
    "# Setup Notebook"
   ]
  },
  {
   "cell_type": "code",
   "execution_count": 1,
   "metadata": {
    "colab": {
     "base_uri": "https://localhost:8080/",
     "height": 104
    },
    "colab_type": "code",
    "executionInfo": {
     "elapsed": 10723,
     "status": "ok",
     "timestamp": 1534736520929,
     "user": {
      "displayName": "Albert Lee",
      "photoUrl": "//lh3.googleusercontent.com/-f0u8obCCk_w/AAAAAAAAAAI/AAAAAAAAAxs/83E22s4mtyM/s50-c-k-no/photo.jpg",
      "userId": "109969660738913262150"
     },
     "user_tz": 240
    },
    "id": "Nrg9OIDy5ePJ",
    "outputId": "ca7445e7-1e05-4568-c8cb-c093e3d78329"
   },
   "outputs": [
    {
     "name": "stderr",
     "output_type": "stream",
     "text": [
      "Using TensorFlow backend.\n"
     ]
    }
   ],
   "source": [
    "# To load data\n",
    "import zipfile\n",
    "import numpy as np\n",
    "import pandas as pd\n",
    "\n",
    "# For text processing\n",
    "import re\n",
    "import nltk\n",
    "# nltk.download('stopwords')\n",
    "# nltk.download('wordnet')\n",
    "from nltk.corpus import stopwords\n",
    "from nltk.stem.wordnet import WordNetLemmatizer\n",
    "from keras.preprocessing.text import Tokenizer\n",
    "from keras.preprocessing.sequence import pad_sequences\n",
    "from sklearn.preprocessing import Imputer\n",
    "from scipy import sparse\n",
    "from sklearn.model_selection import train_test_split\n",
    "\n",
    "# To build model\n",
    "import keras\n",
    "from keras.layers import Dense, concatenate, Input, Dropout, Embedding, Flatten, Bidirectional, GRU\n",
    "from keras.models import Model\n",
    "\n",
    "# To train model\n",
    "from keras.callbacks import EarlyStopping\n",
    "from keras.models import model_from_json\n",
    "from keras.callbacks import ModelCheckpoint\n",
    "\n",
    "# To evaluate model\n",
    "import matplotlib.pyplot as plt\n",
    "from sklearn.metrics import log_loss\n",
    "\n",
    "# To track time elapsed\n",
    "import time\n",
    "\n",
    "# To save results\n",
    "import dill\n",
    "import json\n",
    "import pickle"
   ]
  },
  {
   "cell_type": "markdown",
   "metadata": {
    "colab_type": "text",
    "id": "uPLEdpRv5ePM"
   },
   "source": [
    "# Load Data"
   ]
  },
  {
   "cell_type": "code",
   "execution_count": 2,
   "metadata": {
    "colab": {},
    "colab_type": "code",
    "id": "YF3nUD615ePM"
   },
   "outputs": [],
   "source": [
    "def load_data():\n",
    "    \"\"\"\n",
    "    Return pandas dataframe data_train: training data (features + labels)\n",
    "    Return pandas dataframe data_test: test data (only features)\n",
    "    \n",
    "    Required Libraries: zipfile, pandas\n",
    "    \"\"\"\n",
    "    \n",
    "    # Load zipped folder with data files\n",
    "    resource_archive = zipfile.ZipFile('resources.zip', 'r')\n",
    "\n",
    "    # Load testing data\n",
    "    data_test = pd.read_csv(resource_archive.open('TestData.csv'), \n",
    "                            dtype={\n",
    "                                'Object_Description': str, \n",
    "                                'Program_Description': str, \n",
    "                                'SubFund_Description': str, \n",
    "                                'Job_Title_Description': str, \n",
    "                                'Facility_or_Department': str,\n",
    "                                'Sub_Object_Description': str, \n",
    "                                'Location_Description': str, \n",
    "                                'FTE': float,\n",
    "                                'Function_Description': str, \n",
    "                                'Position_Extra': str, \n",
    "                                'Text_4': str, \n",
    "                                'Total': float, \n",
    "                                'Text_2': str,\n",
    "                                'Text_3': str, \n",
    "                                'Fund_Description': str, \n",
    "                                'Text_1': str\n",
    "                            },\n",
    "                            index_col=0)\n",
    "\n",
    "    # Load training data\n",
    "    data_train = pd.read_csv(resource_archive.open('TrainingData.csv'), \n",
    "                            dtype={\n",
    "                                'Object_Description': str, \n",
    "                                'Program_Description': str, \n",
    "                                'SubFund_Description': str, \n",
    "                                'Job_Title_Description': str, \n",
    "                                'Facility_or_Department': str,\n",
    "                                'Sub_Object_Description': str, \n",
    "                                'Location_Description': str, \n",
    "                                'FTE': float,\n",
    "                                'Function_Description': str, \n",
    "                                'Position_Extra': str, \n",
    "                                'Text_4': str, \n",
    "                                'Total': float, \n",
    "                                'Text_2': str,\n",
    "                                'Text_3': str, \n",
    "                                'Fund_Description': str, \n",
    "                                'Text_1': str,\n",
    "                                'Function': 'category',\n",
    "                                'Object_Type': 'category',\n",
    "                                'Operating_Status': 'category',\n",
    "                                'Position_Type': 'category',\n",
    "                                'Pre_K': 'category',\n",
    "                                'Reporting': 'category',\n",
    "                                'Sharing': 'category',\n",
    "                                'Student_Type': 'category',\n",
    "                                'Use': 'category',\n",
    "                            },\n",
    "                             index_col=0)\n",
    "    \n",
    "    return data_train, data_test"
   ]
  },
  {
   "cell_type": "code",
   "execution_count": 3,
   "metadata": {
    "colab": {
     "base_uri": "https://localhost:8080/",
     "height": 52
    },
    "colab_type": "code",
    "executionInfo": {
     "elapsed": 2968,
     "status": "ok",
     "timestamp": 1534736527771,
     "user": {
      "displayName": "Albert Lee",
      "photoUrl": "//lh3.googleusercontent.com/-f0u8obCCk_w/AAAAAAAAAAI/AAAAAAAAAxs/83E22s4mtyM/s50-c-k-no/photo.jpg",
      "userId": "109969660738913262150"
     },
     "user_tz": 240
    },
    "id": "GVz1rkaX5ePP",
    "outputId": "48d6f38e-6abf-4a9f-ffc4-ffaefbb15d45"
   },
   "outputs": [
    {
     "name": "stdout",
     "output_type": "stream",
     "text": [
      "data_train shape: (400277, 25)\n",
      "data_test shape: (50064, 16)\n"
     ]
    }
   ],
   "source": [
    "data_train, data_test = load_data()\n",
    "print('data_train shape:', data_train.shape)\n",
    "print('data_test shape:', data_test.shape)"
   ]
  },
  {
   "cell_type": "code",
   "execution_count": 4,
   "metadata": {
    "colab": {},
    "colab_type": "code",
    "id": "i203UxGy5ePT"
   },
   "outputs": [],
   "source": [
    "def load_features(data_train, data_test):\n",
    "    \"\"\"\n",
    "    Return pandas dataframe data_features: data in feature columns of data_train and data_test\n",
    "    \n",
    "    Param pandas dataframe data_train: training data (features + labels)\n",
    "    Param pandas dataframe data_test: test data (only features)\n",
    "    \n",
    "    Required Libraries: pandas\n",
    "    \"\"\"\n",
    "    \n",
    "    feature_columns = data_test.columns # data_test only contains features\n",
    "    \n",
    "    data_features = pd.concat([data_train[feature_columns], data_test])\n",
    "    \n",
    "    return data_features"
   ]
  },
  {
   "cell_type": "code",
   "execution_count": 5,
   "metadata": {
    "colab": {
     "base_uri": "https://localhost:8080/",
     "height": 34
    },
    "colab_type": "code",
    "executionInfo": {
     "elapsed": 544,
     "status": "ok",
     "timestamp": 1534736528579,
     "user": {
      "displayName": "Albert Lee",
      "photoUrl": "//lh3.googleusercontent.com/-f0u8obCCk_w/AAAAAAAAAAI/AAAAAAAAAxs/83E22s4mtyM/s50-c-k-no/photo.jpg",
      "userId": "109969660738913262150"
     },
     "user_tz": 240
    },
    "id": "vBZekpVd5ePV",
    "outputId": "ab45dcb6-f1f4-42a5-b89d-bde4f6177d8b"
   },
   "outputs": [
    {
     "name": "stdout",
     "output_type": "stream",
     "text": [
      "data_features shape: (450341, 16)\n"
     ]
    }
   ],
   "source": [
    "# Load Features\n",
    "data_features = load_features(data_train, data_test)\n",
    "print('data_features shape:', data_features.shape)"
   ]
  },
  {
   "cell_type": "markdown",
   "metadata": {
    "colab_type": "text",
    "id": "9ITNF9275ePY"
   },
   "source": [
    "# Prepare Data for Classification\n",
    "Run the cells below if prepped data files have not been created"
   ]
  },
  {
   "cell_type": "code",
   "execution_count": null,
   "metadata": {
    "colab": {},
    "colab_type": "code",
    "id": "ID0Uo8GT5ePY"
   },
   "outputs": [],
   "source": [
    "def text_processing(phrase):\n",
    "    \"\"\"\n",
    "    Return list processed_phrase: phrase tokens after processing has been completed\n",
    "    \n",
    "    param string phrase: phrase to be processed\n",
    "    \n",
    "    Required Libraries: re, nltk\n",
    "    \"\"\"\n",
    "    \n",
    "    # Case Normalization\n",
    "    processed_phrase = phrase.lower()\n",
    "    \n",
    "    # Remove Punctuations\n",
    "    processed_phrase = re.sub(r\"[^a-z0-9-]\", \" \", processed_phrase)\n",
    "    \n",
    "    # Tokenize Phrase\n",
    "    processed_phrase = processed_phrase.split()\n",
    "    \n",
    "    # Remove Stopwords\n",
    "    processed_phrase = [word for word in processed_phrase if word not in stopwords.words(\"english\") and word != '-']\n",
    "    \n",
    "    # Lemmatization\n",
    "    processed_phrase = [WordNetLemmatizer().lemmatize(word) for word in processed_phrase]\n",
    "    \n",
    "    # Recombine list into phrase\n",
    "    processed_phrase = ' '.join(processed_phrase)\n",
    "    \n",
    "    return processed_phrase"
   ]
  },
  {
   "cell_type": "code",
   "execution_count": null,
   "metadata": {
    "colab": {},
    "colab_type": "code",
    "id": "_ZapkVld5ePb",
    "outputId": "8bf67ef2-f47a-4d30-84cf-7bb823a5cd59"
   },
   "outputs": [
    {
     "name": "stdout",
     "output_type": "stream",
     "text": [
      "past patiently waitin passionately smashin every expectation every action act creation laughin face casualty sorrow first time thinkin past tomorrow\n",
      "2.5811121463775635\n"
     ]
    }
   ],
   "source": [
    "# test text_processing function (with quote from Hamilton: The Musical)\n",
    "start_time = time.time()\n",
    "print(text_processing(\n",
    "    \"I’m past patiently waitin’. I’m passionately smashin’ every expectation. \" + \n",
    "    \"Every action’s an act of creation! \" +\n",
    "    \"I’m laughin’ in the face of casualties and sorrow. \" +\n",
    "    \"For the first time, I’m thinkin’ past tomorrow\"))\n",
    "print(time.time() - start_time)"
   ]
  },
  {
   "cell_type": "code",
   "execution_count": null,
   "metadata": {
    "colab": {},
    "colab_type": "code",
    "id": "ZFQgJuJ_5ePd"
   },
   "outputs": [],
   "source": [
    "def init_prep(data_train, data_test, data_features, label=None):\n",
    "    \"\"\"\n",
    "    Return numpy array X_numeric: numerical feature matrix of test set\n",
    "    Return numpy array X_text: text feature matrix for classification model fitting\n",
    "    Return numpy array X_numeric_test: numerical feature matrix of test set\n",
    "    Return numpy array X_text_test: text feature matrix for classification model fitting\n",
    "    Return numpy array y: labels matrix for classification model fitting\n",
    "    Return keras.Tokenizer() tokenize: contains word to token mapping\n",
    "    \n",
    "    Param pandas dataframe data_train: training data (features + labels)\n",
    "    Param pandas dataframe data_test: test data (features)\n",
    "    Param pandas dataframe data_features: data in feature columns of data_train and data_test\n",
    "    \n",
    "    Required Libraries: pandas, numpy, keras\n",
    "    Required helper functions: text_processing\n",
    "    \"\"\"\n",
    "    \n",
    "    # Combined and preprocess text columns\n",
    "    data_train['combined_text'] = (data_train[data_features.columns]\n",
    "                                       .drop(columns=['FTE', 'Total'])\n",
    "                                       .fillna(\"\")\n",
    "                                       .apply(lambda x: \" \".join(x), axis=1)\n",
    "                                       .apply(lambda x: text_processing(x))\n",
    "                                  )\n",
    "    data_test['combined_text'] = (data_test[data_features.columns]\n",
    "                                       .drop(columns=['FTE', 'Total'])\n",
    "                                       .fillna(\"\")\n",
    "                                       .apply(lambda x: \" \".join(x), axis=1)\n",
    "                                       .apply(lambda x: text_processing(x))\n",
    "                                 )\n",
    "    data_features['combined_text'] = (data_features\n",
    "                                          .drop(columns=['FTE', 'Total'])\n",
    "                                          .fillna(\"\")\n",
    "                                          .apply(lambda x: \" \".join(x), axis=1)\n",
    "                                          .apply(lambda x: text_processing(x))\n",
    "                                     )\n",
    "    \n",
    "    # Vectorizer text columns in training data\n",
    "    tokenize = Tokenizer()\n",
    "    tokenize.fit_on_texts(data_features['combined_text'])\n",
    "    \n",
    "    X_text = tokenize.texts_to_sequences(data_train['combined_text'])\n",
    "    X_text_test = tokenize.texts_to_sequences(data_test['combined_text'])\n",
    "    \n",
    "    X_text = pad_sequences(X_text, padding='post', maxlen=50, truncating='post')\n",
    "    X_text_test = pad_sequences(X_text_test, padding='post', maxlen=50, truncating='post')\n",
    "    \n",
    "    # Impute missing numerical data\n",
    "    imp_total = Imputer(strategy='median')\n",
    "    imp_total.fit(data_features['Total'].values.reshape(-1, 1))\n",
    "\n",
    "    total_not_missing = pd.isnull(data_train['Total']).astype(int).values.reshape(-1, 1)\n",
    "    fte_not_missing = pd.isnull(data_train['FTE']).astype(int).values.reshape(-1, 1)\n",
    "    total = imp_total.transform(data_train['Total'].values.reshape(-1, 1))\n",
    "    fte = data_train['FTE'].fillna('0').values.reshape(-1, 1)\n",
    "\n",
    "    total_not_missing_test = pd.isnull(data_test['Total']).astype(int).values.reshape(-1, 1)\n",
    "    fte_not_missing_test = pd.isnull(data_test['FTE']).astype(int).values.reshape(-1, 1)\n",
    "    total_test = imp_total.transform(data_test['Total'].values.reshape(-1, 1))\n",
    "    fte_test = data_test['FTE'].fillna('0').values.reshape(-1, 1)\n",
    "    \n",
    "    # Create feature matrix\n",
    "    X_numeric = np.concatenate([total, total_not_missing, fte, fte_not_missing], axis=1)\n",
    "    X_numeric_test = np.concatenate([total_test, total_not_missing_test, fte_test, fte_not_missing_test], axis=1)\n",
    "    \n",
    "    # Create labels matrix\n",
    "    if label:\n",
    "        y = pd.get_dummies(data_train[label]).values.astype('float64')\n",
    "    else:\n",
    "        label = ['Function',\n",
    "                 'Object_Type',\n",
    "                 'Operating_Status',\n",
    "                 'Position_Type',\n",
    "                 'Pre_K',\n",
    "                 'Reporting',\n",
    "                 'Sharing',\n",
    "                 'Student_Type',\n",
    "                 'Use']\n",
    "        y = pd.get_dummies(data_train[label]).values.astype('float64')\n",
    "    \n",
    "    return X_numeric, X_text, X_numeric_test, X_text_test, y, tokenize"
   ]
  },
  {
   "cell_type": "code",
   "execution_count": null,
   "metadata": {
    "colab": {},
    "colab_type": "code",
    "id": "6IISwk-c5ePf"
   },
   "outputs": [],
   "source": [
    "X_numeric, X_text, X_test_numeric, X_test_text, y, tokenize = init_prep(data_train, data_test, data_features)"
   ]
  },
  {
   "cell_type": "code",
   "execution_count": null,
   "metadata": {
    "colab": {},
    "colab_type": "code",
    "id": "YeEwXBk75ePi"
   },
   "outputs": [],
   "source": [
    "# Save X_test_text and X_test_numeric\n",
    "np.savez('X_test_text.npz', X_test_text)\n",
    "np.savez('X_test_numeric.npz', X_test_numeric)\n",
    "\n",
    "# Pickle tokenize\n",
    "with open('tokenizer.pickle', 'wb') as handle:\n",
    "    pickle.dump(tokenize, handle, protocol=pickle.HIGHEST_PROTOCOL)"
   ]
  },
  {
   "cell_type": "code",
   "execution_count": null,
   "metadata": {
    "colab": {},
    "colab_type": "code",
    "id": "g3wYrZqv5ePp"
   },
   "outputs": [],
   "source": [
    "def prep_for_classification(X_numeric, X_text, y, validation_size=50064):\n",
    "    \"\"\"\n",
    "    Split training data into training and validation sets\n",
    "    \n",
    "    Return pandas dataframe X_train_numeric: training data (features)\n",
    "    Return pandas dataframe X_train_text: training data (features)\n",
    "    Return pandas dataframe X_val_numeric: validation data (features)\n",
    "    Return pandas dataframe X_val_text: validation data (features)\n",
    "    Return pandas dataframe y_train: training data (labels)\n",
    "    Return pandas dataframe y_val: validation data (labels)\n",
    "    \n",
    "    param numpy array X_numeric: numerical feature matrix of test set\n",
    "    param numpy array X_text: text feature matrix for classification model fitting\n",
    "    param numpy array X_numeric_test: numerical feature matrix of test set\n",
    "    param numpy array X_text_test: text feature matrix for classification model fitting\n",
    "    param numpy array y: labels matrix for classification model fitting\n",
    "    \n",
    "    Required Libraries: pandas, sklearn.model_selection\n",
    "    \"\"\"\n",
    "    \n",
    "    # Split into training and development sets\n",
    "    X_train_numeric, X_val_numeric, X_train_text, X_val_text, y_train, y_val = train_test_split(X_numeric, X_text, y, test_size=validation_size, random_state=93)\n",
    "    \n",
    "    return X_train_numeric, X_val_numeric, X_train_text, X_val_text, y_train, y_val"
   ]
  },
  {
   "cell_type": "code",
   "execution_count": null,
   "metadata": {
    "colab": {},
    "colab_type": "code",
    "id": "drbaQuel5ePr",
    "outputId": "09b43a88-46f1-4b6e-8bd6-4be33d7986d5"
   },
   "outputs": [
    {
     "name": "stdout",
     "output_type": "stream",
     "text": [
      "X_train_numeric (350213, 4)\n",
      "X_train_text (350213, 50)\n",
      "y_train (350213, 104)\n",
      "X_val_numeric (50064, 4)\n",
      "X_val_text (50064, 50)\n",
      "y_val (50064, 104)\n"
     ]
    }
   ],
   "source": [
    "X_train_numeric, X_val_numeric, X_train_text, X_val_text, y_train, y_val = prep_for_classification(X_numeric, X_text, y)\n",
    "print('X_train_numeric', X_train_numeric.shape)\n",
    "print('X_train_text', X_train_text.shape)\n",
    "print('y_train', y_train.shape)\n",
    "print('X_val_numeric', X_val_numeric.shape)\n",
    "print('X_val_text', X_val_text.shape)\n",
    "print('y_val', y_val.shape)"
   ]
  },
  {
   "cell_type": "code",
   "execution_count": null,
   "metadata": {
    "colab": {},
    "colab_type": "code",
    "id": "ZhVYZEmx5ePv"
   },
   "outputs": [],
   "source": [
    "# Save prepped data\n",
    "y_train = sparse.csr_matrix(y_train)\n",
    "y_val = sparse.csr_matrix(y_val)\n",
    "\n",
    "np.savez('X_train_text.npz', X_train_text)\n",
    "np.savez('X_val_text.npz', X_val_text)\n",
    "np.savez('X_train_numeric.npz', X_train_numeric)\n",
    "np.savez('X_val_numeric.npz', X_val_numeric)\n",
    "sparse.save_npz('y_train.npz', y_train)\n",
    "sparse.save_npz('y_val.npz', y_val)"
   ]
  },
  {
   "cell_type": "markdown",
   "metadata": {},
   "source": [
    "# Load Prepped Data\n",
    "Run these cells below if prepped data files are available."
   ]
  },
  {
   "cell_type": "code",
   "execution_count": 6,
   "metadata": {
    "colab": {
     "base_uri": "https://localhost:8080/",
     "height": 452,
     "resources": {
      "http://localhost:8080/nbextensions/google.colab/files.js": {
       "data": "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",
       "headers": [
        [
         "content-type",
         "application/javascript"
        ]
       ],
       "ok": true,
       "status": 200,
       "status_text": ""
      }
     }
    },
    "colab_type": "code",
    "executionInfo": {
     "elapsed": 212386,
     "status": "ok",
     "timestamp": 1534736758583,
     "user": {
      "displayName": "Albert Lee",
      "photoUrl": "//lh3.googleusercontent.com/-f0u8obCCk_w/AAAAAAAAAAI/AAAAAAAAAxs/83E22s4mtyM/s50-c-k-no/photo.jpg",
      "userId": "109969660738913262150"
     },
     "user_tz": 240
    },
    "id": "hGz1Dw0S5ePx",
    "outputId": "924fd394-4ed8-45e4-ccd7-fa318e6b43cc"
   },
   "outputs": [
    {
     "name": "stdout",
     "output_type": "stream",
     "text": [
      "X_train_numeric (350213, 4)\n",
      "X_train_text (350213, 50)\n",
      "y_train (350213, 104)\n",
      "X_val_numeric (50064, 4)\n",
      "X_val_text (50064, 50)\n",
      "y_val (50064, 104)\n",
      "X_test_numeric (50064, 4)\n",
      "X_test_text (50064, 50)\n"
     ]
    }
   ],
   "source": [
    "X_train_text = np.load('X_train_text.npz')['arr_0']\n",
    "X_val_text = np.load('X_val_text.npz')['arr_0']\n",
    "X_train_numeric = np.load('X_train_numeric.npz')['arr_0']\n",
    "X_val_numeric = np.load('X_val_numeric.npz')['arr_0']\n",
    "y_train = sparse.load_npz('y_train.npz')\n",
    "y_val = sparse.load_npz('y_val.npz')\n",
    "X_test_numeric = np.load('X_test_numeric.npz')['arr_0']\n",
    "X_test_text = np.load('X_test_text.npz')['arr_0']\n",
    "\n",
    "print('X_train_numeric', X_train_numeric.shape)\n",
    "print('X_train_text', X_train_text.shape)\n",
    "print('y_train', y_train.shape)\n",
    "print('X_val_numeric', X_val_numeric.shape)\n",
    "print('X_val_text', X_val_text.shape)\n",
    "print('y_val', y_val.shape)\n",
    "print('X_test_numeric', X_test_numeric.shape)\n",
    "print('X_test_text', X_test_text.shape)"
   ]
  },
  {
   "cell_type": "markdown",
   "metadata": {
    "colab_type": "text",
    "id": "UfppW7oi5eP0"
   },
   "source": [
    "# Build Model\n",
    "Run cells below if model has not been fitted yet"
   ]
  },
  {
   "cell_type": "code",
   "execution_count": null,
   "metadata": {
    "colab": {},
    "colab_type": "code",
    "id": "GtnM3_nE5eP0"
   },
   "outputs": [],
   "source": [
    "def build_network(X_numeric=X_train_numeric, X_text=X_train_text, y=y_train):\n",
    "    \"\"\"\n",
    "    Return compiled keras-model model\n",
    "    \n",
    "    param numpy array X: feature matrix for classification\n",
    "    param numpy array y: labels matrix for classification\n",
    "    \n",
    "    Required Libraries: keras\n",
    "    \"\"\"\n",
    "    \n",
    "    dropout_value = 0.5\n",
    "    embedding_vector_length = 8\n",
    "    \n",
    "    numeric_input = Input(shape=(X_numeric.shape[1],) , name='numeric_input') \n",
    "    text_input = Input(shape=(X_text.shape[1],) , name='text_input')\n",
    "    \n",
    "    # Function\n",
    "    word_embedding_function = Embedding(input_dim=3804, output_dim=embedding_vector_length, mask_zero=True, input_length=50)(text_input)\n",
    "    text_function_hidden_layer = Bidirectional(GRU(37, activation='relu', dropout=dropout_value))(word_embedding_function)\n",
    "    numeric_function_hidden_layer = Dense(4, activation='relu')(numeric_input)\n",
    "    numeric_function_hidden_layer = Dropout(dropout_value)(numeric_function_hidden_layer)\n",
    "    combined_function_layer = concatenate([numeric_function_hidden_layer, text_function_hidden_layer])\n",
    "    function_output_layer = Dense(37, activation='softmax')(combined_function_layer)\n",
    "    \n",
    "    # Object_Type\n",
    "    word_embedding_object_type = Embedding(input_dim=3804, output_dim=embedding_vector_length, mask_zero=True, input_length=50)(text_input)\n",
    "    text_object_type_hidden_layer = Bidirectional(GRU(11, activation='relu', dropout=dropout_value))(word_embedding_object_type)\n",
    "    numeric_object_type_hidden_layer = Dense(4, activation='relu')(numeric_input)\n",
    "    numeric_object_type_hidden_layer = Dropout(dropout_value)(numeric_object_type_hidden_layer)\n",
    "    combined_object_type_layer = concatenate([numeric_object_type_hidden_layer, text_object_type_hidden_layer])\n",
    "    object_type_output_layer = Dense(11, activation='softmax')(combined_object_type_layer)\n",
    "    \n",
    "    # Operating_Status\n",
    "    word_embedding_operating_status = Embedding(input_dim=3804, output_dim=embedding_vector_length, mask_zero=True, input_length=50)(text_input)\n",
    "    text_operating_status_hidden_layer = Bidirectional(GRU(3, activation='relu', dropout=dropout_value))(word_embedding_operating_status)\n",
    "    numeric_operating_status_hidden_layer = Dense(4, activation='relu')(numeric_input)\n",
    "    numeric_operating_status_hidden_layer = Dropout(dropout_value)(numeric_operating_status_hidden_layer)\n",
    "    combined_operating_status_layer = concatenate([numeric_operating_status_hidden_layer, text_operating_status_hidden_layer])\n",
    "    operating_status_output_layer = Dense(3, activation='softmax')(combined_operating_status_layer)\n",
    "    \n",
    "    # Position_Type\n",
    "    word_embedding_position_type = Embedding(input_dim=3804, output_dim=embedding_vector_length, mask_zero=True, input_length=50)(text_input)\n",
    "    text_position_type_hidden_layer = Bidirectional(GRU(25, activation='relu', dropout=dropout_value))(word_embedding_position_type)\n",
    "    numeric_position_type_hidden_layer = Dense(4, activation='relu')(numeric_input)\n",
    "    numeric_position_type_hidden_layer = Dropout(dropout_value)(numeric_position_type_hidden_layer)\n",
    "    combined_position_type_layer = concatenate([numeric_position_type_hidden_layer, text_position_type_hidden_layer])\n",
    "    position_type_output_layer = Dense(25, activation='softmax')(combined_position_type_layer)\n",
    "    \n",
    "    # Pre_K\n",
    "    word_embedding_pre_k = Embedding(input_dim=3804, output_dim=embedding_vector_length, mask_zero=True, input_length=50)(text_input)\n",
    "    text_pre_k_hidden_layer = Bidirectional(GRU(3, activation='relu', dropout=dropout_value))(word_embedding_pre_k)\n",
    "    numeric_pre_k_hidden_layer = Dense(4, activation='relu')(numeric_input)\n",
    "    numeric_pre_k_hidden_layer = Dropout(dropout_value)(numeric_pre_k_hidden_layer)\n",
    "    combined_pre_k_layer = concatenate([numeric_pre_k_hidden_layer, text_pre_k_hidden_layer])\n",
    "    pre_k_output_layer = Dense(3, activation='softmax')(combined_pre_k_layer)\n",
    "    \n",
    "    # Reporting\n",
    "    word_embedding_reporting = Embedding(input_dim=3804, output_dim=embedding_vector_length, mask_zero=True, input_length=50)(text_input)\n",
    "    text_reporting_hidden_layer = Bidirectional(GRU(3, activation='relu', dropout=dropout_value))(word_embedding_reporting)\n",
    "    numeric_reporting_hidden_layer = Dense(4, activation='relu')(numeric_input)\n",
    "    numeric_reporting_hidden_layer = Dropout(dropout_value)(numeric_reporting_hidden_layer)\n",
    "    combined_reporting_layer = concatenate([numeric_reporting_hidden_layer, text_reporting_hidden_layer])\n",
    "    reporting_output_layer = Dense(3, activation='softmax')(combined_reporting_layer)\n",
    "    \n",
    "    # Sharing\n",
    "    word_embedding_sharing = Embedding(input_dim=3804, output_dim=embedding_vector_length, mask_zero=True, input_length=50)(text_input)\n",
    "    text_sharing_hidden_layer = Bidirectional(GRU(5, activation='relu', dropout=dropout_value))(word_embedding_sharing)\n",
    "    numeric_sharing_hidden_layer = Dense(4, activation='relu')(numeric_input)\n",
    "    numeric_sharing_hidden_layer = Dropout(dropout_value)(numeric_sharing_hidden_layer)\n",
    "    combined_sharing_layer = concatenate([numeric_sharing_hidden_layer, text_sharing_hidden_layer])\n",
    "    sharing_output_layer = Dense(5, activation='softmax')(combined_sharing_layer)\n",
    "    \n",
    "    # Student_Type\n",
    "    word_embedding_student_type = Embedding(input_dim=3804, output_dim=embedding_vector_length, mask_zero=True, input_length=50)(text_input)\n",
    "    text_student_type_hidden_layer = Bidirectional(GRU(9, activation='relu', dropout=dropout_value))(word_embedding_student_type)\n",
    "    numeric_student_type_hidden_layer = Dense(4, activation='relu')(numeric_input)\n",
    "    numeric_student_type_hidden_layer = Dropout(dropout_value)(numeric_student_type_hidden_layer)\n",
    "    combined_student_type_layer = concatenate([numeric_student_type_hidden_layer, text_student_type_hidden_layer])\n",
    "    student_type_output_layer = Dense(9, activation='softmax')(combined_student_type_layer)\n",
    "    \n",
    "    # Use\n",
    "    word_embedding_use = Embedding(input_dim=3804, output_dim=embedding_vector_length, mask_zero=True, input_length=50)(text_input)\n",
    "    text_use_hidden_layer = Bidirectional(GRU(8, activation='relu', dropout=dropout_value))(word_embedding_student_type)\n",
    "    numeric_use_hidden_layer = Dense(4, activation='relu')(numeric_input)\n",
    "    numeric_use_hidden_layer = Dropout(dropout_value)(numeric_use_hidden_layer)\n",
    "    combined_use_layer = concatenate([numeric_use_hidden_layer, text_use_hidden_layer])\n",
    "    use_output_layer = Dense(8, activation='softmax')(combined_use_layer)\n",
    "    \n",
    "    # Output\n",
    "    combined_output_layer = concatenate([function_output_layer, \n",
    "                                         object_type_output_layer,\n",
    "                                         operating_status_output_layer,\n",
    "                                         position_type_output_layer,\n",
    "                                         pre_k_output_layer,\n",
    "                                         reporting_output_layer,\n",
    "                                         sharing_output_layer,\n",
    "                                         student_type_output_layer,\n",
    "                                         use_output_layer])\n",
    "    \n",
    "    model = Model(inputs=[numeric_input, text_input], outputs=[combined_output_layer])\n",
    "    \n",
    "    model.compile(optimizer='adam', loss='categorical_crossentropy', metrics=['accuracy'])\n",
    "    \n",
    "    return model"
   ]
  },
  {
   "cell_type": "code",
   "execution_count": null,
   "metadata": {
    "colab": {},
    "colab_type": "code",
    "id": "vkm6VVkF5eP2"
   },
   "outputs": [],
   "source": [
    "gru_NN = build_network()\n",
    "\n",
    "model_json = gru_NN.to_json()\n",
    "with open('gru_NN_model.json', 'w') as json_file:\n",
    "    json_file.write(model_json)"
   ]
  },
  {
   "cell_type": "markdown",
   "metadata": {
    "colab_type": "text",
    "id": "INIHpqTn5eP4"
   },
   "source": [
    "# Train model and generate predictions on test set"
   ]
  },
  {
   "cell_type": "code",
   "execution_count": null,
   "metadata": {
    "colab": {
     "base_uri": "https://localhost:8080/",
     "height": 5879
    },
    "colab_type": "code",
    "id": "h2fWentL1If6",
    "outputId": "3a3c48d5-de19-414a-a416-81b66dc07933"
   },
   "outputs": [
    {
     "name": "stdout",
     "output_type": "stream",
     "text": [
      "Train on 315191 samples, validate on 35022 samples\n",
      "Epoch 1/100\n",
      "315191/315191 [==============================] - 483s 2ms/step - loss: 79.0316 - acc: 0.0680 - val_loss: 73.2577 - val_acc: 0.0984\n",
      "\n",
      "Epoch 00001: val_loss improved from inf to 73.25773, saving model to drive/gru_NN_model.h5\n",
      "Epoch 2/100\n",
      "315191/315191 [==============================] - 478s 2ms/step - loss: 47.6784 - acc: 0.0579 - val_loss: 38.8251 - val_acc: 0.0548\n",
      "\n",
      "Epoch 00002: val_loss improved from 73.25773 to 38.82506, saving model to drive/gru_NN_model.h5\n",
      "Epoch 3/100\n",
      "315191/315191 [==============================] - 471s 1ms/step - loss: 34.3271 - acc: 0.0364 - val_loss: 31.5897 - val_acc: 0.0436\n",
      "\n",
      "Epoch 00003: val_loss improved from 38.82506 to 31.58968, saving model to drive/gru_NN_model.h5\n",
      "Epoch 4/100\n",
      "315191/315191 [==============================] - 471s 1ms/step - loss: 29.3927 - acc: 0.0503 - val_loss: 28.3602 - val_acc: 0.0601\n",
      "\n",
      "Epoch 00004: val_loss improved from 31.58968 to 28.36025, saving model to drive/gru_NN_model.h5\n",
      "Epoch 5/100\n",
      "315191/315191 [==============================] - 469s 1ms/step - loss: 26.9522 - acc: 0.0484 - val_loss: 25.4814 - val_acc: 0.0325\n",
      "\n",
      "Epoch 00005: val_loss improved from 28.36025 to 25.48138, saving model to drive/gru_NN_model.h5\n",
      "Epoch 6/100\n",
      "315191/315191 [==============================] - 469s 1ms/step - loss: 25.0139 - acc: 0.0403 - val_loss: 24.1423 - val_acc: 0.0404\n",
      "\n",
      "Epoch 00006: val_loss improved from 25.48138 to 24.14234, saving model to drive/gru_NN_model.h5\n",
      "Epoch 7/100\n",
      "315191/315191 [==============================] - 467s 1ms/step - loss: 24.1415 - acc: 0.0410 - val_loss: 23.4231 - val_acc: 0.0343\n",
      "\n",
      "Epoch 00007: val_loss improved from 24.14234 to 23.42310, saving model to drive/gru_NN_model.h5\n",
      "Epoch 8/100\n",
      "315191/315191 [==============================] - 480s 2ms/step - loss: 23.4601 - acc: 0.0461 - val_loss: 22.6989 - val_acc: 0.0422\n",
      "\n",
      "Epoch 00008: val_loss improved from 23.42310 to 22.69887, saving model to drive/gru_NN_model.h5\n",
      "Epoch 9/100\n",
      "315191/315191 [==============================] - 492s 2ms/step - loss: 23.0916 - acc: 0.0558 - val_loss: 22.4633 - val_acc: 0.0701\n",
      "\n",
      "Epoch 00009: val_loss improved from 22.69887 to 22.46327, saving model to drive/gru_NN_model.h5\n",
      "Epoch 10/100\n",
      "315191/315191 [==============================] - 501s 2ms/step - loss: 22.8547 - acc: 0.0605 - val_loss: 22.2565 - val_acc: 0.0808\n",
      "\n",
      "Epoch 00010: val_loss improved from 22.46327 to 22.25648, saving model to drive/gru_NN_model.h5\n",
      "Epoch 11/100\n",
      "315191/315191 [==============================] - 486s 2ms/step - loss: 22.6555 - acc: 0.0622 - val_loss: 22.1187 - val_acc: 0.0821\n",
      "\n",
      "Epoch 00011: val_loss improved from 22.25648 to 22.11870, saving model to drive/gru_NN_model.h5\n",
      "Epoch 12/100\n",
      "315191/315191 [==============================] - 522s 2ms/step - loss: 22.5199 - acc: 0.0650 - val_loss: 21.9988 - val_acc: 0.0687\n",
      "\n",
      "Epoch 00012: val_loss improved from 22.11870 to 21.99884, saving model to drive/gru_NN_model.h5\n",
      "Epoch 13/100\n",
      "315191/315191 [==============================] - 482s 2ms/step - loss: 22.3869 - acc: 0.0645 - val_loss: 21.9174 - val_acc: 0.0846\n",
      "\n",
      "Epoch 00013: val_loss improved from 21.99884 to 21.91738, saving model to drive/gru_NN_model.h5\n",
      "Epoch 14/100\n",
      "315191/315191 [==============================] - 502s 2ms/step - loss: 22.2699 - acc: 0.0625 - val_loss: 21.7656 - val_acc: 0.0782\n",
      "\n",
      "Epoch 00014: val_loss improved from 21.91738 to 21.76560, saving model to drive/gru_NN_model.h5\n",
      "Epoch 15/100\n",
      "315191/315191 [==============================] - 511s 2ms/step - loss: 22.1455 - acc: 0.0620 - val_loss: 21.6766 - val_acc: 0.0840\n",
      "\n",
      "Epoch 00015: val_loss improved from 21.76560 to 21.67661, saving model to drive/gru_NN_model.h5\n",
      "Epoch 16/100\n",
      "315191/315191 [==============================] - 521s 2ms/step - loss: 22.0607 - acc: 0.0595 - val_loss: 21.6251 - val_acc: 0.0828\n",
      "\n",
      "Epoch 00016: val_loss improved from 21.67661 to 21.62507, saving model to drive/gru_NN_model.h5\n",
      "Epoch 17/100\n",
      "315191/315191 [==============================] - 458s 1ms/step - loss: 21.9958 - acc: 0.0591 - val_loss: 21.5536 - val_acc: 0.0686\n",
      "\n",
      "Epoch 00017: val_loss improved from 21.62507 to 21.55362, saving model to drive/gru_NN_model.h5\n",
      "Epoch 18/100\n",
      "315191/315191 [==============================] - 524s 2ms/step - loss: 21.9054 - acc: 0.0533 - val_loss: 21.4679 - val_acc: 0.0603\n",
      "\n",
      "Epoch 00018: val_loss improved from 21.55362 to 21.46791, saving model to drive/gru_NN_model.h5\n",
      "Epoch 19/100\n",
      "315191/315191 [==============================] - 481s 2ms/step - loss: 21.8405 - acc: 0.0526 - val_loss: 21.4191 - val_acc: 0.0785\n",
      "\n",
      "Epoch 00019: val_loss improved from 21.46791 to 21.41908, saving model to drive/gru_NN_model.h5\n",
      "Epoch 20/100\n",
      "315191/315191 [==============================] - 506s 2ms/step - loss: 21.7873 - acc: 0.0499 - val_loss: 21.3882 - val_acc: 0.0653\n",
      "\n",
      "Epoch 00020: val_loss improved from 21.41908 to 21.38820, saving model to drive/gru_NN_model.h5\n",
      "Epoch 21/100\n",
      "315191/315191 [==============================] - 470s 1ms/step - loss: 21.7625 - acc: 0.0449 - val_loss: 21.3513 - val_acc: 0.0529\n",
      "\n",
      "Epoch 00021: val_loss improved from 21.38820 to 21.35128, saving model to drive/gru_NN_model.h5\n",
      "Epoch 22/100\n",
      "315191/315191 [==============================] - 505s 2ms/step - loss: 21.6913 - acc: 0.0485 - val_loss: 21.3114 - val_acc: 0.0784\n",
      "\n",
      "Epoch 00022: val_loss improved from 21.35128 to 21.31135, saving model to drive/gru_NN_model.h5\n",
      "Epoch 23/100\n",
      "315191/315191 [==============================] - 484s 2ms/step - loss: 21.6626 - acc: 0.0556 - val_loss: 21.2808 - val_acc: 0.0724\n",
      "\n",
      "Epoch 00023: val_loss improved from 21.31135 to 21.28084, saving model to drive/gru_NN_model.h5\n",
      "Epoch 24/100\n",
      "315191/315191 [==============================] - 510s 2ms/step - loss: 21.6258 - acc: 0.0554 - val_loss: 21.2583 - val_acc: 0.0794\n",
      "\n",
      "Epoch 00024: val_loss improved from 21.28084 to 21.25831, saving model to drive/gru_NN_model.h5\n",
      "Epoch 25/100\n",
      "315191/315191 [==============================] - 469s 1ms/step - loss: 21.5822 - acc: 0.0550 - val_loss: 21.2264 - val_acc: 0.0709\n",
      "\n",
      "Epoch 00025: val_loss improved from 21.25831 to 21.22638, saving model to drive/gru_NN_model.h5\n",
      "Epoch 26/100\n",
      "315191/315191 [==============================] - 528s 2ms/step - loss: 21.5489 - acc: 0.0565 - val_loss: 21.2038 - val_acc: 0.0790\n",
      "\n",
      "Epoch 00026: val_loss improved from 21.22638 to 21.20381, saving model to drive/gru_NN_model.h5\n",
      "Epoch 27/100\n",
      "315191/315191 [==============================] - 482s 2ms/step - loss: 21.5112 - acc: 0.0518 - val_loss: 21.1738 - val_acc: 0.0857\n",
      "\n",
      "Epoch 00027: val_loss improved from 21.20381 to 21.17381, saving model to drive/gru_NN_model.h5\n",
      "Epoch 28/100\n",
      "315191/315191 [==============================] - 537s 2ms/step - loss: 21.4893 - acc: 0.0547 - val_loss: 21.1784 - val_acc: 0.0738\n",
      "\n",
      "Epoch 00028: val_loss did not improve from 21.17381\n",
      "Epoch 29/100\n",
      "315191/315191 [==============================] - 463s 1ms/step - loss: 21.4578 - acc: 0.0517 - val_loss: 21.1276 - val_acc: 0.0756\n",
      "\n",
      "Epoch 00029: val_loss improved from 21.17381 to 21.12761, saving model to drive/gru_NN_model.h5\n",
      "Epoch 30/100\n",
      "315191/315191 [==============================] - 508s 2ms/step - loss: 21.4552 - acc: 0.0543 - val_loss: 21.1321 - val_acc: 0.0578\n",
      "\n",
      "Epoch 00030: val_loss did not improve from 21.12761\n",
      "Epoch 31/100\n",
      "315191/315191 [==============================] - 502s 2ms/step - loss: 21.4198 - acc: 0.0492 - val_loss: 21.1176 - val_acc: 0.0700\n",
      "\n",
      "Epoch 00031: val_loss improved from 21.12761 to 21.11758, saving model to drive/gru_NN_model.h5\n",
      "Epoch 32/100\n",
      "315191/315191 [==============================] - 487s 2ms/step - loss: 21.4024 - acc: 0.0499 - val_loss: 21.1094 - val_acc: 0.0670\n",
      "\n",
      "Epoch 00032: val_loss improved from 21.11758 to 21.10937, saving model to drive/gru_NN_model.h5\n",
      "Epoch 33/100\n",
      "315191/315191 [==============================] - 508s 2ms/step - loss: 21.3773 - acc: 0.0528 - val_loss: 21.0904 - val_acc: 0.0708\n",
      "\n",
      "Epoch 00033: val_loss improved from 21.10937 to 21.09045, saving model to drive/gru_NN_model.h5\n",
      "Epoch 34/100\n",
      "315191/315191 [==============================] - 469s 1ms/step - loss: 21.3414 - acc: 0.0504 - val_loss: 21.0171 - val_acc: 0.0727\n",
      "\n",
      "Epoch 00034: val_loss improved from 21.09045 to 21.01714, saving model to drive/gru_NN_model.h5\n",
      "Epoch 35/100\n",
      "315191/315191 [==============================] - 524s 2ms/step - loss: 21.2934 - acc: 0.0469 - val_loss: 20.9972 - val_acc: 0.0588\n",
      "\n",
      "Epoch 00035: val_loss improved from 21.01714 to 20.99721, saving model to drive/gru_NN_model.h5\n",
      "Epoch 36/100\n",
      "315191/315191 [==============================] - 486s 2ms/step - loss: 21.2716 - acc: 0.0492 - val_loss: 21.0031 - val_acc: 0.0697\n",
      "\n",
      "Epoch 00036: val_loss did not improve from 20.99721\n",
      "Epoch 37/100\n",
      "315191/315191 [==============================] - 519s 2ms/step - loss: 21.2579 - acc: 0.0494 - val_loss: 20.9921 - val_acc: 0.0678\n",
      "\n",
      "Epoch 00037: val_loss improved from 20.99721 to 20.99213, saving model to drive/gru_NN_model.h5\n",
      "Epoch 38/100\n",
      "315191/315191 [==============================] - 465s 1ms/step - loss: 21.2473 - acc: 0.0472 - val_loss: 20.9432 - val_acc: 0.0643\n",
      "\n",
      "Epoch 00038: val_loss improved from 20.99213 to 20.94323, saving model to drive/gru_NN_model.h5\n",
      "Epoch 39/100\n",
      "315191/315191 [==============================] - 526s 2ms/step - loss: 21.2276 - acc: 0.0484 - val_loss: 20.9633 - val_acc: 0.0573\n",
      "\n",
      "Epoch 00039: val_loss did not improve from 20.94323\n",
      "Epoch 40/100\n",
      "315191/315191 [==============================] - 484s 2ms/step - loss: 21.2148 - acc: 0.0456 - val_loss: 20.9453 - val_acc: 0.0592\n",
      "\n",
      "Epoch 00040: val_loss did not improve from 20.94323\n",
      "Epoch 41/100\n",
      "315191/315191 [==============================] - 525s 2ms/step - loss: 21.1909 - acc: 0.0447 - val_loss: 20.9251 - val_acc: 0.0640\n",
      "\n",
      "Epoch 00041: val_loss improved from 20.94323 to 20.92508, saving model to drive/gru_NN_model.h5\n",
      "Epoch 42/100\n",
      "315191/315191 [==============================] - 465s 1ms/step - loss: 21.1873 - acc: 0.0474 - val_loss: 20.9346 - val_acc: 0.0597\n",
      "\n",
      "Epoch 00042: val_loss did not improve from 20.92508\n",
      "Epoch 43/100\n",
      "315191/315191 [==============================] - 508s 2ms/step - loss: 21.1858 - acc: 0.0480 - val_loss: 20.9157 - val_acc: 0.0515\n",
      "\n",
      "Epoch 00043: val_loss improved from 20.92508 to 20.91574, saving model to drive/gru_NN_model.h5\n",
      "Epoch 44/100\n",
      "315191/315191 [==============================] - 495s 2ms/step - loss: 21.1720 - acc: 0.0479 - val_loss: 20.9152 - val_acc: 0.0620\n",
      "\n",
      "Epoch 00044: val_loss improved from 20.91574 to 20.91522, saving model to drive/gru_NN_model.h5\n",
      "Epoch 45/100\n",
      "315191/315191 [==============================] - 499s 2ms/step - loss: 21.1553 - acc: 0.0457 - val_loss: 20.9262 - val_acc: 0.0388\n",
      "\n",
      "Epoch 00045: val_loss did not improve from 20.91522\n",
      "Epoch 46/100\n",
      "315191/315191 [==============================] - 490s 2ms/step - loss: 21.2596 - acc: 0.0443 - val_loss: 20.9254 - val_acc: 0.0618\n",
      "\n",
      "Epoch 00046: val_loss did not improve from 20.91522\n",
      "Epoch 47/100\n",
      "315191/315191 [==============================] - 516s 2ms/step - loss: 21.1669 - acc: 0.0436 - val_loss: 20.8892 - val_acc: 0.0489\n",
      "\n",
      "Epoch 00047: val_loss improved from 20.91522 to 20.88918, saving model to drive/gru_NN_model.h5\n",
      "Epoch 48/100\n",
      "315191/315191 [==============================] - 469s 1ms/step - loss: 21.1337 - acc: 0.0461 - val_loss: 20.8755 - val_acc: 0.0559\n",
      "\n",
      "Epoch 00048: val_loss improved from 20.88918 to 20.87545, saving model to drive/gru_NN_model.h5\n",
      "Epoch 49/100\n",
      "315191/315191 [==============================] - 510s 2ms/step - loss: 21.1123 - acc: 0.0472 - val_loss: 20.8659 - val_acc: 0.0444\n",
      "\n",
      "Epoch 00049: val_loss improved from 20.87545 to 20.86595, saving model to drive/gru_NN_model.h5\n",
      "Epoch 50/100\n",
      "315191/315191 [==============================] - 491s 2ms/step - loss: 21.0949 - acc: 0.0447 - val_loss: 20.8656 - val_acc: 0.0428\n",
      "\n",
      "Epoch 00050: val_loss improved from 20.86595 to 20.86562, saving model to drive/gru_NN_model.h5\n",
      "Epoch 51/100\n",
      "315191/315191 [==============================] - 521s 2ms/step - loss: 21.0894 - acc: 0.0423 - val_loss: 20.8439 - val_acc: 0.0433\n",
      "\n",
      "Epoch 00051: val_loss improved from 20.86562 to 20.84385, saving model to drive/gru_NN_model.h5\n",
      "Epoch 52/100\n",
      "315191/315191 [==============================] - 464s 1ms/step - loss: 21.0714 - acc: 0.0428 - val_loss: 20.8342 - val_acc: 0.0433\n",
      "\n",
      "Epoch 00052: val_loss improved from 20.84385 to 20.83418, saving model to drive/gru_NN_model.h5\n",
      "Epoch 53/100\n",
      "315191/315191 [==============================] - 525s 2ms/step - loss: 21.0702 - acc: 0.0431 - val_loss: 20.8552 - val_acc: 0.0559\n",
      "\n",
      "Epoch 00053: val_loss did not improve from 20.83418\n",
      "Epoch 54/100\n",
      "315191/315191 [==============================] - 495s 2ms/step - loss: 21.0746 - acc: 0.0445 - val_loss: 20.9283 - val_acc: 0.0435\n",
      "\n",
      "Epoch 00054: val_loss did not improve from 20.83418\n",
      "Epoch 55/100\n",
      "315191/315191 [==============================] - 503s 2ms/step - loss: 21.0579 - acc: 0.0448 - val_loss: 20.8309 - val_acc: 0.0473\n",
      "\n",
      "Epoch 00055: val_loss improved from 20.83418 to 20.83088, saving model to drive/gru_NN_model.h5\n",
      "Epoch 56/100\n",
      "315191/315191 [==============================] - 485s 2ms/step - loss: 21.0485 - acc: 0.0429 - val_loss: 20.8268 - val_acc: 0.0506\n",
      "\n",
      "Epoch 00056: val_loss improved from 20.83088 to 20.82679, saving model to drive/gru_NN_model.h5\n",
      "Epoch 57/100\n",
      "315191/315191 [==============================] - 515s 2ms/step - loss: 21.0567 - acc: 0.0451 - val_loss: 20.8318 - val_acc: 0.0465\n",
      "\n",
      "Epoch 00057: val_loss did not improve from 20.82679\n",
      "Epoch 58/100\n",
      "315191/315191 [==============================] - 507s 2ms/step - loss: 21.0407 - acc: 0.0467 - val_loss: 20.8379 - val_acc: 0.0549\n",
      "\n",
      "Epoch 00058: val_loss did not improve from 20.82679\n",
      "Epoch 59/100\n",
      "315191/315191 [==============================] - 485s 2ms/step - loss: 21.0364 - acc: 0.0520 - val_loss: 20.8223 - val_acc: 0.0447\n",
      "\n",
      "Epoch 00059: val_loss improved from 20.82679 to 20.82229, saving model to drive/gru_NN_model.h5\n",
      "Epoch 60/100\n",
      "315191/315191 [==============================] - 492s 2ms/step - loss: 21.0269 - acc: 0.0481 - val_loss: 20.8116 - val_acc: 0.0482\n",
      "\n",
      "Epoch 00060: val_loss improved from 20.82229 to 20.81160, saving model to drive/gru_NN_model.h5\n",
      "Epoch 61/100\n",
      "315191/315191 [==============================] - 456s 1ms/step - loss: 21.0206 - acc: 0.0471 - val_loss: 20.8003 - val_acc: 0.0612\n",
      "\n",
      "Epoch 00061: val_loss improved from 20.81160 to 20.80028, saving model to drive/gru_NN_model.h5\n",
      "Epoch 62/100\n",
      "315191/315191 [==============================] - 456s 1ms/step - loss: 21.0210 - acc: 0.0523 - val_loss: 20.8168 - val_acc: 0.0509\n",
      "\n",
      "Epoch 00062: val_loss did not improve from 20.80028\n",
      "Epoch 63/100\n",
      "315191/315191 [==============================] - 458s 1ms/step - loss: 21.0159 - acc: 0.0494 - val_loss: 20.7981 - val_acc: 0.0572\n",
      "\n",
      "Epoch 00063: val_loss improved from 20.80028 to 20.79813, saving model to drive/gru_NN_model.h5\n",
      "Epoch 64/100\n",
      "315191/315191 [==============================] - 487s 2ms/step - loss: 20.9967 - acc: 0.0511 - val_loss: 20.7982 - val_acc: 0.0550\n",
      "\n",
      "Epoch 00064: val_loss did not improve from 20.79813\n",
      "Epoch 65/100\n",
      "315191/315191 [==============================] - 486s 2ms/step - loss: 20.9914 - acc: 0.0491 - val_loss: 20.7983 - val_acc: 0.0537\n",
      "\n",
      "Epoch 00065: val_loss did not improve from 20.79813\n",
      "Epoch 66/100\n",
      "315191/315191 [==============================] - 487s 2ms/step - loss: 20.9872 - acc: 0.0522 - val_loss: 20.7785 - val_acc: 0.0554\n",
      "\n",
      "Epoch 00066: val_loss improved from 20.79813 to 20.77847, saving model to drive/gru_NN_model.h5\n",
      "Epoch 67/100\n",
      "315191/315191 [==============================] - 507s 2ms/step - loss: 20.9923 - acc: 0.0470 - val_loss: 20.7904 - val_acc: 0.0540\n",
      "\n",
      "Epoch 00067: val_loss did not improve from 20.77847\n",
      "Epoch 68/100\n",
      "315191/315191 [==============================] - 501s 2ms/step - loss: 20.9880 - acc: 0.0496 - val_loss: 20.7958 - val_acc: 0.0566\n",
      "\n",
      "Epoch 00068: val_loss did not improve from 20.77847\n",
      "Epoch 69/100\n",
      "315191/315191 [==============================] - 490s 2ms/step - loss: 20.9863 - acc: 0.0498 - val_loss: 20.7710 - val_acc: 0.0523\n",
      "\n",
      "Epoch 00069: val_loss improved from 20.77847 to 20.77101, saving model to drive/gru_NN_model.h5\n",
      "Epoch 70/100\n",
      "315191/315191 [==============================] - 523s 2ms/step - loss: 20.9723 - acc: 0.0530 - val_loss: 20.7828 - val_acc: 0.0652\n",
      "\n",
      "Epoch 00070: val_loss did not improve from 20.77101\n",
      "Epoch 71/100\n",
      "315191/315191 [==============================] - 478s 2ms/step - loss: 20.9677 - acc: 0.0535 - val_loss: 20.7862 - val_acc: 0.0695\n",
      "\n",
      "Epoch 00071: val_loss did not improve from 20.77101\n",
      "Epoch 72/100\n",
      "315191/315191 [==============================] - 524s 2ms/step - loss: 20.9735 - acc: 0.0530 - val_loss: 20.7857 - val_acc: 0.0627\n",
      "\n",
      "Epoch 00072: val_loss did not improve from 20.77101\n",
      "Epoch 73/100\n",
      "315191/315191 [==============================] - 490s 2ms/step - loss: 20.9615 - acc: 0.0511 - val_loss: 20.7821 - val_acc: 0.0576\n",
      "\n",
      "Epoch 00073: val_loss did not improve from 20.77101\n",
      "Epoch 74/100\n",
      "315191/315191 [==============================] - 496s 2ms/step - loss: 20.9676 - acc: 0.0487 - val_loss: 20.7699 - val_acc: 0.0568\n",
      "\n",
      "Epoch 00074: val_loss improved from 20.77101 to 20.76988, saving model to drive/gru_NN_model.h5\n",
      "Epoch 75/100\n",
      "315191/315191 [==============================] - 510s 2ms/step - loss: 20.9436 - acc: 0.0470 - val_loss: 20.7525 - val_acc: 0.0501\n",
      "\n",
      "Epoch 00075: val_loss improved from 20.76988 to 20.75253, saving model to drive/gru_NN_model.h5\n",
      "Epoch 76/100\n",
      "315191/315191 [==============================] - 508s 2ms/step - loss: 20.9414 - acc: 0.0434 - val_loss: 20.7603 - val_acc: 0.0521\n",
      "\n",
      "Epoch 00076: val_loss did not improve from 20.75253\n",
      "Epoch 77/100\n",
      "315191/315191 [==============================] - 489s 2ms/step - loss: 20.9331 - acc: 0.0457 - val_loss: 20.7536 - val_acc: 0.0573\n",
      "\n",
      "Epoch 00077: val_loss did not improve from 20.75253\n",
      "Epoch 78/100\n",
      "315191/315191 [==============================] - 498s 2ms/step - loss: 20.9311 - acc: 0.0448 - val_loss: 20.7469 - val_acc: 0.0579\n",
      "\n",
      "Epoch 00078: val_loss improved from 20.75253 to 20.74689, saving model to drive/gru_NN_model.h5\n",
      "Epoch 79/100\n",
      "315191/315191 [==============================] - 490s 2ms/step - loss: 20.9261 - acc: 0.0487 - val_loss: 20.7449 - val_acc: 0.0655\n",
      "\n",
      "Epoch 00079: val_loss improved from 20.74689 to 20.74492, saving model to drive/gru_NN_model.h5\n",
      "Epoch 80/100\n",
      "315191/315191 [==============================] - 513s 2ms/step - loss: 20.9364 - acc: 0.0511 - val_loss: 20.7577 - val_acc: 0.0615\n",
      "\n",
      "Epoch 00080: val_loss did not improve from 20.74492\n",
      "Epoch 81/100\n",
      "315191/315191 [==============================] - 508s 2ms/step - loss: 20.9356 - acc: 0.0500 - val_loss: 20.7575 - val_acc: 0.0581\n",
      "\n",
      "Epoch 00081: val_loss did not improve from 20.74492\n",
      "Epoch 82/100\n",
      "315191/315191 [==============================] - 485s 2ms/step - loss: 20.9326 - acc: 0.0507 - val_loss: 20.7456 - val_acc: 0.0618\n",
      "\n",
      "Epoch 00082: val_loss did not improve from 20.74492\n",
      "Epoch 83/100\n",
      "315191/315191 [==============================] - 514s 2ms/step - loss: 20.9164 - acc: 0.0512 - val_loss: 20.7334 - val_acc: 0.0669\n",
      "\n",
      "Epoch 00083: val_loss improved from 20.74492 to 20.73344, saving model to drive/gru_NN_model.h5\n",
      "Epoch 84/100\n",
      "151552/315191 [=============>................] - ETA: 4:02 - loss: 20.9115 - acc: 0.0497"
     ]
    }
   ],
   "source": [
    "early_stopping_monitor = EarlyStopping(patience=10)\n",
    "checkpointer = ModelCheckpoint(filepath='gru_NN_model.h5', verbose=1, save_best_only=True)\n",
    "\n",
    "history_gru_NN = gru_NN.fit([X_train_numeric, X_train_text], y_train, epochs=100, batch_size=2048, validation_split=0.1, callbacks=[early_stopping_monitor, checkpointer])"
   ]
  },
  {
   "cell_type": "code",
   "execution_count": 13,
   "metadata": {
    "colab": {
     "base_uri": "https://localhost:8080/",
     "height": 34
    },
    "colab_type": "code",
    "executionInfo": {
     "elapsed": 7316,
     "status": "ok",
     "timestamp": 1534737111374,
     "user": {
      "displayName": "Albert Lee",
      "photoUrl": "//lh3.googleusercontent.com/-f0u8obCCk_w/AAAAAAAAAAI/AAAAAAAAAxs/83E22s4mtyM/s50-c-k-no/photo.jpg",
      "userId": "109969660738913262150"
     },
     "user_tz": 240
    },
    "id": "Tf46X5w4ctiR",
    "outputId": "36127bd6-6659-435b-80cc-a4775302e3aa"
   },
   "outputs": [
    {
     "name": "stdout",
     "output_type": "stream",
     "text": [
      "Loaded model from disk\n"
     ]
    }
   ],
   "source": [
    "# load json and create model\n",
    "with open('gru_NN_model.json', 'r') as json_file:\n",
    "    loaded_model_json = json_file.read()\n",
    "\n",
    "gru_NN = model_from_json(loaded_model_json)\n",
    "# load weights into model\n",
    "gru_NN.load_weights('gru_NN_model.h5')\n",
    "gru_NN.compile(optimizer='adam', loss='categorical_crossentropy', metrics=['accuracy'])"
   ]
  },
  {
   "cell_type": "code",
   "execution_count": 14,
   "metadata": {
    "colab": {
     "base_uri": "https://localhost:8080/",
     "height": 2554
    },
    "colab_type": "code",
    "executionInfo": {
     "elapsed": 16503025,
     "status": "ok",
     "timestamp": 1534753617180,
     "user": {
      "displayName": "Albert Lee",
      "photoUrl": "//lh3.googleusercontent.com/-f0u8obCCk_w/AAAAAAAAAAI/AAAAAAAAAxs/83E22s4mtyM/s50-c-k-no/photo.jpg",
      "userId": "109969660738913262150"
     },
     "user_tz": 240
    },
    "id": "KSnTYHWBdJed",
    "outputId": "ddf8f6f9-75f6-42ba-c6c5-292c7fce6179"
   },
   "outputs": [
    {
     "name": "stdout",
     "output_type": "stream",
     "text": [
      "Train on 315191 samples, validate on 35022 samples\n",
      "Epoch 1/100\n",
      "315191/315191 [==============================] - 469s 1ms/step - loss: 20.9087 - acc: 0.0494 - val_loss: 20.7300 - val_acc: 0.0644\n",
      "\n",
      "Epoch 00001: val_loss improved from inf to 20.73003, saving model to drive/gru_NN_model2.h5\n",
      "Epoch 2/100\n",
      "315191/315191 [==============================] - 455s 1ms/step - loss: 20.9090 - acc: 0.0519 - val_loss: 20.7396 - val_acc: 0.0618\n",
      "\n",
      "Epoch 00002: val_loss did not improve from 20.73003\n",
      "Epoch 3/100\n",
      "315191/315191 [==============================] - 454s 1ms/step - loss: 20.9016 - acc: 0.0503 - val_loss: 20.7190 - val_acc: 0.0688\n",
      "\n",
      "Epoch 00003: val_loss improved from 20.73003 to 20.71900, saving model to drive/gru_NN_model2.h5\n",
      "Epoch 4/100\n",
      "315191/315191 [==============================] - 448s 1ms/step - loss: 20.8979 - acc: 0.0507 - val_loss: 20.7328 - val_acc: 0.0578\n",
      "\n",
      "Epoch 00004: val_loss did not improve from 20.71900\n",
      "Epoch 5/100\n",
      "315191/315191 [==============================] - 454s 1ms/step - loss: 20.8991 - acc: 0.0491 - val_loss: 20.7290 - val_acc: 0.0616\n",
      "\n",
      "Epoch 00005: val_loss did not improve from 20.71900\n",
      "Epoch 6/100\n",
      "315191/315191 [==============================] - 452s 1ms/step - loss: 20.8965 - acc: 0.0473 - val_loss: 20.7328 - val_acc: 0.0694\n",
      "\n",
      "Epoch 00006: val_loss did not improve from 20.71900\n",
      "Epoch 7/100\n",
      "315191/315191 [==============================] - 445s 1ms/step - loss: 20.8934 - acc: 0.0486 - val_loss: 20.7264 - val_acc: 0.0641\n",
      "\n",
      "Epoch 00007: val_loss did not improve from 20.71900\n",
      "Epoch 8/100\n",
      "315191/315191 [==============================] - 458s 1ms/step - loss: 20.8924 - acc: 0.0476 - val_loss: 20.7304 - val_acc: 0.0657\n",
      "\n",
      "Epoch 00008: val_loss did not improve from 20.71900\n",
      "Epoch 9/100\n",
      "315191/315191 [==============================] - 440s 1ms/step - loss: 20.8922 - acc: 0.0484 - val_loss: 20.7253 - val_acc: 0.0663\n",
      "\n",
      "Epoch 00009: val_loss did not improve from 20.71900\n",
      "Epoch 10/100\n",
      "315191/315191 [==============================] - 445s 1ms/step - loss: 20.8946 - acc: 0.0494 - val_loss: 20.7286 - val_acc: 0.0626\n",
      "\n",
      "Epoch 00010: val_loss did not improve from 20.71900\n",
      "Epoch 11/100\n",
      "315191/315191 [==============================] - 455s 1ms/step - loss: 20.8876 - acc: 0.0488 - val_loss: 20.7260 - val_acc: 0.0617\n",
      "\n",
      "Epoch 00011: val_loss did not improve from 20.71900\n",
      "Epoch 12/100\n",
      "315191/315191 [==============================] - 441s 1ms/step - loss: 20.8854 - acc: 0.0494 - val_loss: 20.7238 - val_acc: 0.0648\n",
      "\n",
      "Epoch 00012: val_loss did not improve from 20.71900\n",
      "Epoch 13/100\n",
      "315191/315191 [==============================] - 449s 1ms/step - loss: 20.8805 - acc: 0.0479 - val_loss: 20.7119 - val_acc: 0.0592\n",
      "\n",
      "Epoch 00013: val_loss improved from 20.71900 to 20.71190, saving model to drive/gru_NN_model2.h5\n",
      "Epoch 14/100\n",
      "315191/315191 [==============================] - 454s 1ms/step - loss: 20.8830 - acc: 0.0460 - val_loss: 20.6988 - val_acc: 0.0556\n",
      "\n",
      "Epoch 00014: val_loss improved from 20.71190 to 20.69881, saving model to drive/gru_NN_model2.h5\n",
      "Epoch 15/100\n",
      "315191/315191 [==============================] - 441s 1ms/step - loss: 20.8742 - acc: 0.0457 - val_loss: 20.7255 - val_acc: 0.0552\n",
      "\n",
      "Epoch 00015: val_loss did not improve from 20.69881\n",
      "Epoch 16/100\n",
      "315191/315191 [==============================] - 462s 1ms/step - loss: 20.8835 - acc: 0.0446 - val_loss: 20.7144 - val_acc: 0.0646\n",
      "\n",
      "Epoch 00016: val_loss did not improve from 20.69881\n",
      "Epoch 17/100\n",
      "315191/315191 [==============================] - 445s 1ms/step - loss: 20.8802 - acc: 0.0517 - val_loss: 20.7183 - val_acc: 0.0664\n",
      "\n",
      "Epoch 00017: val_loss did not improve from 20.69881\n",
      "Epoch 18/100\n",
      "315191/315191 [==============================] - 450s 1ms/step - loss: 20.8705 - acc: 0.0514 - val_loss: 20.6990 - val_acc: 0.0615\n",
      "\n",
      "Epoch 00018: val_loss did not improve from 20.69881\n",
      "Epoch 19/100\n",
      "315191/315191 [==============================] - 450s 1ms/step - loss: 20.8645 - acc: 0.0479 - val_loss: 20.7143 - val_acc: 0.0659\n",
      "\n",
      "Epoch 00019: val_loss did not improve from 20.69881\n",
      "Epoch 20/100\n",
      "315191/315191 [==============================] - 442s 1ms/step - loss: 20.8733 - acc: 0.0477 - val_loss: 20.7228 - val_acc: 0.0657\n",
      "\n",
      "Epoch 00020: val_loss did not improve from 20.69881\n",
      "Epoch 21/100\n",
      "315191/315191 [==============================] - 457s 1ms/step - loss: 20.8674 - acc: 0.0496 - val_loss: 20.7207 - val_acc: 0.0670\n",
      "\n",
      "Epoch 00021: val_loss did not improve from 20.69881\n",
      "Epoch 22/100\n",
      "315191/315191 [==============================] - 440s 1ms/step - loss: 20.8606 - acc: 0.0493 - val_loss: 20.6974 - val_acc: 0.0614\n",
      "\n",
      "Epoch 00022: val_loss improved from 20.69881 to 20.69743, saving model to drive/gru_NN_model2.h5\n",
      "Epoch 23/100\n",
      "315191/315191 [==============================] - 453s 1ms/step - loss: 20.8515 - acc: 0.0486 - val_loss: 20.6995 - val_acc: 0.0658\n",
      "\n",
      "Epoch 00023: val_loss did not improve from 20.69743\n",
      "Epoch 24/100\n",
      "315191/315191 [==============================] - 447s 1ms/step - loss: 20.8579 - acc: 0.0528 - val_loss: 20.6900 - val_acc: 0.0672\n",
      "\n",
      "Epoch 00024: val_loss improved from 20.69743 to 20.68996, saving model to drive/gru_NN_model2.h5\n",
      "Epoch 25/100\n",
      "315191/315191 [==============================] - 447s 1ms/step - loss: 20.8423 - acc: 0.0489 - val_loss: 20.6883 - val_acc: 0.0665\n",
      "\n",
      "Epoch 00025: val_loss improved from 20.68996 to 20.68834, saving model to drive/gru_NN_model2.h5\n",
      "Epoch 26/100\n",
      "315191/315191 [==============================] - 459s 1ms/step - loss: 20.8433 - acc: 0.0467 - val_loss: 20.6839 - val_acc: 0.0606\n",
      "\n",
      "Epoch 00026: val_loss improved from 20.68834 to 20.68386, saving model to drive/gru_NN_model2.h5\n",
      "Epoch 27/100\n",
      "315191/315191 [==============================] - 440s 1ms/step - loss: 20.8436 - acc: 0.0480 - val_loss: 20.7008 - val_acc: 0.0627\n",
      "\n",
      "Epoch 00027: val_loss did not improve from 20.68386\n",
      "Epoch 28/100\n",
      "315191/315191 [==============================] - 455s 1ms/step - loss: 20.8481 - acc: 0.0498 - val_loss: 20.7215 - val_acc: 0.0715\n",
      "\n",
      "Epoch 00028: val_loss did not improve from 20.68386\n",
      "Epoch 29/100\n",
      "315191/315191 [==============================] - 457s 1ms/step - loss: 20.8588 - acc: 0.0529 - val_loss: 20.7018 - val_acc: 0.0624\n",
      "\n",
      "Epoch 00029: val_loss did not improve from 20.68386\n",
      "Epoch 30/100\n",
      "315191/315191 [==============================] - 472s 1ms/step - loss: 20.8422 - acc: 0.0497 - val_loss: 20.6922 - val_acc: 0.0748\n",
      "\n",
      "Epoch 00030: val_loss did not improve from 20.68386\n",
      "Epoch 31/100\n",
      "315191/315191 [==============================] - 488s 2ms/step - loss: 20.8382 - acc: 0.0495 - val_loss: 20.6918 - val_acc: 0.0646\n",
      "\n",
      "Epoch 00031: val_loss did not improve from 20.68386\n",
      "Epoch 32/100\n",
      "315191/315191 [==============================] - 473s 2ms/step - loss: 20.8366 - acc: 0.0510 - val_loss: 20.6985 - val_acc: 0.0745\n",
      "\n",
      "Epoch 00032: val_loss did not improve from 20.68386\n",
      "Epoch 33/100\n",
      "315191/315191 [==============================] - 476s 2ms/step - loss: 20.8538 - acc: 0.0546 - val_loss: 20.6881 - val_acc: 0.0714\n",
      "\n",
      "Epoch 00033: val_loss did not improve from 20.68386\n",
      "Epoch 34/100\n",
      "315191/315191 [==============================] - 479s 2ms/step - loss: 20.8346 - acc: 0.0526 - val_loss: 20.6947 - val_acc: 0.0637\n",
      "\n",
      "Epoch 00034: val_loss did not improve from 20.68386\n",
      "Epoch 35/100\n",
      "315191/315191 [==============================] - 471s 1ms/step - loss: 20.8345 - acc: 0.0521 - val_loss: 20.6856 - val_acc: 0.0702\n",
      "\n",
      "Epoch 00035: val_loss did not improve from 20.68386\n",
      "Epoch 36/100\n",
      "315191/315191 [==============================] - 487s 2ms/step - loss: 20.8513 - acc: 0.0557 - val_loss: 20.7084 - val_acc: 0.0724\n",
      "\n",
      "Epoch 00036: val_loss did not improve from 20.68386\n"
     ]
    }
   ],
   "source": [
    "early_stopping_monitor = EarlyStopping(patience=10)\n",
    "checkpointer = ModelCheckpoint(filepath='drive/gru_NN_model2.h5', verbose=1, save_best_only=True)\n",
    "\n",
    "history_gru_NN = gru_NN.fit([X_train_numeric, X_train_text], y_train, epochs=100, batch_size=2048, validation_split=0.1, callbacks=[early_stopping_monitor, checkpointer])"
   ]
  },
  {
   "cell_type": "code",
   "execution_count": 15,
   "metadata": {
    "colab": {
     "base_uri": "https://localhost:8080/",
     "height": 376
    },
    "colab_type": "code",
    "executionInfo": {
     "elapsed": 2643,
     "status": "ok",
     "timestamp": 1534753619927,
     "user": {
      "displayName": "Albert Lee",
      "photoUrl": "//lh3.googleusercontent.com/-f0u8obCCk_w/AAAAAAAAAAI/AAAAAAAAAxs/83E22s4mtyM/s50-c-k-no/photo.jpg",
      "userId": "109969660738913262150"
     },
     "user_tz": 240
    },
    "id": "Aqfq_Q9VDf5B",
    "outputId": "d5d77487-55f3-4297-8bd6-439d5df749f5"
   },
   "outputs": [
    {
     "data": {
      "image/png": "[encoded data removed]",
      "text/plain": [
       "<matplotlib.figure.Figure at 0x7fbe011afef0>"
      ]
     },
     "metadata": {
      "tags": []
     },
     "output_type": "display_data"
    }
   ],
   "source": [
    "plt.plot(history_gru_NN.history['loss'])\n",
    "plt.plot(history_gru_NN.history['val_loss'])\n",
    "plt.title('model loss')\n",
    "plt.ylabel('loss')\n",
    "plt.xlabel('epoch')\n",
    "plt.legend(['train', 'test'], loc='upper left')\n",
    "plt.show()"
   ]
  },
  {
   "cell_type": "markdown",
   "metadata": {},
   "source": [
    "# Load pre-trained model\n",
    "Run cell below if model has already been trained, and json and h5 files are available"
   ]
  },
  {
   "cell_type": "code",
   "execution_count": 7,
   "metadata": {
    "colab": {},
    "colab_type": "code",
    "id": "MzyY-6uQNQCT"
   },
   "outputs": [],
   "source": [
    "# load json and create model\n",
    "with open('gru_NN_model.json', 'r') as json_file:\n",
    "    loaded_model_json = json_file.read()\n",
    "gru_NN = model_from_json(loaded_model_json)\n",
    "\n",
    "gru_NN.load_weights('gru_NN_model.h5')"
   ]
  },
  {
   "cell_type": "markdown",
   "metadata": {},
   "source": [
    "# Create predictions on test and validation sets"
   ]
  },
  {
   "cell_type": "code",
   "execution_count": 8,
   "metadata": {
    "colab": {},
    "colab_type": "code",
    "id": "AlXYzPrd5eP4"
   },
   "outputs": [],
   "source": [
    "label_class_counts = {\n",
    "    'Function': [0, 37], \n",
    "    'Object_Type': [37, 48], \n",
    "    'Operating_Status': [48, 51], \n",
    "    'Position_Type': [51, 76], \n",
    "    'Pre_K': [76, 79], \n",
    "    'Reporting': [79, 82], \n",
    "    'Sharing': [82, 87], \n",
    "    'Student_Type': [87, 96], \n",
    "    'Use': [96, 104]\n",
    "}\n",
    "\n",
    "scores = {}\n",
    "val_predictions = gru_NN.predict([X_val_numeric, X_val_text])\n",
    "\n",
    "# Calculate validation logloss for each label\n",
    "for label, indices in label_class_counts.items():\n",
    "    # Get values for specific label\n",
    "    start_idx = indices[0]\n",
    "    end_idx = indices[1]\n",
    "    y_val_label = y_val[:, start_idx:end_idx]\n",
    "    val_predictions_label = val_predictions[:, start_idx:end_idx]\n",
    "    \n",
    "    \n",
    "    # Get logloss score of mode\n",
    "    scores[label] = log_loss(y_val_label, val_predictions_label)"
   ]
  },
  {
   "cell_type": "code",
   "execution_count": 9,
   "metadata": {
    "colab": {},
    "colab_type": "code",
    "id": "c6d9EwoxGX3z"
   },
   "outputs": [],
   "source": [
    "# Generate predictions for test set\n",
    "predictions = gru_NN.predict([X_test_numeric, X_test_text])"
   ]
  },
  {
   "cell_type": "markdown",
   "metadata": {
    "colab_type": "text",
    "id": "_-pJMVIr5eP7"
   },
   "source": [
    "# Save score and predictions"
   ]
  },
  {
   "cell_type": "code",
   "execution_count": 10,
   "metadata": {
    "colab": {},
    "colab_type": "code",
    "id": "ngyDlM8A5eP7"
   },
   "outputs": [],
   "source": [
    "# Save predictions for test set\n",
    "label = ['Function',\n",
    "         'Object_Type',\n",
    "         'Operating_Status',\n",
    "         'Position_Type',\n",
    "         'Pre_K',\n",
    "         'Reporting',\n",
    "         'Sharing',\n",
    "         'Student_Type',\n",
    "         'Use']\n",
    "y = pd.get_dummies(data_train[label]).astype('float64')\n",
    "\n",
    "submission = pd.DataFrame(predictions, index=data_test.index, columns=y.columns)\n",
    "submission.to_csv('gru_NN_model.csv')"
   ]
  },
  {
   "cell_type": "code",
   "execution_count": 11,
   "metadata": {
    "colab": {
     "base_uri": "https://localhost:8080/",
     "height": 174
    },
    "colab_type": "code",
    "executionInfo": {
     "elapsed": 119,
     "status": "ok",
     "timestamp": 1534756144193,
     "user": {
      "displayName": "Albert Lee",
      "photoUrl": "//lh3.googleusercontent.com/-f0u8obCCk_w/AAAAAAAAAAI/AAAAAAAAAxs/83E22s4mtyM/s50-c-k-no/photo.jpg",
      "userId": "109969660738913262150"
     },
     "user_tz": 240
    },
    "id": "uRHjIso15eP8",
    "outputId": "d2d10c61-9775-4300-c17b-c9342d0370f9"
   },
   "outputs": [
    {
     "data": {
      "text/plain": [
       "{'Function': 0.20893736624555154,\n",
       " 'Object_Type': 0.0559802555353085,\n",
       " 'Operating_Status': 0.060882893733789065,\n",
       " 'Position_Type': 0.07964425126465846,\n",
       " 'Pre_K': 0.03725828551658394,\n",
       " 'Reporting': 0.07329710876069019,\n",
       " 'Sharing': 0.1294886757837233,\n",
       " 'Student_Type': 0.10264402130957304,\n",
       " 'Use': 0.14898147769912726}"
      ]
     },
     "execution_count": 11,
     "metadata": {},
     "output_type": "execute_result"
    }
   ],
   "source": [
    "scores"
   ]
  },
  {
   "cell_type": "code",
   "execution_count": 12,
   "metadata": {
    "colab": {
     "base_uri": "https://localhost:8080/",
     "height": 34
    },
    "colab_type": "code",
    "executionInfo": {
     "elapsed": 340,
     "status": "ok",
     "timestamp": 1534756144593,
     "user": {
      "displayName": "Albert Lee",
      "photoUrl": "//lh3.googleusercontent.com/-f0u8obCCk_w/AAAAAAAAAAI/AAAAAAAAAxs/83E22s4mtyM/s50-c-k-no/photo.jpg",
      "userId": "109969660738913262150"
     },
     "user_tz": 240
    },
    "id": "yQd8s_q85eP_",
    "outputId": "d7d512b7-d307-4b6f-99e2-94b5674f5856"
   },
   "outputs": [
    {
     "data": {
      "text/plain": [
       "0.09967937064988948"
      ]
     },
     "execution_count": 12,
     "metadata": {},
     "output_type": "execute_result"
    }
   ],
   "source": [
    "np.mean([score for score in scores.values()])"
   ]
  },
  {
   "cell_type": "code",
   "execution_count": 13,
   "metadata": {
    "colab": {},
    "colab_type": "code",
    "id": "DQxW3L5o5eQC"
   },
   "outputs": [],
   "source": [
    "# Save scores\n",
    "with open('gru_NN_score.json', 'w') as file:\n",
    "     file.write(json.dumps(scores))"
   ]
  },
  {
   "cell_type": "code",
   "execution_count": null,
   "metadata": {},
   "outputs": [],
   "source": []
  }
 ],
 "metadata": {
  "accelerator": "GPU",
  "colab": {
   "collapsed_sections": [],
   "name": "GRU_NN_model.ipynb",
   "provenance": [
    {
     "file_id": "113YK-k0PrWBbtiUjQp7qB4-fLr_nyaMR",
     "timestamp": 1534630643463
    }
   ],
   "version": "0.3.2"
  },
  "kernelspec": {
   "display_name": "Python 3",
   "language": "python",
   "name": "python3"
  },
  "language_info": {
   "codemirror_mode": {
    "name": "ipython",
    "version": 3
   },
   "file_extension": ".py",
   "mimetype": "text/x-python",
   "name": "python",
   "nbconvert_exporter": "python",
   "pygments_lexer": "ipython3",
   "version": "3.6.5"
  }
 },
 "nbformat": 4,
 "nbformat_minor": 2
}
