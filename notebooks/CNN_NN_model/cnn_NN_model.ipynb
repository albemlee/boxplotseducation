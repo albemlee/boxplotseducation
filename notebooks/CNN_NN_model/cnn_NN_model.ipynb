{
 "cells": [
  {
   "cell_type": "markdown",
   "metadata": {
    "colab_type": "text",
    "id": "gnWCGPLQ5ePG"
   },
   "source": [
    "# Setup Notebook"
   ]
  },
  {
   "cell_type": "code",
   "execution_count": 1,
   "metadata": {
    "colab": {
     "base_uri": "https://localhost:8080/",
     "height": 102
    },
    "colab_type": "code",
    "executionInfo": {
     "elapsed": 1618,
     "status": "ok",
     "timestamp": 1534606028924,
     "user": {
      "displayName": "Albert Lee",
      "photoUrl": "//lh3.googleusercontent.com/-f0u8obCCk_w/AAAAAAAAAAI/AAAAAAAAAxs/83E22s4mtyM/s50-c-k-no/photo.jpg",
      "userId": "109969660738913262150"
     },
     "user_tz": 240
    },
    "id": "Nrg9OIDy5ePJ",
    "outputId": "9a9200d1-e791-4465-fd4c-ff5f390f84a9"
   },
   "outputs": [
    {
     "name": "stderr",
     "output_type": "stream",
     "text": [
      "Using TensorFlow backend.\n"
     ]
    }
   ],
   "source": [
    "import warnings\n",
    "warnings.simplefilter('ignore')\n",
    "\n",
    "# To load data\n",
    "import zipfile\n",
    "import numpy as np\n",
    "import pandas as pd\n",
    "\n",
    "# For text processing\n",
    "import re\n",
    "import nltk\n",
    "# nltk.download('stopwords')\n",
    "# nltk.download('wordnet')\n",
    "from nltk.corpus import stopwords\n",
    "from nltk.stem.wordnet import WordNetLemmatizer\n",
    "from keras.preprocessing.text import Tokenizer\n",
    "from keras.preprocessing.sequence import pad_sequences\n",
    "from sklearn.preprocessing import Imputer\n",
    "from scipy import sparse\n",
    "from sklearn.model_selection import train_test_split\n",
    "\n",
    "# To build model\n",
    "import keras\n",
    "from keras.layers import Dense, concatenate, Input, Dropout, Embedding, Flatten, Bidirectional, GRU, Conv1D, MaxPooling1D\n",
    "from keras.models import Model\n",
    "\n",
    "# To train model\n",
    "from keras.callbacks import EarlyStopping\n",
    "from keras.models import model_from_json\n",
    "from keras.callbacks import ModelCheckpoint\n",
    "\n",
    "# To evaluate model\n",
    "import matplotlib.pyplot as plt\n",
    "from sklearn.metrics import log_loss\n",
    "\n",
    "# To track time elapsed\n",
    "import time\n",
    "\n",
    "# To save results\n",
    "import dill\n",
    "import json\n",
    "import pickle"
   ]
  },
  {
   "cell_type": "markdown",
   "metadata": {
    "colab_type": "text",
    "id": "uPLEdpRv5ePM"
   },
   "source": [
    "# Load Data"
   ]
  },
  {
   "cell_type": "code",
   "execution_count": 2,
   "metadata": {
    "colab": {},
    "colab_type": "code",
    "id": "YF3nUD615ePM"
   },
   "outputs": [],
   "source": [
    "def load_data():\n",
    "    \"\"\"\n",
    "    Return pandas dataframe data_train: training data (features + labels)\n",
    "    Return pandas dataframe data_test: test data (only features)\n",
    "    \n",
    "    Required Libraries: zipfile, pandas\n",
    "    \"\"\"\n",
    "    \n",
    "    # Load zipped folder with data files\n",
    "    resource_archive = zipfile.ZipFile('resources.zip', 'r')\n",
    "\n",
    "    # Load testing data\n",
    "    data_test = pd.read_csv(resource_archive.open('TestData.csv'), \n",
    "                            dtype={\n",
    "                                'Object_Description': str, \n",
    "                                'Program_Description': str, \n",
    "                                'SubFund_Description': str, \n",
    "                                'Job_Title_Description': str, \n",
    "                                'Facility_or_Department': str,\n",
    "                                'Sub_Object_Description': str, \n",
    "                                'Location_Description': str, \n",
    "                                'FTE': float,\n",
    "                                'Function_Description': str, \n",
    "                                'Position_Extra': str, \n",
    "                                'Text_4': str, \n",
    "                                'Total': float, \n",
    "                                'Text_2': str,\n",
    "                                'Text_3': str, \n",
    "                                'Fund_Description': str, \n",
    "                                'Text_1': str\n",
    "                            },\n",
    "                            index_col=0)\n",
    "\n",
    "    # Load training data\n",
    "    data_train = pd.read_csv(resource_archive.open('TrainingData.csv'), \n",
    "                            dtype={\n",
    "                                'Object_Description': str, \n",
    "                                'Program_Description': str, \n",
    "                                'SubFund_Description': str, \n",
    "                                'Job_Title_Description': str, \n",
    "                                'Facility_or_Department': str,\n",
    "                                'Sub_Object_Description': str, \n",
    "                                'Location_Description': str, \n",
    "                                'FTE': float,\n",
    "                                'Function_Description': str, \n",
    "                                'Position_Extra': str, \n",
    "                                'Text_4': str, \n",
    "                                'Total': float, \n",
    "                                'Text_2': str,\n",
    "                                'Text_3': str, \n",
    "                                'Fund_Description': str, \n",
    "                                'Text_1': str,\n",
    "                                'Function': 'category',\n",
    "                                'Object_Type': 'category',\n",
    "                                'Operating_Status': 'category',\n",
    "                                'Position_Type': 'category',\n",
    "                                'Pre_K': 'category',\n",
    "                                'Reporting': 'category',\n",
    "                                'Sharing': 'category',\n",
    "                                'Student_Type': 'category',\n",
    "                                'Use': 'category',\n",
    "                            },\n",
    "                             index_col=0)\n",
    "    \n",
    "    return data_train, data_test"
   ]
  },
  {
   "cell_type": "code",
   "execution_count": 3,
   "metadata": {
    "colab": {
     "base_uri": "https://localhost:8080/",
     "height": 51
    },
    "colab_type": "code",
    "executionInfo": {
     "elapsed": 2871,
     "status": "ok",
     "timestamp": 1534606036665,
     "user": {
      "displayName": "Albert Lee",
      "photoUrl": "//lh3.googleusercontent.com/-f0u8obCCk_w/AAAAAAAAAAI/AAAAAAAAAxs/83E22s4mtyM/s50-c-k-no/photo.jpg",
      "userId": "109969660738913262150"
     },
     "user_tz": 240
    },
    "id": "GVz1rkaX5ePP",
    "outputId": "d8a0ba71-d2fe-4f27-e579-5c0a5b3c4221"
   },
   "outputs": [
    {
     "name": "stdout",
     "output_type": "stream",
     "text": [
      "data_train shape: (400277, 25)\n",
      "data_test shape: (50064, 16)\n"
     ]
    }
   ],
   "source": [
    "data_train, data_test = load_data()\n",
    "print('data_train shape:', data_train.shape)\n",
    "print('data_test shape:', data_test.shape)"
   ]
  },
  {
   "cell_type": "code",
   "execution_count": 4,
   "metadata": {
    "colab": {},
    "colab_type": "code",
    "id": "i203UxGy5ePT"
   },
   "outputs": [],
   "source": [
    "def load_features(data_train, data_test):\n",
    "    \"\"\"\n",
    "    Return pandas dataframe data_features: data in feature columns of data_train and data_test\n",
    "    \n",
    "    Param pandas dataframe data_train: training data (features + labels)\n",
    "    Param pandas dataframe data_test: test data (only features)\n",
    "    \n",
    "    Required Libraries: pandas\n",
    "    \"\"\"\n",
    "    \n",
    "    feature_columns = data_test.columns # data_test only contains features\n",
    "    \n",
    "    data_features = pd.concat([data_train[feature_columns], data_test])\n",
    "    \n",
    "    return data_features"
   ]
  },
  {
   "cell_type": "code",
   "execution_count": 5,
   "metadata": {
    "colab": {
     "base_uri": "https://localhost:8080/",
     "height": 34
    },
    "colab_type": "code",
    "executionInfo": {
     "elapsed": 392,
     "status": "ok",
     "timestamp": 1534606037726,
     "user": {
      "displayName": "Albert Lee",
      "photoUrl": "//lh3.googleusercontent.com/-f0u8obCCk_w/AAAAAAAAAAI/AAAAAAAAAxs/83E22s4mtyM/s50-c-k-no/photo.jpg",
      "userId": "109969660738913262150"
     },
     "user_tz": 240
    },
    "id": "vBZekpVd5ePV",
    "outputId": "02995365-986f-41fb-ae6f-5ab52507e73a"
   },
   "outputs": [
    {
     "name": "stdout",
     "output_type": "stream",
     "text": [
      "data_features shape: (450341, 16)\n"
     ]
    }
   ],
   "source": [
    "# Load Features\n",
    "data_features = load_features(data_train, data_test)\n",
    "print('data_features shape:', data_features.shape)"
   ]
  },
  {
   "cell_type": "markdown",
   "metadata": {
    "colab_type": "text",
    "id": "9ITNF9275ePY"
   },
   "source": [
    "# Prepare Data for Classification\n",
    "Run the cells below if prepped data files have not been created"
   ]
  },
  {
   "cell_type": "code",
   "execution_count": null,
   "metadata": {
    "colab": {},
    "colab_type": "code",
    "id": "ID0Uo8GT5ePY"
   },
   "outputs": [],
   "source": [
    "def text_processing(phrase):\n",
    "    \"\"\"\n",
    "    Return list processed_phrase: phrase tokens after processing has been completed\n",
    "    \n",
    "    param string phrase: phrase to be processed\n",
    "    \n",
    "    Required Libraries: re, nltk\n",
    "    \"\"\"\n",
    "    \n",
    "    # Case Normalization\n",
    "    processed_phrase = phrase.lower()\n",
    "    \n",
    "    # Remove Punctuations\n",
    "    processed_phrase = re.sub(r\"[^a-z0-9-]\", \" \", processed_phrase)\n",
    "    \n",
    "    # Tokenize Phrase\n",
    "    processed_phrase = processed_phrase.split()\n",
    "    \n",
    "    # Remove Stopwords\n",
    "    processed_phrase = [word for word in processed_phrase if word not in stopwords.words(\"english\") and word != '-']\n",
    "    \n",
    "    # Lemmatization\n",
    "    processed_phrase = [WordNetLemmatizer().lemmatize(word) for word in processed_phrase]\n",
    "    \n",
    "    # Recombine list into phrase\n",
    "    processed_phrase = ' '.join(processed_phrase)\n",
    "    \n",
    "    return processed_phrase"
   ]
  },
  {
   "cell_type": "code",
   "execution_count": null,
   "metadata": {
    "colab": {},
    "colab_type": "code",
    "id": "_ZapkVld5ePb",
    "outputId": "8bf67ef2-f47a-4d30-84cf-7bb823a5cd59"
   },
   "outputs": [
    {
     "name": "stdout",
     "output_type": "stream",
     "text": [
      "past patiently waitin passionately smashin every expectation every action act creation laughin face casualty sorrow first time thinkin past tomorrow\n",
      "2.5811121463775635\n"
     ]
    }
   ],
   "source": [
    "# test text_processing function (with quote from Hamilton: The Musical)\n",
    "start_time = time.time()\n",
    "print(text_processing(\n",
    "    \"I’m past patiently waitin’. I’m passionately smashin’ every expectation. \" + \n",
    "    \"Every action’s an act of creation! \" +\n",
    "    \"I’m laughin’ in the face of casualties and sorrow. \" +\n",
    "    \"For the first time, I’m thinkin’ past tomorrow\"))\n",
    "print(time.time() - start_time)"
   ]
  },
  {
   "cell_type": "code",
   "execution_count": null,
   "metadata": {
    "colab": {},
    "colab_type": "code",
    "id": "ZFQgJuJ_5ePd"
   },
   "outputs": [],
   "source": [
    "def init_prep(data_train, data_test, data_features, label=None):\n",
    "    \"\"\"\n",
    "    Return numpy array X_numeric: numerical feature matrix of test set\n",
    "    Return numpy array X_text: text feature matrix for classification model fitting\n",
    "    Return numpy array X_numeric_test: numerical feature matrix of test set\n",
    "    Return numpy array X_text_test: text feature matrix for classification model fitting\n",
    "    Return numpy array y: labels matrix for classification model fitting\n",
    "    Return keras.Tokenizer() tokenize: contains word to token mapping\n",
    "    \n",
    "    Param pandas dataframe data_train: training data (features + labels)\n",
    "    Param pandas dataframe data_test: test data (features)\n",
    "    Param pandas dataframe data_features: data in feature columns of data_train and data_test\n",
    "    \n",
    "    Required Libraries: pandas, numpy, keras\n",
    "    Required helper functions: text_processing\n",
    "    \"\"\"\n",
    "    \n",
    "    # Combined and preprocess text columns\n",
    "    data_train['combined_text'] = (data_train[data_features.columns]\n",
    "                                       .drop(columns=['FTE', 'Total'])\n",
    "                                       .fillna(\"\")\n",
    "                                       .apply(lambda x: \" \".join(x), axis=1)\n",
    "                                       .apply(lambda x: text_processing(x))\n",
    "                                  )\n",
    "    data_test['combined_text'] = (data_test[data_features.columns]\n",
    "                                       .drop(columns=['FTE', 'Total'])\n",
    "                                       .fillna(\"\")\n",
    "                                       .apply(lambda x: \" \".join(x), axis=1)\n",
    "                                       .apply(lambda x: text_processing(x))\n",
    "                                 )\n",
    "    data_features['combined_text'] = (data_features\n",
    "                                          .drop(columns=['FTE', 'Total'])\n",
    "                                          .fillna(\"\")\n",
    "                                          .apply(lambda x: \" \".join(x), axis=1)\n",
    "                                          .apply(lambda x: text_processing(x))\n",
    "                                     )\n",
    "    \n",
    "    # Vectorizer text columns in training data\n",
    "    tokenize = Tokenizer()\n",
    "    tokenize.fit_on_texts(data_features['combined_text'])\n",
    "    \n",
    "    X_text = tokenize.texts_to_sequences(data_train['combined_text'])\n",
    "    X_text_test = tokenize.texts_to_sequences(data_test['combined_text'])\n",
    "    \n",
    "    X_text = pad_sequences(X_text, padding='post', maxlen=50, truncating='post')\n",
    "    X_text_test = pad_sequences(X_text_test, padding='post', maxlen=50, truncating='post')\n",
    "    \n",
    "    # Impute missing numerical data\n",
    "    imp_total = Imputer(strategy='median')\n",
    "    imp_total.fit(data_features['Total'].values.reshape(-1, 1))\n",
    "\n",
    "    total_not_missing = pd.isnull(data_train['Total']).astype(int).values.reshape(-1, 1)\n",
    "    fte_not_missing = pd.isnull(data_train['FTE']).astype(int).values.reshape(-1, 1)\n",
    "    total = imp_total.transform(data_train['Total'].values.reshape(-1, 1))\n",
    "    fte = data_train['FTE'].fillna('0').values.reshape(-1, 1)\n",
    "\n",
    "    total_not_missing_test = pd.isnull(data_test['Total']).astype(int).values.reshape(-1, 1)\n",
    "    fte_not_missing_test = pd.isnull(data_test['FTE']).astype(int).values.reshape(-1, 1)\n",
    "    total_test = imp_total.transform(data_test['Total'].values.reshape(-1, 1))\n",
    "    fte_test = data_test['FTE'].fillna('0').values.reshape(-1, 1)\n",
    "    \n",
    "    # Create feature matrix\n",
    "    X_numeric = np.concatenate([total, total_not_missing, fte, fte_not_missing], axis=1)\n",
    "    X_numeric_test = np.concatenate([total_test, total_not_missing_test, fte_test, fte_not_missing_test], axis=1)\n",
    "    \n",
    "    # Create labels matrix\n",
    "    if label:\n",
    "        y = pd.get_dummies(data_train[label]).values.astype('float64')\n",
    "    else:\n",
    "        label = ['Function',\n",
    "                 'Object_Type',\n",
    "                 'Operating_Status',\n",
    "                 'Position_Type',\n",
    "                 'Pre_K',\n",
    "                 'Reporting',\n",
    "                 'Sharing',\n",
    "                 'Student_Type',\n",
    "                 'Use']\n",
    "        y = pd.get_dummies(data_train[label]).values.astype('float64')\n",
    "    \n",
    "    return X_numeric, X_text, X_numeric_test, X_text_test, y, tokenize"
   ]
  },
  {
   "cell_type": "code",
   "execution_count": null,
   "metadata": {
    "colab": {},
    "colab_type": "code",
    "id": "6IISwk-c5ePf"
   },
   "outputs": [],
   "source": [
    "X_numeric, X_text, X_test_numeric, X_test_text, y, tokenize = init_prep(data_train, data_test, data_features)"
   ]
  },
  {
   "cell_type": "code",
   "execution_count": null,
   "metadata": {
    "colab": {},
    "colab_type": "code",
    "id": "YeEwXBk75ePi"
   },
   "outputs": [],
   "source": [
    "# Save X_test_text and X_test_numeric\n",
    "np.savez('X_test_text.npz', X_test_text)\n",
    "np.savez('X_test_numeric.npz', X_test_numeric)\n",
    "\n",
    "# Pickle tokenize\n",
    "with open('tokenizer.pickle', 'wb') as handle:\n",
    "    pickle.dump(tokenize, handle, protocol=pickle.HIGHEST_PROTOCOL)"
   ]
  },
  {
   "cell_type": "code",
   "execution_count": null,
   "metadata": {
    "colab": {},
    "colab_type": "code",
    "id": "g3wYrZqv5ePp"
   },
   "outputs": [],
   "source": [
    "def prep_for_classification(X_numeric, X_text, y, validation_size=50064):\n",
    "    \"\"\"\n",
    "    Split training data into training and validation sets\n",
    "    \n",
    "    Return pandas dataframe X_train_numeric: training data (features)\n",
    "    Return pandas dataframe X_train_text: training data (features)\n",
    "    Return pandas dataframe X_val_numeric: validation data (features)\n",
    "    Return pandas dataframe X_val_text: validation data (features)\n",
    "    Return pandas dataframe y_train: training data (labels)\n",
    "    Return pandas dataframe y_val: validation data (labels)\n",
    "    \n",
    "    param numpy array X_numeric: numerical feature matrix of test set\n",
    "    param numpy array X_text: text feature matrix for classification model fitting\n",
    "    param numpy array X_numeric_test: numerical feature matrix of test set\n",
    "    param numpy array X_text_test: text feature matrix for classification model fitting\n",
    "    param numpy array y: labels matrix for classification model fitting\n",
    "    \n",
    "    Required Libraries: pandas, sklearn.model_selection\n",
    "    \"\"\"\n",
    "    \n",
    "    # Split into training and development sets\n",
    "    X_train_numeric, X_val_numeric, X_train_text, X_val_text, y_train, y_val = train_test_split(X_numeric, X_text, y, test_size=validation_size, random_state=93)\n",
    "    \n",
    "    return X_train_numeric, X_val_numeric, X_train_text, X_val_text, y_train, y_val"
   ]
  },
  {
   "cell_type": "code",
   "execution_count": null,
   "metadata": {
    "colab": {},
    "colab_type": "code",
    "id": "drbaQuel5ePr",
    "outputId": "09b43a88-46f1-4b6e-8bd6-4be33d7986d5"
   },
   "outputs": [
    {
     "name": "stdout",
     "output_type": "stream",
     "text": [
      "X_train_numeric (350213, 4)\n",
      "X_train_text (350213, 50)\n",
      "y_train (350213, 104)\n",
      "X_val_numeric (50064, 4)\n",
      "X_val_text (50064, 50)\n",
      "y_val (50064, 104)\n"
     ]
    }
   ],
   "source": [
    "X_train_numeric, X_val_numeric, X_train_text, X_val_text, y_train, y_val = prep_for_classification(X_numeric, X_text, y)\n",
    "print('X_train_numeric', X_train_numeric.shape)\n",
    "print('X_train_text', X_train_text.shape)\n",
    "print('y_train', y_train.shape)\n",
    "print('X_val_numeric', X_val_numeric.shape)\n",
    "print('X_val_text', X_val_text.shape)\n",
    "print('y_val', y_val.shape)"
   ]
  },
  {
   "cell_type": "code",
   "execution_count": null,
   "metadata": {
    "colab": {},
    "colab_type": "code",
    "id": "ZhVYZEmx5ePv"
   },
   "outputs": [],
   "source": [
    "# Save prepped data\n",
    "y_train = sparse.csr_matrix(y_train)\n",
    "y_val = sparse.csr_matrix(y_val)\n",
    "\n",
    "np.savez('X_train_text.npz', X_train_text)\n",
    "np.savez('X_val_text.npz', X_val_text)\n",
    "np.savez('X_train_numeric.npz', X_train_numeric)\n",
    "np.savez('X_val_numeric.npz', X_val_numeric)\n",
    "sparse.save_npz('y_train.npz', y_train)\n",
    "sparse.save_npz('y_val.npz', y_val)"
   ]
  },
  {
   "cell_type": "markdown",
   "metadata": {},
   "source": [
    "# Load Prepped Data\n",
    "Run these cells below if prepped data files are available."
   ]
  },
  {
   "cell_type": "code",
   "execution_count": 6,
   "metadata": {
    "colab": {
     "base_uri": "https://localhost:8080/",
     "height": 153
    },
    "colab_type": "code",
    "executionInfo": {
     "elapsed": 760,
     "status": "ok",
     "timestamp": 1534606083642,
     "user": {
      "displayName": "Albert Lee",
      "photoUrl": "//lh3.googleusercontent.com/-f0u8obCCk_w/AAAAAAAAAAI/AAAAAAAAAxs/83E22s4mtyM/s50-c-k-no/photo.jpg",
      "userId": "109969660738913262150"
     },
     "user_tz": 240
    },
    "id": "hGz1Dw0S5ePx",
    "outputId": "1e80f718-b864-42ab-a118-2833c8cc8d5b"
   },
   "outputs": [
    {
     "name": "stdout",
     "output_type": "stream",
     "text": [
      "X_train_numeric (350213, 4)\n",
      "X_train_text (350213, 50)\n",
      "y_train (350213, 104)\n",
      "X_val_numeric (50064, 4)\n",
      "X_val_text (50064, 50)\n",
      "y_val (50064, 104)\n",
      "X_test_numeric (50064, 4)\n",
      "X_test_text (50064, 50)\n"
     ]
    }
   ],
   "source": [
    "X_train_text = np.load('X_train_text.npz')['arr_0']\n",
    "X_val_text = np.load('X_val_text.npz')['arr_0']\n",
    "X_train_numeric = np.load('X_train_numeric.npz')['arr_0']\n",
    "X_val_numeric = np.load('X_val_numeric.npz')['arr_0']\n",
    "y_train = sparse.load_npz('y_train.npz')\n",
    "y_val = sparse.load_npz('y_val.npz')\n",
    "X_test_numeric = np.load('X_test_numeric.npz')['arr_0']\n",
    "X_test_text = np.load('X_test_text.npz')['arr_0']\n",
    "\n",
    "print('X_train_numeric', X_train_numeric.shape)\n",
    "print('X_train_text', X_train_text.shape)\n",
    "print('y_train', y_train.shape)\n",
    "print('X_val_numeric', X_val_numeric.shape)\n",
    "print('X_val_text', X_val_text.shape)\n",
    "print('y_val', y_val.shape)\n",
    "print('X_test_numeric', X_test_numeric.shape)\n",
    "print('X_test_text', X_test_text.shape)"
   ]
  },
  {
   "cell_type": "markdown",
   "metadata": {
    "colab_type": "text",
    "id": "UfppW7oi5eP0"
   },
   "source": [
    "# Build Model\n",
    "Run cells below if model has not been fitted yet"
   ]
  },
  {
   "cell_type": "code",
   "execution_count": null,
   "metadata": {
    "colab": {},
    "colab_type": "code",
    "id": "GtnM3_nE5eP0"
   },
   "outputs": [],
   "source": [
    "def build_network(X_numeric=X_train_numeric, X_text=X_train_text, y=y_train):\n",
    "    \"\"\"\n",
    "    Return compiled keras-model model\n",
    "    \n",
    "    param numpy array X: feature matrix for classification\n",
    "    param numpy array y: labels matrix for classification\n",
    "    \n",
    "    Required Libraries: keras\n",
    "    \"\"\"\n",
    "    \n",
    "    dropout_value = 0.5\n",
    "    embedding_vector_length = 8\n",
    "    kernel_size_value = 8\n",
    "    padding_value = 'same'\n",
    "    stride_value = 2\n",
    "    pool_size_value = 2\n",
    "    \n",
    "    numeric_input = Input(shape=(X_numeric.shape[1],) , name='numeric_input') \n",
    "    text_input = Input(shape=(X_text.shape[1],) , name='text_input')\n",
    "    \n",
    "    # Function\n",
    "    word_embedding_function = Embedding(input_dim=3804, output_dim=embedding_vector_length, mask_zero=False, input_length=50)(text_input)\n",
    "    text_function_hidden_layer = Conv1D(256, kernel_size=kernel_size_value, padding=padding_value, strides=stride_value, activation='relu')(word_embedding_function)\n",
    "    text_function_hidden_layer = MaxPooling1D(pool_size=pool_size_value, padding=padding_value, strides=stride_value)(text_function_hidden_layer)\n",
    "    text_function_hidden_layer = Dropout(dropout_value)(text_function_hidden_layer)\n",
    "    text_function_hidden_layer = Conv1D(128, kernel_size=kernel_size_value, padding=padding_value, strides=stride_value, activation='relu')(text_function_hidden_layer)\n",
    "    text_function_hidden_layer = MaxPooling1D(pool_size=pool_size_value, padding=padding_value, strides=stride_value)(text_function_hidden_layer)\n",
    "    text_function_hidden_layer = Dropout(dropout_value)(text_function_hidden_layer)\n",
    "    text_function_hidden_layer = Conv1D(64, kernel_size=kernel_size_value, padding=padding_value, strides=stride_value, activation='relu')(text_function_hidden_layer)\n",
    "    text_function_hidden_layer = MaxPooling1D(pool_size=pool_size_value, padding=padding_value, strides=stride_value)(text_function_hidden_layer)\n",
    "    text_function_hidden_layer = Dropout(dropout_value)(text_function_hidden_layer)\n",
    "    dense_function_layer = Flatten()(text_function_hidden_layer)\n",
    "    dense_function_layer = Dense(64, activation='relu')(dense_function_layer)\n",
    "    numeric_function_hidden_layer = Dense(4, activation='relu')(numeric_input)\n",
    "    numeric_function_hidden_layer = Dropout(dropout_value)(numeric_function_hidden_layer)\n",
    "    combined_function_layer = concatenate([numeric_function_hidden_layer, dense_function_layer])\n",
    "    function_output_layer = Dense(37, activation='softmax')(combined_function_layer)\n",
    "    \n",
    "    # Object_Type\n",
    "    word_embedding_object_type = Embedding(input_dim=3804, output_dim=embedding_vector_length, mask_zero=False, input_length=50)(text_input)\n",
    "    text_object_type_hidden_layer = Conv1D(256, kernel_size=kernel_size_value, padding=padding_value, strides=stride_value, activation='relu')(word_embedding_object_type)\n",
    "    text_object_type_hidden_layer = MaxPooling1D(pool_size=pool_size_value, padding=padding_value, strides=stride_value)(text_object_type_hidden_layer)\n",
    "    text_object_type_hidden_layer = Dropout(dropout_value)(text_object_type_hidden_layer)\n",
    "    text_object_type_hidden_layer = Conv1D(128, kernel_size=kernel_size_value, padding=padding_value, strides=stride_value, activation='relu')(text_object_type_hidden_layer)\n",
    "    text_object_type_hidden_layer = MaxPooling1D(pool_size=pool_size_value, padding=padding_value, strides=stride_value)(text_object_type_hidden_layer)\n",
    "    text_object_type_hidden_layer = Dropout(dropout_value)(text_object_type_hidden_layer)\n",
    "    text_object_type_hidden_layer = Conv1D(64, kernel_size=kernel_size_value, padding=padding_value, strides=stride_value, activation='relu')(text_object_type_hidden_layer)\n",
    "    text_object_type_hidden_layer = MaxPooling1D(pool_size=pool_size_value, padding=padding_value, strides=stride_value)(text_object_type_hidden_layer)\n",
    "    text_object_type_hidden_layer = Dropout(dropout_value)(text_object_type_hidden_layer)\n",
    "    text_object_type_hidden_layer = Conv1D(32, kernel_size=kernel_size_value, padding=padding_value, strides=stride_value, activation='relu')(text_object_type_hidden_layer)\n",
    "    text_object_type_hidden_layer = MaxPooling1D(pool_size=pool_size_value, padding=padding_value, strides=stride_value)(text_object_type_hidden_layer)\n",
    "    text_object_type_hidden_layer = Dropout(dropout_value)(text_object_type_hidden_layer)\n",
    "    text_object_type_hidden_layer = Conv1D(16, kernel_size=kernel_size_value, padding=padding_value, strides=stride_value, activation='relu')(text_object_type_hidden_layer)\n",
    "    text_object_type_hidden_layer = MaxPooling1D(pool_size=pool_size_value, padding=padding_value, strides=stride_value)(text_object_type_hidden_layer)\n",
    "    text_object_type_hidden_layer = Dropout(dropout_value)(text_object_type_hidden_layer)\n",
    "    dense_object_type_layer = Flatten()(text_object_type_hidden_layer)\n",
    "    dense_object_type_layer = Dense(16, activation='relu')(dense_object_type_layer)\n",
    "    numeric_object_type_hidden_layer = Dense(4, activation='relu')(numeric_input)\n",
    "    numeric_object_type_hidden_layer = Dropout(dropout_value)(numeric_object_type_hidden_layer)\n",
    "    combined_object_type_layer = concatenate([numeric_object_type_hidden_layer, dense_object_type_layer])\n",
    "    object_type_output_layer = Dense(11, activation='softmax')(combined_object_type_layer)\n",
    "    \n",
    "    # Operating_Status\n",
    "    word_embedding_operating_status = Embedding(input_dim=3804, output_dim=embedding_vector_length, mask_zero=False, input_length=50)(text_input)\n",
    "    text_operating_status_hidden_layer = Conv1D(256, kernel_size=kernel_size_value, padding=padding_value, strides=stride_value, activation='relu')(word_embedding_operating_status)\n",
    "    text_operating_status_hidden_layer = MaxPooling1D(pool_size=pool_size_value, padding=padding_value, strides=stride_value)(text_operating_status_hidden_layer)\n",
    "    text_operating_status_hidden_layer = Dropout(dropout_value)(text_operating_status_hidden_layer)\n",
    "    text_operating_status_hidden_layer = Conv1D(128, kernel_size=kernel_size_value, padding=padding_value, strides=stride_value, activation='relu')(text_operating_status_hidden_layer)\n",
    "    text_operating_status_hidden_layer = MaxPooling1D(pool_size=pool_size_value, padding=padding_value, strides=stride_value)(text_operating_status_hidden_layer)\n",
    "    text_operating_status_hidden_layer = Dropout(dropout_value)(text_operating_status_hidden_layer)\n",
    "    text_operating_status_hidden_layer = Conv1D(64, kernel_size=kernel_size_value, padding=padding_value, strides=stride_value, activation='relu')(text_operating_status_hidden_layer)\n",
    "    text_operating_status_hidden_layer = MaxPooling1D(pool_size=pool_size_value, padding=padding_value, strides=stride_value)(text_operating_status_hidden_layer)\n",
    "    text_operating_status_hidden_layer = Dropout(dropout_value)(text_operating_status_hidden_layer)\n",
    "    text_operating_status_hidden_layer = Conv1D(32, kernel_size=kernel_size_value, padding=padding_value, strides=stride_value, activation='relu')(text_operating_status_hidden_layer)\n",
    "    text_operating_status_hidden_layer = MaxPooling1D(pool_size=pool_size_value, padding=padding_value, strides=stride_value)(text_operating_status_hidden_layer)\n",
    "    text_operating_status_hidden_layer = Dropout(dropout_value)(text_operating_status_hidden_layer)\n",
    "    text_operating_status_hidden_layer = Conv1D(16, kernel_size=kernel_size_value, padding=padding_value, strides=stride_value, activation='relu')(text_operating_status_hidden_layer)\n",
    "    text_operating_status_hidden_layer = MaxPooling1D(pool_size=pool_size_value, padding=padding_value, strides=stride_value)(text_operating_status_hidden_layer)\n",
    "    text_operating_status_hidden_layer = Dropout(dropout_value)(text_operating_status_hidden_layer)\n",
    "    text_operating_status_hidden_layer = Conv1D(8, kernel_size=kernel_size_value, padding=padding_value, strides=stride_value, activation='relu')(text_operating_status_hidden_layer)\n",
    "    text_operating_status_hidden_layer = MaxPooling1D(pool_size=pool_size_value, padding=padding_value, strides=stride_value)(text_operating_status_hidden_layer)\n",
    "    text_operating_status_hidden_layer = Dropout(dropout_value)(text_operating_status_hidden_layer)\n",
    "    text_operating_status_hidden_layer = Conv1D(4, kernel_size=kernel_size_value, padding=padding_value, strides=stride_value, activation='relu')(text_operating_status_hidden_layer)\n",
    "    text_operating_status_hidden_layer = MaxPooling1D(pool_size=pool_size_value, padding=padding_value, strides=stride_value)(text_operating_status_hidden_layer)\n",
    "    text_operating_status_hidden_layer = Dropout(dropout_value)(text_operating_status_hidden_layer)\n",
    "    dense_operating_status_layer = Flatten()(text_operating_status_hidden_layer)\n",
    "    dense_operating_status_layer = Dense(4, activation='relu')(dense_operating_status_layer)\n",
    "    numeric_operating_status_hidden_layer = Dense(4, activation='relu')(numeric_input)\n",
    "    numeric_operating_status_hidden_layer = Dropout(dropout_value)(numeric_operating_status_hidden_layer)\n",
    "    combined_operating_status_layer = concatenate([numeric_operating_status_hidden_layer, dense_operating_status_layer])\n",
    "    operating_status_output_layer = Dense(3, activation='softmax')(combined_operating_status_layer)\n",
    "    \n",
    "    # Position_Type\n",
    "    word_embedding_position_type = Embedding(input_dim=3804, output_dim=embedding_vector_length, mask_zero=False, input_length=50)(text_input)\n",
    "    text_position_type_hidden_layer = Conv1D(256, kernel_size=kernel_size_value, padding=padding_value, strides=stride_value, activation='relu')(word_embedding_position_type)\n",
    "    text_position_type_hidden_layer = MaxPooling1D(pool_size=pool_size_value, padding=padding_value, strides=stride_value)(text_position_type_hidden_layer)\n",
    "    text_position_type_hidden_layer = Dropout(dropout_value)(text_position_type_hidden_layer)\n",
    "    text_position_type_hidden_layer = Conv1D(128, kernel_size=kernel_size_value, padding=padding_value, strides=stride_value, activation='relu')(text_position_type_hidden_layer)\n",
    "    text_position_type_hidden_layer = MaxPooling1D(pool_size=pool_size_value, padding=padding_value, strides=stride_value)(text_position_type_hidden_layer)\n",
    "    text_position_type_hidden_layer = Dropout(dropout_value)(text_position_type_hidden_layer)\n",
    "    text_position_type_hidden_layer = Conv1D(64, kernel_size=kernel_size_value, padding=padding_value, strides=stride_value, activation='relu')(text_position_type_hidden_layer)\n",
    "    text_position_type_hidden_layer = MaxPooling1D(pool_size=pool_size_value, padding=padding_value, strides=stride_value)(text_position_type_hidden_layer)\n",
    "    text_position_type_hidden_layer = Dropout(dropout_value)(text_position_type_hidden_layer)\n",
    "    text_position_type_hidden_layer = Conv1D(32, kernel_size=kernel_size_value, padding=padding_value, strides=stride_value, activation='relu')(text_position_type_hidden_layer)\n",
    "    text_position_type_hidden_layer = MaxPooling1D(pool_size=pool_size_value, padding=padding_value, strides=stride_value)(text_position_type_hidden_layer)\n",
    "    text_position_type_hidden_layer = Dropout(dropout_value)(text_position_type_hidden_layer)\n",
    "    dense_position_type_layer = Flatten()(text_position_type_hidden_layer)\n",
    "    dense_position_type_layer = Dense(32, activation='relu')(dense_position_type_layer)\n",
    "    numeric_position_type_hidden_layer = Dense(4, activation='relu')(numeric_input)\n",
    "    numeric_position_type_hidden_layer = Dropout(dropout_value)(numeric_position_type_hidden_layer)\n",
    "    combined_position_type_layer = concatenate([numeric_position_type_hidden_layer, dense_position_type_layer])\n",
    "    position_type_output_layer = Dense(25, activation='softmax')(combined_position_type_layer)\n",
    "    \n",
    "    # Pre_K\n",
    "    word_embedding_pre_k = Embedding(input_dim=3804, output_dim=embedding_vector_length, mask_zero=False, input_length=50)(text_input)\n",
    "    text_pre_k_hidden_layer = Conv1D(256, kernel_size=kernel_size_value, padding=padding_value, strides=stride_value, activation='relu')(word_embedding_pre_k)\n",
    "    text_pre_k_hidden_layer = MaxPooling1D(pool_size=pool_size_value, padding=padding_value, strides=stride_value)(text_pre_k_hidden_layer)\n",
    "    text_pre_k_hidden_layer = Dropout(dropout_value)(text_pre_k_hidden_layer)\n",
    "    text_pre_k_hidden_layer = Conv1D(128, kernel_size=kernel_size_value, padding=padding_value, strides=stride_value, activation='relu')(text_pre_k_hidden_layer)\n",
    "    text_pre_k_hidden_layer = MaxPooling1D(pool_size=pool_size_value, padding=padding_value, strides=stride_value)(text_pre_k_hidden_layer)\n",
    "    text_pre_k_hidden_layer = Dropout(dropout_value)(text_pre_k_hidden_layer)\n",
    "    text_pre_k_hidden_layer = Conv1D(64, kernel_size=kernel_size_value, padding=padding_value, strides=stride_value, activation='relu')(text_pre_k_hidden_layer)\n",
    "    text_pre_k_hidden_layer = MaxPooling1D(pool_size=pool_size_value, padding=padding_value, strides=stride_value)(text_pre_k_hidden_layer)\n",
    "    text_pre_k_hidden_layer = Dropout(dropout_value)(text_pre_k_hidden_layer)\n",
    "    text_pre_k_hidden_layer = Conv1D(32, kernel_size=kernel_size_value, padding=padding_value, strides=stride_value, activation='relu')(text_pre_k_hidden_layer)\n",
    "    text_pre_k_hidden_layer = MaxPooling1D(pool_size=pool_size_value, padding=padding_value, strides=stride_value)(text_pre_k_hidden_layer)\n",
    "    text_pre_k_hidden_layer = Dropout(dropout_value)(text_pre_k_hidden_layer)\n",
    "    text_pre_k_hidden_layer = Conv1D(16, kernel_size=kernel_size_value, padding=padding_value, strides=stride_value, activation='relu')(text_pre_k_hidden_layer)\n",
    "    text_pre_k_hidden_layer = MaxPooling1D(pool_size=pool_size_value, padding=padding_value, strides=stride_value)(text_pre_k_hidden_layer)\n",
    "    text_pre_k_hidden_layer = Dropout(dropout_value)(text_pre_k_hidden_layer)\n",
    "    text_pre_k_hidden_layer = Conv1D(8, kernel_size=kernel_size_value, padding=padding_value, strides=stride_value, activation='relu')(text_pre_k_hidden_layer)\n",
    "    text_pre_k_hidden_layer = MaxPooling1D(pool_size=pool_size_value, padding=padding_value, strides=stride_value)(text_pre_k_hidden_layer)\n",
    "    text_pre_k_hidden_layer = Dropout(dropout_value)(text_pre_k_hidden_layer)\n",
    "    text_pre_k_hidden_layer = Conv1D(4, kernel_size=kernel_size_value, padding=padding_value, strides=stride_value, activation='relu')(text_pre_k_hidden_layer)\n",
    "    text_pre_k_hidden_layer = MaxPooling1D(pool_size=pool_size_value, padding=padding_value, strides=stride_value)(text_pre_k_hidden_layer)\n",
    "    text_pre_k_hidden_layer = Dropout(dropout_value)(text_pre_k_hidden_layer)\n",
    "    dense_pre_k_layer = Flatten()(text_pre_k_hidden_layer)\n",
    "    dense_pre_k_layer = Dense(4, activation='relu')(dense_pre_k_layer)\n",
    "    numeric_pre_k_hidden_layer = Dense(4, activation='relu')(numeric_input)\n",
    "    numeric_pre_k_hidden_layer = Dropout(dropout_value)(numeric_pre_k_hidden_layer)\n",
    "    combined_pre_k_layer = concatenate([numeric_pre_k_hidden_layer, dense_pre_k_layer])\n",
    "    pre_k_output_layer = Dense(3, activation='softmax')(combined_pre_k_layer)\n",
    "    \n",
    "    # Reporting\n",
    "    word_embedding_reporting = Embedding(input_dim=3804, output_dim=embedding_vector_length, mask_zero=False, input_length=50)(text_input)\n",
    "    text_reporting_hidden_layer = Conv1D(256, kernel_size=kernel_size_value, padding=padding_value, strides=stride_value, activation='relu')(word_embedding_reporting)\n",
    "    text_reporting_hidden_layer = MaxPooling1D(pool_size=pool_size_value, padding=padding_value, strides=stride_value)(text_reporting_hidden_layer)\n",
    "    text_reporting_hidden_layer = Dropout(dropout_value)(text_reporting_hidden_layer)\n",
    "    text_reporting_hidden_layer = Conv1D(128, kernel_size=kernel_size_value, padding=padding_value, strides=stride_value, activation='relu')(text_reporting_hidden_layer)\n",
    "    text_reporting_hidden_layer = MaxPooling1D(pool_size=pool_size_value, padding=padding_value, strides=stride_value)(text_reporting_hidden_layer)\n",
    "    text_reporting_hidden_layer = Dropout(dropout_value)(text_reporting_hidden_layer)\n",
    "    text_reporting_hidden_layer = Conv1D(64, kernel_size=kernel_size_value, padding=padding_value, strides=stride_value, activation='relu')(text_reporting_hidden_layer)\n",
    "    text_reporting_hidden_layer = MaxPooling1D(pool_size=pool_size_value, padding=padding_value, strides=stride_value)(text_reporting_hidden_layer)\n",
    "    text_reporting_hidden_layer = Dropout(dropout_value)(text_reporting_hidden_layer)\n",
    "    text_reporting_hidden_layer = Conv1D(32, kernel_size=kernel_size_value, padding=padding_value, strides=stride_value, activation='relu')(text_reporting_hidden_layer)\n",
    "    text_reporting_hidden_layer = MaxPooling1D(pool_size=pool_size_value, padding=padding_value, strides=stride_value)(text_reporting_hidden_layer)\n",
    "    text_reporting_hidden_layer = Dropout(dropout_value)(text_reporting_hidden_layer)\n",
    "    text_reporting_hidden_layer = Conv1D(16, kernel_size=kernel_size_value, padding=padding_value, strides=stride_value, activation='relu')(text_reporting_hidden_layer)\n",
    "    text_reporting_hidden_layer = MaxPooling1D(pool_size=pool_size_value, padding=padding_value, strides=stride_value)(text_reporting_hidden_layer)\n",
    "    text_reporting_hidden_layer = Dropout(dropout_value)(text_reporting_hidden_layer)\n",
    "    text_reporting_hidden_layer = Conv1D(8, kernel_size=kernel_size_value, padding=padding_value, strides=stride_value, activation='relu')(text_reporting_hidden_layer)\n",
    "    text_reporting_hidden_layer = MaxPooling1D(pool_size=pool_size_value, padding=padding_value, strides=stride_value)(text_reporting_hidden_layer)\n",
    "    text_reporting_hidden_layer = Dropout(dropout_value)(text_reporting_hidden_layer)\n",
    "    text_reporting_hidden_layer = Conv1D(4, kernel_size=kernel_size_value, padding=padding_value, strides=stride_value, activation='relu')(text_reporting_hidden_layer)\n",
    "    text_reporting_hidden_layer = MaxPooling1D(pool_size=pool_size_value, padding=padding_value, strides=stride_value)(text_reporting_hidden_layer)\n",
    "    text_reporting_hidden_layer = Dropout(dropout_value)(text_reporting_hidden_layer)\n",
    "    dense_reporting_layer = Flatten()(text_pre_k_hidden_layer)\n",
    "    dense_reporting_layer = Dense(4, activation='relu')(dense_reporting_layer)\n",
    "    numeric_reporting_hidden_layer = Dense(4, activation='relu')(numeric_input)\n",
    "    numeric_reporting_hidden_layer = Dropout(dropout_value)(numeric_reporting_hidden_layer)\n",
    "    combined_reporting_layer = concatenate([numeric_reporting_hidden_layer, dense_reporting_layer])\n",
    "    reporting_output_layer = Dense(3, activation='softmax')(combined_reporting_layer)\n",
    "    \n",
    "    # Sharing\n",
    "    word_embedding_sharing = Embedding(input_dim=3804, output_dim=embedding_vector_length, mask_zero=False, input_length=50)(text_input)\n",
    "    text_sharing_hidden_layer = Conv1D(256, kernel_size=kernel_size_value, padding=padding_value, strides=stride_value, activation='relu')(word_embedding_sharing)\n",
    "    text_sharing_hidden_layer = MaxPooling1D(pool_size=pool_size_value, padding=padding_value, strides=stride_value)(text_sharing_hidden_layer)\n",
    "    text_sharing_hidden_layer = Dropout(dropout_value)(text_sharing_hidden_layer)\n",
    "    text_sharing_hidden_layer = Conv1D(128, kernel_size=kernel_size_value, padding=padding_value, strides=stride_value, activation='relu')(text_sharing_hidden_layer)\n",
    "    text_sharing_hidden_layer = MaxPooling1D(pool_size=pool_size_value, padding=padding_value, strides=stride_value)(text_sharing_hidden_layer)\n",
    "    text_sharing_hidden_layer = Dropout(dropout_value)(text_sharing_hidden_layer)\n",
    "    text_sharing_hidden_layer = Conv1D(64, kernel_size=kernel_size_value, padding=padding_value, strides=stride_value, activation='relu')(text_sharing_hidden_layer)\n",
    "    text_sharing_hidden_layer = MaxPooling1D(pool_size=pool_size_value, padding=padding_value, strides=stride_value)(text_sharing_hidden_layer)\n",
    "    text_sharing_hidden_layer = Dropout(dropout_value)(text_sharing_hidden_layer)\n",
    "    text_sharing_hidden_layer = Conv1D(32, kernel_size=kernel_size_value, padding=padding_value, strides=stride_value, activation='relu')(text_sharing_hidden_layer)\n",
    "    text_sharing_hidden_layer = MaxPooling1D(pool_size=pool_size_value, padding=padding_value, strides=stride_value)(text_sharing_hidden_layer)\n",
    "    text_sharing_hidden_layer = Dropout(dropout_value)(text_sharing_hidden_layer)\n",
    "    text_sharing_hidden_layer = Conv1D(16, kernel_size=kernel_size_value, padding=padding_value, strides=stride_value, activation='relu')(text_sharing_hidden_layer)\n",
    "    text_sharing_hidden_layer = MaxPooling1D(pool_size=pool_size_value, padding=padding_value, strides=stride_value)(text_sharing_hidden_layer)\n",
    "    text_sharing_hidden_layer = Dropout(dropout_value)(text_sharing_hidden_layer)\n",
    "    text_sharing_hidden_layer = Conv1D(8, kernel_size=kernel_size_value, padding=padding_value, strides=stride_value, activation='relu')(text_sharing_hidden_layer)\n",
    "    text_sharing_hidden_layer = MaxPooling1D(pool_size=pool_size_value, padding=padding_value, strides=stride_value)(text_sharing_hidden_layer)\n",
    "    text_sharing_hidden_layer = Dropout(dropout_value)(text_sharing_hidden_layer)\n",
    "    dense_sharing_layer = Flatten()(text_sharing_hidden_layer)\n",
    "    dense_sharing_layer = Dense(8, activation='relu')(dense_sharing_layer)\n",
    "    numeric_sharing_hidden_layer = Dense(4, activation='relu')(numeric_input)\n",
    "    numeric_sharing_hidden_layer = Dropout(dropout_value)(numeric_sharing_hidden_layer)\n",
    "    combined_sharing_layer = concatenate([numeric_sharing_hidden_layer, dense_sharing_layer])\n",
    "    sharing_output_layer = Dense(5, activation='softmax')(combined_sharing_layer)\n",
    "    \n",
    "    # Student_Type\n",
    "    word_embedding_student_type = Embedding(input_dim=3804, output_dim=embedding_vector_length, mask_zero=False, input_length=50)(text_input)\n",
    "    text_student_type_hidden_layer = Conv1D(256, kernel_size=kernel_size_value, padding=padding_value, strides=stride_value, activation='relu')(word_embedding_student_type)\n",
    "    text_student_type_hidden_layer = MaxPooling1D(pool_size=pool_size_value, padding=padding_value, strides=stride_value)(text_student_type_hidden_layer)\n",
    "    text_student_type_hidden_layer = Dropout(dropout_value)(text_student_type_hidden_layer)\n",
    "    text_student_type_hidden_layer = Conv1D(128, kernel_size=kernel_size_value, padding=padding_value, strides=stride_value, activation='relu')(text_student_type_hidden_layer)\n",
    "    text_student_type_hidden_layer = MaxPooling1D(pool_size=pool_size_value, padding=padding_value, strides=stride_value)(text_student_type_hidden_layer)\n",
    "    text_student_type_hidden_layer = Dropout(dropout_value)(text_student_type_hidden_layer)\n",
    "    text_student_type_hidden_layer = Conv1D(64, kernel_size=kernel_size_value, padding=padding_value, strides=stride_value, activation='relu')(text_student_type_hidden_layer)\n",
    "    text_student_type_hidden_layer = MaxPooling1D(pool_size=pool_size_value, padding=padding_value, strides=stride_value)(text_student_type_hidden_layer)\n",
    "    text_student_type_hidden_layer = Dropout(dropout_value)(text_student_type_hidden_layer)\n",
    "    text_student_type_hidden_layer = Conv1D(32, kernel_size=kernel_size_value, padding=padding_value, strides=stride_value, activation='relu')(text_student_type_hidden_layer)\n",
    "    text_student_type_hidden_layer = MaxPooling1D(pool_size=pool_size_value, padding=padding_value, strides=stride_value)(text_student_type_hidden_layer)\n",
    "    text_student_type_hidden_layer = Dropout(dropout_value)(text_student_type_hidden_layer)\n",
    "    text_student_type_hidden_layer = Conv1D(16, kernel_size=kernel_size_value, padding=padding_value, strides=stride_value, activation='relu')(text_student_type_hidden_layer)\n",
    "    text_student_type_hidden_layer = MaxPooling1D(pool_size=pool_size_value, padding=padding_value, strides=stride_value)(text_student_type_hidden_layer)\n",
    "    text_student_type_hidden_layer = Dropout(dropout_value)(text_student_type_hidden_layer)\n",
    "    dense_student_type_layer = Flatten()(text_student_type_hidden_layer)\n",
    "    dense_student_type_layer = Dense(16, activation='relu')(dense_student_type_layer)\n",
    "    numeric_student_type_hidden_layer = Dense(4, activation='relu')(numeric_input)\n",
    "    numeric_student_type_hidden_layer = Dropout(dropout_value)(numeric_student_type_hidden_layer)\n",
    "    combined_student_type_layer = concatenate([numeric_student_type_hidden_layer, dense_student_type_layer])\n",
    "    student_type_output_layer = Dense(9, activation='softmax')(combined_student_type_layer)\n",
    "    \n",
    "    # Use\n",
    "    word_embedding_use = Embedding(input_dim=3804, output_dim=embedding_vector_length, mask_zero=False, input_length=50)(text_input)\n",
    "    text_use_hidden_layer = Conv1D(256, kernel_size=kernel_size_value, padding=padding_value, strides=stride_value, activation='relu')(word_embedding_use)\n",
    "    text_use_hidden_layer = MaxPooling1D(pool_size=pool_size_value, padding=padding_value, strides=stride_value)(text_use_hidden_layer)\n",
    "    text_use_hidden_layer = Dropout(dropout_value)(text_use_hidden_layer)\n",
    "    text_use_hidden_layer = Conv1D(128, kernel_size=kernel_size_value, padding=padding_value, strides=stride_value, activation='relu')(text_use_hidden_layer)\n",
    "    text_use_hidden_layer = MaxPooling1D(pool_size=pool_size_value, padding=padding_value, strides=stride_value)(text_use_hidden_layer)\n",
    "    text_use_hidden_layer = Dropout(dropout_value)(text_use_hidden_layer)\n",
    "    text_use_hidden_layer = Conv1D(64, kernel_size=kernel_size_value, padding=padding_value, strides=stride_value, activation='relu')(text_use_hidden_layer)\n",
    "    text_use_hidden_layer = MaxPooling1D(pool_size=pool_size_value, padding=padding_value, strides=stride_value)(text_use_hidden_layer)\n",
    "    text_use_hidden_layer = Dropout(dropout_value)(text_use_hidden_layer)\n",
    "    text_use_hidden_layer = Conv1D(32, kernel_size=kernel_size_value, padding=padding_value, strides=stride_value, activation='relu')(text_use_hidden_layer)\n",
    "    text_use_hidden_layer = MaxPooling1D(pool_size=pool_size_value, padding=padding_value, strides=stride_value)(text_use_hidden_layer)\n",
    "    text_use_hidden_layer = Dropout(dropout_value)(text_use_hidden_layer)\n",
    "    text_use_hidden_layer = Conv1D(16, kernel_size=kernel_size_value, padding=padding_value, strides=stride_value, activation='relu')(text_use_hidden_layer)\n",
    "    text_use_hidden_layer = MaxPooling1D(pool_size=pool_size_value, padding=padding_value, strides=stride_value)(text_use_hidden_layer)\n",
    "    text_use_hidden_layer = Dropout(dropout_value)(text_use_hidden_layer)\n",
    "    text_use_hidden_layer = Conv1D(8, kernel_size=kernel_size_value, padding=padding_value, strides=stride_value, activation='relu')(text_use_hidden_layer)\n",
    "    text_use_hidden_layer = MaxPooling1D(pool_size=pool_size_value, padding=padding_value, strides=stride_value)(text_use_hidden_layer)\n",
    "    text_use_hidden_layer = Dropout(dropout_value)(text_use_hidden_layer)\n",
    "    dense_use_layer = Flatten()(text_use_hidden_layer)\n",
    "    dense_use_layer = Dense(8, activation='relu')(dense_use_layer)\n",
    "    numeric_use_hidden_layer = Dense(4, activation='relu')(numeric_input)\n",
    "    numeric_use_hidden_layer = Dropout(dropout_value)(numeric_use_hidden_layer)\n",
    "    combined_use_layer = concatenate([numeric_use_hidden_layer, dense_use_layer])\n",
    "    use_output_layer = Dense(8, activation='softmax')(combined_use_layer)\n",
    "    \n",
    "    # Output\n",
    "    combined_output_layer = concatenate([function_output_layer, \n",
    "                                         object_type_output_layer,\n",
    "                                         operating_status_output_layer,\n",
    "                                         position_type_output_layer,\n",
    "                                         pre_k_output_layer,\n",
    "                                         reporting_output_layer,\n",
    "                                         sharing_output_layer,\n",
    "                                         student_type_output_layer,\n",
    "                                         use_output_layer])\n",
    "    \n",
    "    model = Model(inputs=[numeric_input, text_input], outputs=[combined_output_layer])\n",
    "    \n",
    "    model.compile(optimizer='adam', loss='categorical_crossentropy', metrics=['accuracy'])\n",
    "    \n",
    "    return model"
   ]
  },
  {
   "cell_type": "code",
   "execution_count": null,
   "metadata": {
    "colab": {},
    "colab_type": "code",
    "id": "vkm6VVkF5eP2"
   },
   "outputs": [],
   "source": [
    "cnn_NN = build_network()\n",
    "\n",
    "# Save model architecture\n",
    "model_json = cnn_NN.to_json()\n",
    "with open('cnn_NN_model.json', 'w') as json_file:\n",
    "    json_file.write(model_json)"
   ]
  },
  {
   "cell_type": "markdown",
   "metadata": {
    "colab_type": "text",
    "id": "INIHpqTn5eP4"
   },
   "source": [
    "# Train model and generate predictions on test set"
   ]
  },
  {
   "cell_type": "code",
   "execution_count": 10,
   "metadata": {
    "colab": {
     "base_uri": "https://localhost:8080/",
     "height": 5542
    },
    "colab_type": "code",
    "executionInfo": {
     "elapsed": 1992339,
     "status": "ok",
     "timestamp": 1534620483870,
     "user": {
      "displayName": "Albert Lee",
      "photoUrl": "//lh3.googleusercontent.com/-f0u8obCCk_w/AAAAAAAAAAI/AAAAAAAAAxs/83E22s4mtyM/s50-c-k-no/photo.jpg",
      "userId": "109969660738913262150"
     },
     "user_tz": 240
    },
    "id": "h2fWentL1If6",
    "outputId": "21afe851-b455-4a6a-ce16-80925a6f5553"
   },
   "outputs": [
    {
     "name": "stdout",
     "output_type": "stream",
     "text": [
      "Train on 315191 samples, validate on 35022 samples\n",
      "Epoch 1/100\n",
      "315191/315191 [==============================] - 179s 569us/step - loss: 68.7306 - acc: 0.0252 - val_loss: 61.7684 - val_acc: 0.0563\n",
      "\n",
      "Epoch 00001: val_loss improved from inf to 61.76838, saving model to drive/cnn_NN_model.h5\n",
      "Epoch 2/100\n",
      "315191/315191 [==============================] - 171s 541us/step - loss: 49.5048 - acc: 0.1147 - val_loss: 50.5769 - val_acc: 0.1872\n",
      "\n",
      "Epoch 00002: val_loss improved from 61.76838 to 50.57688, saving model to drive/cnn_NN_model.h5\n",
      "Epoch 3/100\n",
      "315191/315191 [==============================] - 171s 542us/step - loss: 41.2320 - acc: 0.1683 - val_loss: 36.3888 - val_acc: 0.1936\n",
      "\n",
      "Epoch 00003: val_loss improved from 50.57688 to 36.38877, saving model to drive/cnn_NN_model.h5\n",
      "Epoch 4/100\n",
      "315191/315191 [==============================] - 171s 543us/step - loss: 35.2857 - acc: 0.1882 - val_loss: 33.4225 - val_acc: 0.1951\n",
      "\n",
      "Epoch 00004: val_loss improved from 36.38877 to 33.42253, saving model to drive/cnn_NN_model.h5\n",
      "Epoch 5/100\n",
      "315191/315191 [==============================] - 170s 540us/step - loss: 33.6412 - acc: 0.1642 - val_loss: 32.9633 - val_acc: 0.1831\n",
      "\n",
      "Epoch 00005: val_loss improved from 33.42253 to 32.96327, saving model to drive/cnn_NN_model.h5\n",
      "Epoch 6/100\n",
      "315191/315191 [==============================] - 170s 540us/step - loss: 32.2925 - acc: 0.1487 - val_loss: 30.9964 - val_acc: 0.1750\n",
      "\n",
      "Epoch 00006: val_loss improved from 32.96327 to 30.99641, saving model to drive/cnn_NN_model.h5\n",
      "Epoch 7/100\n",
      "315191/315191 [==============================] - 170s 540us/step - loss: 31.5322 - acc: 0.1458 - val_loss: 30.2955 - val_acc: 0.1719\n",
      "\n",
      "Epoch 00007: val_loss improved from 30.99641 to 30.29552, saving model to drive/cnn_NN_model.h5\n",
      "Epoch 8/100\n",
      "315191/315191 [==============================] - 170s 541us/step - loss: 30.9468 - acc: 0.1473 - val_loss: 29.9167 - val_acc: 0.1751\n",
      "\n",
      "Epoch 00008: val_loss improved from 30.29552 to 29.91674, saving model to drive/cnn_NN_model.h5\n",
      "Epoch 9/100\n",
      "315191/315191 [==============================] - 171s 542us/step - loss: 30.7094 - acc: 0.1499 - val_loss: 30.0747 - val_acc: 0.1765\n",
      "\n",
      "Epoch 00009: val_loss did not improve from 29.91674\n",
      "Epoch 10/100\n",
      "315191/315191 [==============================] - 171s 542us/step - loss: 30.3605 - acc: 0.1582 - val_loss: 29.5956 - val_acc: 0.1864\n",
      "\n",
      "Epoch 00010: val_loss improved from 29.91674 to 29.59557, saving model to drive/cnn_NN_model.h5\n",
      "Epoch 11/100\n",
      "315191/315191 [==============================] - 171s 541us/step - loss: 29.7625 - acc: 0.1629 - val_loss: 28.9923 - val_acc: 0.1853\n",
      "\n",
      "Epoch 00011: val_loss improved from 29.59557 to 28.99226, saving model to drive/cnn_NN_model.h5\n",
      "Epoch 12/100\n",
      "315191/315191 [==============================] - 170s 541us/step - loss: 29.3562 - acc: 0.1662 - val_loss: 29.0818 - val_acc: 0.1936\n",
      "\n",
      "Epoch 00012: val_loss did not improve from 28.99226\n",
      "Epoch 13/100\n",
      "315191/315191 [==============================] - 170s 541us/step - loss: 29.1431 - acc: 0.1716 - val_loss: 28.5252 - val_acc: 0.1819\n",
      "\n",
      "Epoch 00013: val_loss improved from 28.99226 to 28.52523, saving model to drive/cnn_NN_model.h5\n",
      "Epoch 14/100\n",
      "315191/315191 [==============================] - 171s 542us/step - loss: 28.8890 - acc: 0.1764 - val_loss: 28.3327 - val_acc: 0.1936\n",
      "\n",
      "Epoch 00014: val_loss improved from 28.52523 to 28.33266, saving model to drive/cnn_NN_model.h5\n",
      "Epoch 15/100\n",
      "315191/315191 [==============================] - 170s 541us/step - loss: 28.6693 - acc: 0.1798 - val_loss: 28.3409 - val_acc: 0.2080\n",
      "\n",
      "Epoch 00015: val_loss did not improve from 28.33266\n",
      "Epoch 16/100\n",
      "315191/315191 [==============================] - 170s 539us/step - loss: 28.4453 - acc: 0.1815 - val_loss: 27.6308 - val_acc: 0.2193\n",
      "\n",
      "Epoch 00016: val_loss improved from 28.33266 to 27.63075, saving model to drive/cnn_NN_model.h5\n",
      "Epoch 17/100\n",
      "315191/315191 [==============================] - 170s 539us/step - loss: 28.3596 - acc: 0.1860 - val_loss: 27.6682 - val_acc: 0.1996\n",
      "\n",
      "Epoch 00017: val_loss did not improve from 27.63075\n",
      "Epoch 18/100\n",
      "315191/315191 [==============================] - 170s 541us/step - loss: 28.2103 - acc: 0.1883 - val_loss: 27.4634 - val_acc: 0.2097\n",
      "\n",
      "Epoch 00018: val_loss improved from 27.63075 to 27.46342, saving model to drive/cnn_NN_model.h5\n",
      "Epoch 19/100\n",
      "315191/315191 [==============================] - 171s 541us/step - loss: 28.1044 - acc: 0.1923 - val_loss: 27.3689 - val_acc: 0.2173\n",
      "\n",
      "Epoch 00019: val_loss improved from 27.46342 to 27.36890, saving model to drive/cnn_NN_model.h5\n",
      "Epoch 20/100\n",
      "315191/315191 [==============================] - 171s 542us/step - loss: 28.1167 - acc: 0.1927 - val_loss: 26.8357 - val_acc: 0.2289\n",
      "\n",
      "Epoch 00020: val_loss improved from 27.36890 to 26.83574, saving model to drive/cnn_NN_model.h5\n",
      "Epoch 21/100\n",
      "315191/315191 [==============================] - 170s 541us/step - loss: 27.7609 - acc: 0.1922 - val_loss: 27.0233 - val_acc: 0.2157\n",
      "\n",
      "Epoch 00021: val_loss did not improve from 26.83574\n",
      "Epoch 22/100\n",
      "315191/315191 [==============================] - 170s 539us/step - loss: 27.5400 - acc: 0.1968 - val_loss: 26.2059 - val_acc: 0.2068\n",
      "\n",
      "Epoch 00022: val_loss improved from 26.83574 to 26.20588, saving model to drive/cnn_NN_model.h5\n",
      "Epoch 23/100\n",
      "315191/315191 [==============================] - 171s 542us/step - loss: 27.2628 - acc: 0.2174 - val_loss: 25.5559 - val_acc: 0.2499\n",
      "\n",
      "Epoch 00023: val_loss improved from 26.20588 to 25.55588, saving model to drive/cnn_NN_model.h5\n",
      "Epoch 24/100\n",
      "315191/315191 [==============================] - 171s 541us/step - loss: 27.0627 - acc: 0.2148 - val_loss: 25.8837 - val_acc: 0.2392\n",
      "\n",
      "Epoch 00024: val_loss did not improve from 25.55588\n",
      "Epoch 25/100\n",
      "315191/315191 [==============================] - 171s 541us/step - loss: 26.9363 - acc: 0.2046 - val_loss: 25.9602 - val_acc: 0.2402\n",
      "\n",
      "Epoch 00025: val_loss did not improve from 25.55588\n",
      "Epoch 26/100\n",
      "315191/315191 [==============================] - 170s 540us/step - loss: 26.8496 - acc: 0.1997 - val_loss: 25.7016 - val_acc: 0.2283\n",
      "\n",
      "Epoch 00026: val_loss did not improve from 25.55588\n",
      "Epoch 27/100\n",
      "315191/315191 [==============================] - 170s 539us/step - loss: 26.7254 - acc: 0.2030 - val_loss: 26.2311 - val_acc: 0.2355\n",
      "\n",
      "Epoch 00027: val_loss did not improve from 25.55588\n",
      "Epoch 28/100\n",
      "315191/315191 [==============================] - 170s 540us/step - loss: 26.6736 - acc: 0.2039 - val_loss: 25.4587 - val_acc: 0.2216\n",
      "\n",
      "Epoch 00028: val_loss improved from 25.55588 to 25.45870, saving model to drive/cnn_NN_model.h5\n",
      "Epoch 29/100\n",
      "315191/315191 [==============================] - 170s 541us/step - loss: 26.6608 - acc: 0.2018 - val_loss: 25.1649 - val_acc: 0.2285\n",
      "\n",
      "Epoch 00029: val_loss improved from 25.45870 to 25.16495, saving model to drive/cnn_NN_model.h5\n",
      "Epoch 30/100\n",
      "315191/315191 [==============================] - 170s 540us/step - loss: 26.5513 - acc: 0.2015 - val_loss: 25.6780 - val_acc: 0.2018\n",
      "\n",
      "Epoch 00030: val_loss did not improve from 25.16495\n",
      "Epoch 31/100\n",
      "315191/315191 [==============================] - 170s 541us/step - loss: 26.5094 - acc: 0.1957 - val_loss: 25.3406 - val_acc: 0.1934\n",
      "\n",
      "Epoch 00031: val_loss did not improve from 25.16495\n",
      "Epoch 32/100\n",
      "315191/315191 [==============================] - 171s 541us/step - loss: 26.4690 - acc: 0.1929 - val_loss: 25.0548 - val_acc: 0.1985\n",
      "\n",
      "Epoch 00032: val_loss improved from 25.16495 to 25.05484, saving model to drive/cnn_NN_model.h5\n",
      "Epoch 33/100\n",
      "315191/315191 [==============================] - 171s 542us/step - loss: 26.4274 - acc: 0.1974 - val_loss: 26.2710 - val_acc: 0.2006\n",
      "\n",
      "Epoch 00033: val_loss did not improve from 25.05484\n",
      "Epoch 34/100\n",
      "315191/315191 [==============================] - 170s 540us/step - loss: 26.4538 - acc: 0.1980 - val_loss: 25.5366 - val_acc: 0.2158\n",
      "\n",
      "Epoch 00034: val_loss did not improve from 25.05484\n",
      "Epoch 35/100\n",
      "315191/315191 [==============================] - 170s 541us/step - loss: 26.3305 - acc: 0.1997 - val_loss: 25.3379 - val_acc: 0.1957\n",
      "\n",
      "Epoch 00035: val_loss did not improve from 25.05484\n",
      "Epoch 36/100\n",
      "315191/315191 [==============================] - 170s 541us/step - loss: 26.3021 - acc: 0.1975 - val_loss: 25.3892 - val_acc: 0.2002\n",
      "\n",
      "Epoch 00036: val_loss did not improve from 25.05484\n",
      "Epoch 37/100\n",
      "315191/315191 [==============================] - 171s 542us/step - loss: 26.3428 - acc: 0.2075 - val_loss: 25.2659 - val_acc: 0.2071\n",
      "\n",
      "Epoch 00037: val_loss did not improve from 25.05484\n",
      "Epoch 38/100\n",
      "315191/315191 [==============================] - 170s 541us/step - loss: 26.1588 - acc: 0.2101 - val_loss: 25.4759 - val_acc: 0.1686\n",
      "\n",
      "Epoch 00038: val_loss did not improve from 25.05484\n",
      "Epoch 39/100\n",
      "315191/315191 [==============================] - 170s 539us/step - loss: 26.2536 - acc: 0.2079 - val_loss: 25.6855 - val_acc: 0.2003\n",
      "\n",
      "Epoch 00039: val_loss did not improve from 25.05484\n",
      "Epoch 40/100\n",
      "315191/315191 [==============================] - 170s 540us/step - loss: 26.2128 - acc: 0.2064 - val_loss: 24.6933 - val_acc: 0.2012\n",
      "\n",
      "Epoch 00040: val_loss improved from 25.05484 to 24.69326, saving model to drive/cnn_NN_model.h5\n",
      "Epoch 41/100\n",
      "315191/315191 [==============================] - 170s 540us/step - loss: 26.2793 - acc: 0.2043 - val_loss: 25.1740 - val_acc: 0.2193\n",
      "\n",
      "Epoch 00041: val_loss did not improve from 24.69326\n",
      "Epoch 42/100\n",
      "315191/315191 [==============================] - 171s 541us/step - loss: 26.1345 - acc: 0.2105 - val_loss: 25.4862 - val_acc: 0.1978\n",
      "\n",
      "Epoch 00042: val_loss did not improve from 24.69326\n",
      "Epoch 43/100\n",
      "315191/315191 [==============================] - 170s 540us/step - loss: 26.0543 - acc: 0.2123 - val_loss: 25.3753 - val_acc: 0.2202\n",
      "\n",
      "Epoch 00043: val_loss did not improve from 24.69326\n",
      "Epoch 44/100\n",
      "315191/315191 [==============================] - 170s 541us/step - loss: 26.0763 - acc: 0.2102 - val_loss: 25.3024 - val_acc: 0.2013\n",
      "\n",
      "Epoch 00044: val_loss did not improve from 24.69326\n",
      "Epoch 45/100\n",
      "315191/315191 [==============================] - 170s 539us/step - loss: 25.9683 - acc: 0.2061 - val_loss: 24.9070 - val_acc: 0.2018\n",
      "\n",
      "Epoch 00045: val_loss did not improve from 24.69326\n",
      "Epoch 46/100\n",
      "315191/315191 [==============================] - 170s 539us/step - loss: 25.8604 - acc: 0.1990 - val_loss: 24.8390 - val_acc: 0.2008\n",
      "\n",
      "Epoch 00046: val_loss did not improve from 24.69326\n",
      "Epoch 47/100\n",
      "315191/315191 [==============================] - 170s 539us/step - loss: 25.8294 - acc: 0.2041 - val_loss: 24.9468 - val_acc: 0.2030\n",
      "\n",
      "Epoch 00047: val_loss did not improve from 24.69326\n",
      "Epoch 48/100\n",
      "315191/315191 [==============================] - 170s 539us/step - loss: 25.7623 - acc: 0.2036 - val_loss: 24.8306 - val_acc: 0.1576\n",
      "\n",
      "Epoch 00048: val_loss did not improve from 24.69326\n",
      "Epoch 49/100\n",
      "315191/315191 [==============================] - 170s 541us/step - loss: 25.7878 - acc: 0.2013 - val_loss: 24.4871 - val_acc: 0.1520\n",
      "\n",
      "Epoch 00049: val_loss improved from 24.69326 to 24.48714, saving model to drive/cnn_NN_model.h5\n",
      "Epoch 50/100\n",
      "315191/315191 [==============================] - 170s 541us/step - loss: 25.6951 - acc: 0.1983 - val_loss: 24.9289 - val_acc: 0.1461\n",
      "\n",
      "Epoch 00050: val_loss did not improve from 24.48714\n",
      "Epoch 51/100\n",
      "315191/315191 [==============================] - 171s 541us/step - loss: 25.7585 - acc: 0.1993 - val_loss: 24.9774 - val_acc: 0.1915\n",
      "\n",
      "Epoch 00051: val_loss did not improve from 24.48714\n",
      "Epoch 52/100\n",
      "315191/315191 [==============================] - 170s 539us/step - loss: 25.7826 - acc: 0.1990 - val_loss: 24.5336 - val_acc: 0.1633\n",
      "\n",
      "Epoch 00052: val_loss did not improve from 24.48714\n",
      "Epoch 53/100\n",
      "315191/315191 [==============================] - 170s 539us/step - loss: 25.7614 - acc: 0.2118 - val_loss: 24.5044 - val_acc: 0.1538\n",
      "\n",
      "Epoch 00053: val_loss did not improve from 24.48714\n",
      "Epoch 54/100\n",
      "315191/315191 [==============================] - 170s 538us/step - loss: 25.7133 - acc: 0.2033 - val_loss: 24.9698 - val_acc: 0.1709\n",
      "\n",
      "Epoch 00054: val_loss did not improve from 24.48714\n",
      "Epoch 55/100\n",
      "315191/315191 [==============================] - 170s 539us/step - loss: 25.6286 - acc: 0.2049 - val_loss: 24.5583 - val_acc: 0.1529\n",
      "\n",
      "Epoch 00055: val_loss did not improve from 24.48714\n",
      "Epoch 56/100\n",
      "315191/315191 [==============================] - 171s 541us/step - loss: 25.5722 - acc: 0.2020 - val_loss: 24.2078 - val_acc: 0.1492\n",
      "\n",
      "Epoch 00056: val_loss improved from 24.48714 to 24.20778, saving model to drive/cnn_NN_model.h5\n",
      "Epoch 57/100\n",
      "315191/315191 [==============================] - 171s 541us/step - loss: 25.5592 - acc: 0.1974 - val_loss: 24.1063 - val_acc: 0.1478\n",
      "\n",
      "Epoch 00057: val_loss improved from 24.20778 to 24.10633, saving model to drive/cnn_NN_model.h5\n",
      "Epoch 58/100\n",
      "315191/315191 [==============================] - 170s 541us/step - loss: 25.4998 - acc: 0.2032 - val_loss: 24.3822 - val_acc: 0.1733\n",
      "\n",
      "Epoch 00058: val_loss did not improve from 24.10633\n",
      "Epoch 59/100\n",
      "315191/315191 [==============================] - 170s 538us/step - loss: 25.5384 - acc: 0.2025 - val_loss: 24.9190 - val_acc: 0.1767\n",
      "\n",
      "Epoch 00059: val_loss did not improve from 24.10633\n",
      "Epoch 60/100\n",
      "315191/315191 [==============================] - 170s 539us/step - loss: 25.6371 - acc: 0.2007 - val_loss: 24.7059 - val_acc: 0.1780\n",
      "\n",
      "Epoch 00060: val_loss did not improve from 24.10633\n",
      "Epoch 61/100\n",
      "315191/315191 [==============================] - 170s 538us/step - loss: 25.5435 - acc: 0.1971 - val_loss: 24.8524 - val_acc: 0.1818\n",
      "\n",
      "Epoch 00061: val_loss did not improve from 24.10633\n",
      "Epoch 62/100\n",
      "315191/315191 [==============================] - 170s 539us/step - loss: 25.5561 - acc: 0.2029 - val_loss: 24.4078 - val_acc: 0.1447\n",
      "\n",
      "Epoch 00062: val_loss did not improve from 24.10633\n",
      "Epoch 63/100\n",
      "315191/315191 [==============================] - 170s 539us/step - loss: 25.5241 - acc: 0.2023 - val_loss: 24.7053 - val_acc: 0.1688\n",
      "\n",
      "Epoch 00063: val_loss did not improve from 24.10633\n",
      "Epoch 64/100\n",
      "315191/315191 [==============================] - 170s 540us/step - loss: 25.5327 - acc: 0.1955 - val_loss: 24.8157 - val_acc: 0.1894\n",
      "\n",
      "Epoch 00064: val_loss did not improve from 24.10633\n",
      "Epoch 65/100\n",
      "315191/315191 [==============================] - 170s 540us/step - loss: 25.5898 - acc: 0.2021 - val_loss: 24.7686 - val_acc: 0.1519\n",
      "\n",
      "Epoch 00065: val_loss did not improve from 24.10633\n",
      "Epoch 66/100\n",
      "315191/315191 [==============================] - 170s 540us/step - loss: 25.4244 - acc: 0.1988 - val_loss: 24.0819 - val_acc: 0.1799\n",
      "\n",
      "Epoch 00066: val_loss improved from 24.10633 to 24.08195, saving model to drive/cnn_NN_model.h5\n",
      "Epoch 67/100\n",
      "315191/315191 [==============================] - 170s 539us/step - loss: 25.3301 - acc: 0.2045 - val_loss: 24.6804 - val_acc: 0.1513\n",
      "\n",
      "Epoch 00067: val_loss did not improve from 24.08195\n",
      "Epoch 68/100\n",
      "315191/315191 [==============================] - 170s 541us/step - loss: 25.4626 - acc: 0.2012 - val_loss: 24.6731 - val_acc: 0.1678\n",
      "\n",
      "Epoch 00068: val_loss did not improve from 24.08195\n",
      "Epoch 69/100\n",
      "315191/315191 [==============================] - 170s 541us/step - loss: 25.4464 - acc: 0.2006 - val_loss: 24.5710 - val_acc: 0.1883\n",
      "\n",
      "Epoch 00069: val_loss did not improve from 24.08195\n",
      "Epoch 70/100\n",
      "315191/315191 [==============================] - 171s 543us/step - loss: 25.3300 - acc: 0.1976 - val_loss: 23.6433 - val_acc: 0.1820\n",
      "\n",
      "Epoch 00070: val_loss improved from 24.08195 to 23.64327, saving model to drive/cnn_NN_model.h5\n",
      "Epoch 71/100\n",
      "315191/315191 [==============================] - 172s 546us/step - loss: 25.3019 - acc: 0.2014 - val_loss: 23.6398 - val_acc: 0.1876\n",
      "\n",
      "Epoch 00071: val_loss improved from 23.64327 to 23.63976, saving model to drive/cnn_NN_model.h5\n",
      "Epoch 72/100\n",
      "315191/315191 [==============================] - 173s 548us/step - loss: 25.3273 - acc: 0.2085 - val_loss: 24.4165 - val_acc: 0.1574\n",
      "\n",
      "Epoch 00072: val_loss did not improve from 23.63976\n",
      "Epoch 73/100\n",
      "315191/315191 [==============================] - 172s 545us/step - loss: 25.3339 - acc: 0.1988 - val_loss: 24.2773 - val_acc: 0.1293\n",
      "\n",
      "Epoch 00073: val_loss did not improve from 23.63976\n",
      "Epoch 74/100\n",
      "315191/315191 [==============================] - 172s 546us/step - loss: 25.2395 - acc: 0.2003 - val_loss: 24.5518 - val_acc: 0.1572\n",
      "\n",
      "Epoch 00074: val_loss did not improve from 23.63976\n",
      "Epoch 75/100\n",
      "315191/315191 [==============================] - 172s 545us/step - loss: 25.2907 - acc: 0.1981 - val_loss: 24.0006 - val_acc: 0.1819\n",
      "\n",
      "Epoch 00075: val_loss did not improve from 23.63976\n",
      "Epoch 76/100\n",
      "315191/315191 [==============================] - 172s 545us/step - loss: 25.2453 - acc: 0.2020 - val_loss: 24.3289 - val_acc: 0.1793\n",
      "\n",
      "Epoch 00076: val_loss did not improve from 23.63976\n",
      "Epoch 77/100\n",
      "315191/315191 [==============================] - 172s 546us/step - loss: 25.2558 - acc: 0.2057 - val_loss: 24.3747 - val_acc: 0.1628\n",
      "\n",
      "Epoch 00077: val_loss did not improve from 23.63976\n",
      "Epoch 78/100\n",
      "315191/315191 [==============================] - 172s 547us/step - loss: 25.2678 - acc: 0.1990 - val_loss: 24.6473 - val_acc: 0.1825\n",
      "\n",
      "Epoch 00078: val_loss did not improve from 23.63976\n",
      "Epoch 79/100\n",
      "315191/315191 [==============================] - 172s 545us/step - loss: 25.2133 - acc: 0.2015 - val_loss: 24.1976 - val_acc: 0.1524\n",
      "\n",
      "Epoch 00079: val_loss did not improve from 23.63976\n",
      "Epoch 80/100\n",
      "315191/315191 [==============================] - 173s 548us/step - loss: 25.2490 - acc: 0.1896 - val_loss: 23.9547 - val_acc: 0.1680\n",
      "\n",
      "Epoch 00080: val_loss did not improve from 23.63976\n",
      "Epoch 81/100\n",
      "315191/315191 [==============================] - 172s 544us/step - loss: 25.1693 - acc: 0.1936 - val_loss: 23.9527 - val_acc: 0.1774\n",
      "\n",
      "Epoch 00081: val_loss did not improve from 23.63976\n"
     ]
    }
   ],
   "source": [
    "early_stopping_monitor = EarlyStopping(patience=10)\n",
    "checkpointer = ModelCheckpoint(filepath=\"cnn_NN_model.h5\", verbose=1, save_best_only=True)\n",
    "\n",
    "history_cnn_NN = cnn_NN.fit([X_train_numeric, X_train_text], y_train, epochs=100, batch_size=2048, validation_split=0.1, callbacks=[early_stopping_monitor, checkpointer])"
   ]
  },
  {
   "cell_type": "code",
   "execution_count": 11,
   "metadata": {
    "colab": {
     "base_uri": "https://localhost:8080/",
     "height": 376
    },
    "colab_type": "code",
    "executionInfo": {
     "elapsed": 377,
     "status": "ok",
     "timestamp": 1534621630758,
     "user": {
      "displayName": "Albert Lee",
      "photoUrl": "//lh3.googleusercontent.com/-f0u8obCCk_w/AAAAAAAAAAI/AAAAAAAAAxs/83E22s4mtyM/s50-c-k-no/photo.jpg",
      "userId": "109969660738913262150"
     },
     "user_tz": 240
    },
    "id": "Aqfq_Q9VDf5B",
    "outputId": "c2790c22-4e96-4863-d50d-cd76b74044af"
   },
   "outputs": [
    {
     "data": {
      "image/png": "[encoded data removed]",
      "text/plain": [
       "<matplotlib.figure.Figure at 0x7f629ebf47f0>"
      ]
     },
     "metadata": {
      "tags": []
     },
     "output_type": "display_data"
    }
   ],
   "source": [
    "plt.plot(history_cnn_NN.history['loss'])\n",
    "plt.plot(history_cnn_NN.history['val_loss'])\n",
    "plt.title('model loss')\n",
    "plt.ylabel('loss')\n",
    "plt.xlabel('epoch')\n",
    "plt.legend(['train', 'test'], loc='upper left')\n",
    "plt.show()"
   ]
  },
  {
   "cell_type": "markdown",
   "metadata": {},
   "source": [
    "# Load pre-trained model\n",
    "Run cell below if model has already been trained, and json and h5 files are available"
   ]
  },
  {
   "cell_type": "code",
   "execution_count": 7,
   "metadata": {
    "colab": {},
    "colab_type": "code",
    "id": "MzyY-6uQNQCT"
   },
   "outputs": [],
   "source": [
    "# load json and create model\n",
    "with open('cnn_NN_model.json', 'r') as json_file:\n",
    "    loaded_model_json = json_file.read()\n",
    "    \n",
    "cnn_NN = model_from_json(loaded_model_json)\n",
    "cnn_NN.load_weights(\"cnn_NN_model.h5\")"
   ]
  },
  {
   "cell_type": "markdown",
   "metadata": {},
   "source": [
    "# Create predictions on test and validation sets"
   ]
  },
  {
   "cell_type": "code",
   "execution_count": 8,
   "metadata": {
    "colab": {},
    "colab_type": "code",
    "id": "AlXYzPrd5eP4"
   },
   "outputs": [],
   "source": [
    "label_class_counts = {\n",
    "    'Function': [0, 37], \n",
    "    'Object_Type': [37, 48], \n",
    "    'Operating_Status': [48, 51], \n",
    "    'Position_Type': [51, 76], \n",
    "    'Pre_K': [76, 79], \n",
    "    'Reporting': [79, 82], \n",
    "    'Sharing': [82, 87], \n",
    "    'Student_Type': [87, 96], \n",
    "    'Use': [96, 104]\n",
    "}\n",
    "\n",
    "scores = {}\n",
    "val_predictions = cnn_NN.predict([X_val_numeric, X_val_text])\n",
    "\n",
    "# Calculate validation logloss for each label\n",
    "for label, indices in label_class_counts.items():\n",
    "    # Get values for specific label\n",
    "    start_idx = indices[0]\n",
    "    end_idx = indices[1]\n",
    "    y_val_label = y_val[:, start_idx:end_idx]\n",
    "    val_predictions_label = val_predictions[:, start_idx:end_idx]\n",
    "    \n",
    "    \n",
    "    # Get logloss score of mode\n",
    "    scores[label] = log_loss(y_val_label, val_predictions_label)"
   ]
  },
  {
   "cell_type": "code",
   "execution_count": 9,
   "metadata": {
    "colab": {},
    "colab_type": "code",
    "id": "c6d9EwoxGX3z"
   },
   "outputs": [],
   "source": [
    "# Generate predictions for test set\n",
    "predictions = cnn_NN.predict([X_test_numeric, X_test_text])"
   ]
  },
  {
   "cell_type": "markdown",
   "metadata": {
    "colab_type": "text",
    "id": "_-pJMVIr5eP7"
   },
   "source": [
    "# Save score and predictions"
   ]
  },
  {
   "cell_type": "code",
   "execution_count": 10,
   "metadata": {
    "colab": {},
    "colab_type": "code",
    "id": "ngyDlM8A5eP7"
   },
   "outputs": [],
   "source": [
    "# Save predictions for test set\n",
    "label = ['Function',\n",
    "         'Object_Type',\n",
    "         'Operating_Status',\n",
    "         'Position_Type',\n",
    "         'Pre_K',\n",
    "         'Reporting',\n",
    "         'Sharing',\n",
    "         'Student_Type',\n",
    "         'Use']\n",
    "y = pd.get_dummies(data_train[label]).astype('float64')\n",
    "\n",
    "submission = pd.DataFrame(predictions, index=data_test.index, columns=y.columns)\n",
    "submission.to_csv('cnn_NN_model.csv')"
   ]
  },
  {
   "cell_type": "code",
   "execution_count": 11,
   "metadata": {
    "colab": {
     "base_uri": "https://localhost:8080/",
     "height": 170
    },
    "colab_type": "code",
    "executionInfo": {
     "elapsed": 231,
     "status": "ok",
     "timestamp": 1534621845424,
     "user": {
      "displayName": "Albert Lee",
      "photoUrl": "//lh3.googleusercontent.com/-f0u8obCCk_w/AAAAAAAAAAI/AAAAAAAAAxs/83E22s4mtyM/s50-c-k-no/photo.jpg",
      "userId": "109969660738913262150"
     },
     "user_tz": 240
    },
    "id": "uRHjIso15eP8",
    "outputId": "9e830f25-ee1e-48e2-c2b4-6f0a31bf920b"
   },
   "outputs": [
    {
     "data": {
      "text/plain": [
       "{'Function': 0.18381029245675215,\n",
       " 'Object_Type': 0.1767483893181308,\n",
       " 'Operating_Status': 0.44045025440946356,\n",
       " 'Position_Type': 0.1440102000181701,\n",
       " 'Pre_K': 0.30560131965580367,\n",
       " 'Reporting': 0.5625786333094639,\n",
       " 'Sharing': 0.23058234376702044,\n",
       " 'Student_Type': 0.4918790614674071,\n",
       " 'Use': 2.686110029018423}"
      ]
     },
     "execution_count": 11,
     "metadata": {},
     "output_type": "execute_result"
    }
   ],
   "source": [
    "scores"
   ]
  },
  {
   "cell_type": "code",
   "execution_count": 12,
   "metadata": {
    "colab": {
     "base_uri": "https://localhost:8080/",
     "height": 34
    },
    "colab_type": "code",
    "executionInfo": {
     "elapsed": 361,
     "status": "ok",
     "timestamp": 1534621845828,
     "user": {
      "displayName": "Albert Lee",
      "photoUrl": "//lh3.googleusercontent.com/-f0u8obCCk_w/AAAAAAAAAAI/AAAAAAAAAxs/83E22s4mtyM/s50-c-k-no/photo.jpg",
      "userId": "109969660738913262150"
     },
     "user_tz": 240
    },
    "id": "yQd8s_q85eP_",
    "outputId": "38644d79-11e6-4e94-e477-041948beac3e"
   },
   "outputs": [
    {
     "data": {
      "text/plain": [
       "0.5801967248245149"
      ]
     },
     "execution_count": 12,
     "metadata": {},
     "output_type": "execute_result"
    }
   ],
   "source": [
    "np.mean([score for score in scores.values()])"
   ]
  },
  {
   "cell_type": "code",
   "execution_count": 13,
   "metadata": {
    "colab": {},
    "colab_type": "code",
    "id": "DQxW3L5o5eQC"
   },
   "outputs": [],
   "source": [
    "with open('cnn_NN_score.json', 'w') as file:\n",
    "     file.write(json.dumps(scores))"
   ]
  },
  {
   "cell_type": "code",
   "execution_count": null,
   "metadata": {},
   "outputs": [],
   "source": []
  }
 ],
 "metadata": {
  "accelerator": "GPU",
  "colab": {
   "collapsed_sections": [],
   "name": "cnn_NN_model.ipynb",
   "provenance": [],
   "version": "0.3.2"
  },
  "kernelspec": {
   "display_name": "Python 3",
   "language": "python",
   "name": "python3"
  },
  "language_info": {
   "codemirror_mode": {
    "name": "ipython",
    "version": 3
   },
   "file_extension": ".py",
   "mimetype": "text/x-python",
   "name": "python",
   "nbconvert_exporter": "python",
   "pygments_lexer": "ipython3",
   "version": "3.6.5"
  }
 },
 "nbformat": 4,
 "nbformat_minor": 2
}
