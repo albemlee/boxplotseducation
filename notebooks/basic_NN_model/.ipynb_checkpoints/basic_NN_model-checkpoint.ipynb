{
 "cells": [
  {
   "cell_type": "markdown",
   "metadata": {
    "colab_type": "text",
    "id": "gnWCGPLQ5ePG"
   },
   "source": [
    "# Setup Notebook"
   ]
  },
  {
   "cell_type": "code",
   "execution_count": 2,
   "metadata": {
    "colab": {
     "base_uri": "https://localhost:8080/",
     "height": 34
    },
    "colab_type": "code",
    "executionInfo": {
     "elapsed": 8476,
     "status": "ok",
     "timestamp": 1535404790731,
     "user": {
      "displayName": "Albert Lee",
      "photoUrl": "//lh3.googleusercontent.com/-f0u8obCCk_w/AAAAAAAAAAI/AAAAAAAAAxs/83E22s4mtyM/s50-c-k-no/photo.jpg",
      "userId": "109969660738913262150"
     },
     "user_tz": 240
    },
    "id": "Nrg9OIDy5ePJ",
    "outputId": "311b66c1-cd20-4625-e2a9-65c25f1005eb"
   },
   "outputs": [
    {
     "name": "stderr",
     "output_type": "stream",
     "text": [
      "Using TensorFlow backend.\n"
     ]
    }
   ],
   "source": [
    "# To load data\n",
    "import zipfile\n",
    "import numpy as np\n",
    "import pandas as pd\n",
    "\n",
    "# For text processing\n",
    "import re\n",
    "import nltk\n",
    "# nltk.download('stopwords')\n",
    "# nltk.download('wordnet')\n",
    "from nltk.corpus import stopwords\n",
    "from nltk.stem.wordnet import WordNetLemmatizer\n",
    "from keras.preprocessing.text import Tokenizer\n",
    "from sklearn.preprocessing import Imputer\n",
    "from scipy import sparse\n",
    "from sklearn.model_selection import train_test_split\n",
    "\n",
    "# To build model\n",
    "import keras\n",
    "from keras.layers import Dense, concatenate, Input, Dropout\n",
    "from keras.models import Model\n",
    "\n",
    "# To train model\n",
    "from keras.callbacks import EarlyStopping\n",
    "from keras.models import model_from_json\n",
    "from keras.callbacks import ModelCheckpoint\n",
    "\n",
    "# To evaluate model\n",
    "import matplotlib.pyplot as plt\n",
    "from sklearn.metrics import log_loss\n",
    "\n",
    "# To track time elapsed\n",
    "import time\n",
    "\n",
    "# To save results\n",
    "import dill\n",
    "import json\n",
    "import pickle"
   ]
  },
  {
   "cell_type": "markdown",
   "metadata": {
    "colab_type": "text",
    "id": "uPLEdpRv5ePM"
   },
   "source": [
    "# Load Data"
   ]
  },
  {
   "cell_type": "code",
   "execution_count": null,
   "metadata": {
    "colab": {},
    "colab_type": "code",
    "id": "YF3nUD615ePM"
   },
   "outputs": [],
   "source": [
    "def load_data():\n",
    "    \"\"\"\n",
    "    Return pandas dataframe data_train: training data (features + labels)\n",
    "    Return pandas dataframe data_test: test data (only features)\n",
    "    \n",
    "    Required Libraries: zipfile, pandas\n",
    "    \"\"\"\n",
    "    \n",
    "    # Load zipped folder with data files\n",
    "    resource_archive = zipfile.ZipFile('resources.zip', 'r')\n",
    "\n",
    "    # Load testing data\n",
    "    data_test = pd.read_csv(resource_archive.open('TestData.csv'), \n",
    "                            dtype={\n",
    "                                'Object_Description': str, \n",
    "                                'Program_Description': str, \n",
    "                                'SubFund_Description': str, \n",
    "                                'Job_Title_Description': str, \n",
    "                                'Facility_or_Department': str,\n",
    "                                'Sub_Object_Description': str, \n",
    "                                'Location_Description': str, \n",
    "                                'FTE': float,\n",
    "                                'Function_Description': str, \n",
    "                                'Position_Extra': str, \n",
    "                                'Text_4': str, \n",
    "                                'Total': float, \n",
    "                                'Text_2': str,\n",
    "                                'Text_3': str, \n",
    "                                'Fund_Description': str, \n",
    "                                'Text_1': str\n",
    "                            },\n",
    "                            index_col=0)\n",
    "\n",
    "    # Load training data\n",
    "    data_train = pd.read_csv(resource_archive.open('TrainingData.csv'), \n",
    "                            dtype={\n",
    "                                'Object_Description': str, \n",
    "                                'Program_Description': str, \n",
    "                                'SubFund_Description': str, \n",
    "                                'Job_Title_Description': str, \n",
    "                                'Facility_or_Department': str,\n",
    "                                'Sub_Object_Description': str, \n",
    "                                'Location_Description': str, \n",
    "                                'FTE': float,\n",
    "                                'Function_Description': str, \n",
    "                                'Position_Extra': str, \n",
    "                                'Text_4': str, \n",
    "                                'Total': float, \n",
    "                                'Text_2': str,\n",
    "                                'Text_3': str, \n",
    "                                'Fund_Description': str, \n",
    "                                'Text_1': str,\n",
    "                                'Function': 'category',\n",
    "                                'Object_Type': 'category',\n",
    "                                'Operating_Status': 'category',\n",
    "                                'Position_Type': 'category',\n",
    "                                'Pre_K': 'category',\n",
    "                                'Reporting': 'category',\n",
    "                                'Sharing': 'category',\n",
    "                                'Student_Type': 'category',\n",
    "                                'Use': 'category',\n",
    "                            },\n",
    "                             index_col=0)\n",
    "    \n",
    "    return data_train, data_test"
   ]
  },
  {
   "cell_type": "code",
   "execution_count": 4,
   "metadata": {
    "colab": {
     "base_uri": "https://localhost:8080/",
     "height": 51
    },
    "colab_type": "code",
    "executionInfo": {
     "elapsed": 2859,
     "status": "ok",
     "timestamp": 1535404794111,
     "user": {
      "displayName": "Albert Lee",
      "photoUrl": "//lh3.googleusercontent.com/-f0u8obCCk_w/AAAAAAAAAAI/AAAAAAAAAxs/83E22s4mtyM/s50-c-k-no/photo.jpg",
      "userId": "109969660738913262150"
     },
     "user_tz": 240
    },
    "id": "GVz1rkaX5ePP",
    "outputId": "e9ff06e4-756d-4d1a-b0bb-6d9c404403a5"
   },
   "outputs": [
    {
     "name": "stdout",
     "output_type": "stream",
     "text": [
      "data_train shape: (400277, 25)\n",
      "data_test shape: (50064, 16)\n"
     ]
    }
   ],
   "source": [
    "data_train, data_test = load_data()\n",
    "print('data_train shape:', data_train.shape)\n",
    "print('data_test shape:', data_test.shape)"
   ]
  },
  {
   "cell_type": "code",
   "execution_count": null,
   "metadata": {
    "colab": {},
    "colab_type": "code",
    "id": "i203UxGy5ePT"
   },
   "outputs": [],
   "source": [
    "def load_features(data_train, data_test):\n",
    "    \"\"\"\n",
    "    Return pandas dataframe data_features: data in feature columns of data_train and data_test\n",
    "    \n",
    "    Param pandas dataframe data_train: training data (features + labels)\n",
    "    Param pandas dataframe data_test: test data (only features)\n",
    "    \n",
    "    Required Libraries: pandas\n",
    "    \"\"\"\n",
    "    \n",
    "    feature_columns = data_test.columns # data_test only contains features\n",
    "    \n",
    "    data_features = pd.concat([data_train[feature_columns], data_test])\n",
    "    \n",
    "    return data_features"
   ]
  },
  {
   "cell_type": "code",
   "execution_count": 6,
   "metadata": {
    "colab": {
     "base_uri": "https://localhost:8080/",
     "height": 34
    },
    "colab_type": "code",
    "executionInfo": {
     "elapsed": 458,
     "status": "ok",
     "timestamp": 1535404795089,
     "user": {
      "displayName": "Albert Lee",
      "photoUrl": "//lh3.googleusercontent.com/-f0u8obCCk_w/AAAAAAAAAAI/AAAAAAAAAxs/83E22s4mtyM/s50-c-k-no/photo.jpg",
      "userId": "109969660738913262150"
     },
     "user_tz": 240
    },
    "id": "vBZekpVd5ePV",
    "outputId": "efc0f579-b14f-4bd3-a946-55a0d6d0386f"
   },
   "outputs": [
    {
     "name": "stdout",
     "output_type": "stream",
     "text": [
      "data_features shape: (450341, 16)\n"
     ]
    }
   ],
   "source": [
    "# Load Features\n",
    "data_features = load_features(data_train, data_test)\n",
    "print('data_features shape:', data_features.shape)"
   ]
  },
  {
   "cell_type": "markdown",
   "metadata": {
    "colab_type": "text",
    "id": "9ITNF9275ePY"
   },
   "source": [
    "# Prepare Data for Classification\n",
    "Run only if preprocessed data files are not available"
   ]
  },
  {
   "cell_type": "code",
   "execution_count": null,
   "metadata": {
    "colab": {},
    "colab_type": "code",
    "id": "ID0Uo8GT5ePY"
   },
   "outputs": [],
   "source": [
    "def text_processing(phrase):\n",
    "    \"\"\"\n",
    "    Return list processed_phrase: phrase tokens after processing has been completed\n",
    "    \n",
    "    param string phrase: phrase to be processed\n",
    "    \n",
    "    Required Libraries: re, nltk\n",
    "    \"\"\"\n",
    "    \n",
    "    # Case Normalization\n",
    "    processed_phrase = phrase.lower()\n",
    "    \n",
    "    # Remove Punctuations\n",
    "    processed_phrase = re.sub(r\"[^a-z0-9-]\", \" \", processed_phrase)\n",
    "    \n",
    "    # Tokenize Phrase\n",
    "    processed_phrase = processed_phrase.split()\n",
    "    \n",
    "    # Remove Stopwords\n",
    "    processed_phrase = [word for word in processed_phrase if word not in stopwords.words(\"english\") and word != '-']\n",
    "    \n",
    "    # Lemmatization\n",
    "    processed_phrase = [WordNetLemmatizer().lemmatize(word) for word in processed_phrase]\n",
    "    \n",
    "    # Recombine list into phrase\n",
    "    processed_phrase = ' '.join(processed_phrase)\n",
    "    \n",
    "    return processed_phrase"
   ]
  },
  {
   "cell_type": "code",
   "execution_count": null,
   "metadata": {
    "colab": {},
    "colab_type": "code",
    "id": "_ZapkVld5ePb",
    "outputId": "8bf67ef2-f47a-4d30-84cf-7bb823a5cd59"
   },
   "outputs": [
    {
     "name": "stdout",
     "output_type": "stream",
     "text": [
      "past patiently waitin passionately smashin every expectation every action act creation laughin face casualty sorrow first time thinkin past tomorrow\n",
      "0.033808231353759766\n"
     ]
    }
   ],
   "source": [
    "# test text_processing function (with quote from Hamilton: The Musical)\n",
    "start_time = time.time()\n",
    "print(text_processing(\n",
    "    \"I’m past patiently waitin’. I’m passionately smashin’ every expectation. \" + \n",
    "    \"Every action’s an act of creation! \" +\n",
    "    \"I’m laughin’ in the face of casualties and sorrow. \" +\n",
    "    \"For the first time, I’m thinkin’ past tomorrow\"))\n",
    "print(time.time() - start_time)"
   ]
  },
  {
   "cell_type": "code",
   "execution_count": null,
   "metadata": {
    "colab": {},
    "colab_type": "code",
    "id": "ZFQgJuJ_5ePd"
   },
   "outputs": [],
   "source": [
    "def init_prep(data_train, data_test, data_features, label=None):\n",
    "    \"\"\"\n",
    "    Return numpy array X_numeric: numerical feature matrix of test set\n",
    "    Return numpy array X_text: text feature matrix for classification model fitting\n",
    "    Return numpy array X_numeric_test: numerical feature matrix of test set\n",
    "    Return numpy array X_text_test: text feature matrix for classification model fitting\n",
    "    Return numpy array y: labels matrix for classification model fitting\n",
    "    Return keras.Tokenizer() tokenize: contains word to token mapping\n",
    "    \n",
    "    Param pandas dataframe data_train: training data (features + labels)\n",
    "    Param pandas dataframe data_test: test data (features)\n",
    "    Param pandas dataframe data_features: data in feature columns of data_train and data_test\n",
    "    \n",
    "    Required Libraries: pandas, numpy, keras\n",
    "    Required helper functions: text_processing\n",
    "    \"\"\"\n",
    "    \n",
    "    # Combined and preprocess text columns\n",
    "    data_train['combined_text'] = (data_train[data_features.columns]\n",
    "                                       .drop(columns=['FTE', 'Total'])\n",
    "                                       .fillna(\"\")\n",
    "                                       .apply(lambda x: \" \".join(x), axis=1)\n",
    "                                       .apply(lambda x: text_processing(x))\n",
    "                                  )\n",
    "    data_test['combined_text'] = (data_test[data_features.columns]\n",
    "                                       .drop(columns=['FTE', 'Total'])\n",
    "                                       .fillna(\"\")\n",
    "                                       .apply(lambda x: \" \".join(x), axis=1)\n",
    "                                       .apply(lambda x: text_processing(x))\n",
    "                                 )\n",
    "    data_features['combined_text'] = (data_features\n",
    "                                          .drop(columns=['FTE', 'Total'])\n",
    "                                          .fillna(\"\")\n",
    "                                          .apply(lambda x: \" \".join(x), axis=1)\n",
    "                                          .apply(lambda x: text_processing(x))\n",
    "                                     )\n",
    "    \n",
    "    # Vectorizer text columns in training data\n",
    "    tokenize = Tokenizer()\n",
    "    tokenize.fit_on_texts(data_features['combined_text'])\n",
    "    \n",
    "    X_text = tokenize.texts_to_matrix(data_train['combined_text'])\n",
    "    X_text_test = tokenize.texts_to_matrix(data_test['combined_text'])\n",
    "\n",
    "    # Create new features based on whether fte is missing and whether total is missing\n",
    "    total_not_missing = pd.isnull(data_train['Total']).astype(int).values.reshape(-1, 1) # training data\n",
    "    fte_not_missing = pd.isnull(data_train['FTE']).astype(int).values.reshape(-1, 1) # training data\n",
    "    total_not_missing_test = pd.isnull(data_test['Total']).astype(int).values.reshape(-1, 1) # test data\n",
    "    fte_not_missing_test = pd.isnull(data_test['FTE']).astype(int).values.reshape(-1, 1) # test data\n",
    "    \n",
    "    # Impute total with median total value\n",
    "    imp_total = Imputer(strategy='median')\n",
    "    imp_total.fit(data_features['Total'].values.reshape(-1, 1))\n",
    "    total = imp_total.transform(data_train['Total'].values.reshape(-1, 1)) # training data\n",
    "    total_test = imp_total.transform(data_test['Total'].values.reshape(-1, 1)) # test data\n",
    "    \n",
    "    # Replace missing fte values with 0\n",
    "    fte = data_train['FTE'].fillna('0').values.reshape(-1, 1) # training data\n",
    "    fte_test = data_test['FTE'].fillna('0').values.reshape(-1, 1) # test data\n",
    "    \n",
    "    # Create feature matrix\n",
    "    X_numeric = np.concatenate([total, total_not_missing, fte, fte_not_missing], axis=1) # train\n",
    "    X_numeric_test = np.concatenate([total_test, total_not_missing_test, fte_test, fte_not_missing_test], axis=1) # test\n",
    "    \n",
    "    # Create labels matrix\n",
    "    if label:\n",
    "        y = pd.get_dummies(data_train[label]).values.astype('float64')\n",
    "    else:\n",
    "        label = ['Function',\n",
    "                 'Object_Type',\n",
    "                 'Operating_Status',\n",
    "                 'Position_Type',\n",
    "                 'Pre_K',\n",
    "                 'Reporting',\n",
    "                 'Sharing',\n",
    "                 'Student_Type',\n",
    "                 'Use']\n",
    "        y = pd.get_dummies(data_train[label]).values.astype('float64')\n",
    "    \n",
    "    return X_numeric, X_text, X_numeric_test, X_text_test, y, tokenize"
   ]
  },
  {
   "cell_type": "code",
   "execution_count": null,
   "metadata": {
    "colab": {},
    "colab_type": "code",
    "id": "6IISwk-c5ePf"
   },
   "outputs": [],
   "source": [
    "# Preprocess data\n",
    "X_numeric, X_text, X_test_numeric, X_test_text, y, tokenize = init_prep(data_train, data_test, data_features)"
   ]
  },
  {
   "cell_type": "code",
   "execution_count": null,
   "metadata": {
    "colab": {},
    "colab_type": "code",
    "id": "YeEwXBk75ePi"
   },
   "outputs": [],
   "source": [
    "# Convert X_test_text to sparse matrix\n",
    "X_test_text = sparse.csr_matrix(X_test_text)\n",
    "\n",
    "# Save preprocesses test data\n",
    "sparse.save_npz('X_test_text.npz', X_test_text)\n",
    "np.savez('X_test_numeric.npz', X_test_numeric)\n",
    "\n",
    "# Pickle tokenize\n",
    "with open('tokenizer.pickle', 'wb') as handle:\n",
    "    pickle.dump(tokenize, handle, protocol=pickle.HIGHEST_PROTOCOL)"
   ]
  },
  {
   "cell_type": "code",
   "execution_count": null,
   "metadata": {
    "colab": {},
    "colab_type": "code",
    "id": "g3wYrZqv5ePp"
   },
   "outputs": [],
   "source": [
    "def prep_for_classification(X_numeric, X_text, y, validation_size=50064):\n",
    "    \"\"\"\n",
    "    Split training data into training and validation sets\n",
    "    \n",
    "    Return pandas dataframe X_train_numeric: training data (features)\n",
    "    Return pandas dataframe X_train_text: training data (features)\n",
    "    Return pandas dataframe X_val_numeric: validation data (features)\n",
    "    Return pandas dataframe X_val_text: validation data (features)\n",
    "    Return pandas dataframe y_train: training data (labels)\n",
    "    Return pandas dataframe y_val: validation data (labels)\n",
    "    \n",
    "    param numpy array X_numeric: numerical feature matrix of test set\n",
    "    param numpy array X_text: text feature matrix for classification model fitting\n",
    "    param numpy array X_numeric_test: numerical feature matrix of test set\n",
    "    param numpy array X_text_test: text feature matrix for classification model fitting\n",
    "    param numpy array y: labels matrix for classification model fitting\n",
    "    \n",
    "    Required Libraries: pandas, sklearn.model_selection\n",
    "    \"\"\"\n",
    "    \n",
    "    # Split into training and validation sets\n",
    "    X_train_numeric, X_val_numeric, X_train_text, X_val_text, y_train, y_val = train_test_split(X_numeric, X_text, y, test_size=validation_size, random_state=93)\n",
    "    \n",
    "    return X_train_numeric, X_val_numeric, X_train_text, X_val_text, y_train, y_val"
   ]
  },
  {
   "cell_type": "code",
   "execution_count": null,
   "metadata": {
    "colab": {},
    "colab_type": "code",
    "id": "drbaQuel5ePr",
    "outputId": "ee0f9a4d-d079-4e19-9a29-2cdede5e9b82"
   },
   "outputs": [
    {
     "name": "stdout",
     "output_type": "stream",
     "text": [
      "X_train_numeric (350213, 4)\n",
      "X_train_text (350213, 3804)\n",
      "y_train (350213, 104)\n",
      "X_val_numeric (50064, 4)\n",
      "X_val_text (50064, 3804)\n",
      "y_val (50064, 104)\n"
     ]
    }
   ],
   "source": [
    "# Split trainin data into training and validation sets\n",
    "X_train_numeric, X_val_numeric, X_train_text, X_val_text, y_train, y_val = prep_for_classification(X_numeric, X_text, y)\n",
    "print('X_train_numeric', X_train_numeric.shape)\n",
    "print('X_train_text', X_train_text.shape)\n",
    "print('y_train', y_train.shape)\n",
    "print('X_val_numeric', X_val_numeric.shape)\n",
    "print('X_val_text', X_val_text.shape)\n",
    "print('y_val', y_val.shape)"
   ]
  },
  {
   "cell_type": "code",
   "execution_count": null,
   "metadata": {
    "colab": {},
    "colab_type": "code",
    "id": "ZhVYZEmx5ePv"
   },
   "outputs": [],
   "source": [
    "# Save preprocessed text data as sparse matrix\n",
    "X_train_text = sparse.csr_matrix(X_train_text)\n",
    "X_val_text = sparse.csr_matrix(X_val_text)\n",
    "sparse.save_npz('X_train_text.npz', X_train_text)\n",
    "sparse.save_npz('X_val_text.npz', X_val_text)\n",
    "\n",
    "# Save labels as sparse matrix\n",
    "y_train = sparse.csr_matrix(y_train)\n",
    "y_val = sparse.csr_matrix(y_val)\n",
    "sparse.save_npz('y_train.npz', y_train)\n",
    "sparse.save_npz('y_val.npz', y_val)\n",
    "\n",
    "# Save preprocessed numeric data\n",
    "np.savez('X_train_numeric.npz', X_train_numeric)\n",
    "np.savez('X_val_numeric.npz', X_val_numeric)"
   ]
  },
  {
   "cell_type": "markdown",
   "metadata": {},
   "source": [
    "# Load Data\n",
    "Run this cell if preprocessed data files are available"
   ]
  },
  {
   "cell_type": "code",
   "execution_count": null,
   "metadata": {
    "colab": {
     "base_uri": "https://localhost:8080/",
     "height": 443,
     "resources": {
      "http://localhost:8080/nbextensions/google.colab/files.js": {
       "data": "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",
       "headers": [
        [
         "content-type",
         "application/javascript"
        ]
       ],
       "ok": true,
       "status": 200,
       "status_text": ""
      }
     }
    },
    "colab_type": "code",
    "executionInfo": {
     "elapsed": 67748,
     "status": "ok",
     "timestamp": 1535404876185,
     "user": {
      "displayName": "Albert Lee",
      "photoUrl": "//lh3.googleusercontent.com/-f0u8obCCk_w/AAAAAAAAAAI/AAAAAAAAAxs/83E22s4mtyM/s50-c-k-no/photo.jpg",
      "userId": "109969660738913262150"
     },
     "user_tz": 240
    },
    "id": "hGz1Dw0S5ePx",
    "outputId": "c35c4ea7-67ea-4fe3-c4fb-2a8fb5097c61"
   },
   "outputs": [],
   "source": [
    "X_train_text = sparse.load_npz('X_train_text.npz')\n",
    "X_val_text = sparse.load_npz('X_val_text.npz')\n",
    "X_test_text = sparse.load_npz('X_test_text.npz')\n",
    "X_train_numeric = np.load('X_train_numeric.npz')['arr_0']\n",
    "X_val_numeric = np.load('X_val_numeric.npz')['arr_0']\n",
    "X_test_numeric = np.load('X_test_numeric.npz')['arr_0']\n",
    "y_train = sparse.load_npz('y_train.npz')\n",
    "y_val = sparse.load_npz('y_val.npz')\n",
    "\n",
    "print('X_train_numeric', X_train_numeric.shape)\n",
    "print('X_train_text', X_train_text.shape)\n",
    "print('y_train', y_train.shape)\n",
    "print('X_val_numeric', X_val_numeric.shape)\n",
    "print('X_val_text', X_val_text.shape)\n",
    "print('y_val', y_val.shape)\n",
    "print('X_test_numeric', X_test_numeric.shape)\n",
    "print('X_test_text', X_test_text.shape)"
   ]
  },
  {
   "cell_type": "markdown",
   "metadata": {
    "colab_type": "text",
    "id": "UfppW7oi5eP0"
   },
   "source": [
    "# Build Model"
   ]
  },
  {
   "cell_type": "code",
   "execution_count": null,
   "metadata": {
    "colab": {},
    "colab_type": "code",
    "id": "GtnM3_nE5eP0"
   },
   "outputs": [],
   "source": [
    "def build_network(X_numeric=X_train_numeric, X_text=X_train_text, y=y_train):\n",
    "    \"\"\"\n",
    "    Return compiled keras-model model\n",
    "    \n",
    "    param numpy array X_numeric: feature matrix for classification\n",
    "    param numpy array X_text: feature matrix for classification\n",
    "    param numpy array y: labels matrix for classification\n",
    "    \n",
    "    Required Libraries: keras\n",
    "    \"\"\"\n",
    "    \n",
    "    numeric_input = Input(shape=(X_numeric.shape[1],) , name='numeric_input') \n",
    "    text_input = Input(shape=(X_text.shape[1],) , name='text_input')\n",
    "    \n",
    "    dropout_value = 0.5\n",
    "    \n",
    "    # Function\n",
    "    text_function_hidden_layer = Dense(256, activation='relu')(text_input)\n",
    "    text_function_hidden_layer = Dropout(dropout_value)(text_function_hidden_layer)\n",
    "    text_function_hidden_layer = Dense(128, activation='relu')(text_function_hidden_layer)\n",
    "    text_function_hidden_layer = Dropout(dropout_value)(text_function_hidden_layer)\n",
    "    text_function_hidden_layer = Dense(64, activation='relu')(text_function_hidden_layer)\n",
    "    text_function_hidden_layer = Dropout(dropout_value)(text_function_hidden_layer)\n",
    "    numeric_function_hidden_layer = Dense(4, activation='relu')(numeric_input)\n",
    "    numeric_function_hidden_layer = Dropout(dropout_value)(numeric_function_hidden_layer)\n",
    "    combined_function_layer = concatenate([numeric_function_hidden_layer, text_function_hidden_layer])\n",
    "    function_output_layer = Dense(37, activation='softmax')(combined_function_layer)\n",
    "    \n",
    "    # Object_Type\n",
    "    text_object_type_hidden_layer = Dense(256, activation='relu')(text_input)\n",
    "    text_object_type_hidden_layer = Dropout(dropout_value)(text_object_type_hidden_layer)\n",
    "    text_object_type_hidden_layer = Dense(128, activation='relu')(text_object_type_hidden_layer)\n",
    "    text_object_type_hidden_layer = Dropout(dropout_value)(text_object_type_hidden_layer)\n",
    "    text_object_type_hidden_layer = Dense(64, activation='relu')(text_object_type_hidden_layer)\n",
    "    text_object_type_hidden_layer = Dropout(dropout_value)(text_object_type_hidden_layer)\n",
    "    text_object_type_hidden_layer = Dense(32, activation='relu')(text_object_type_hidden_layer)\n",
    "    text_object_type_hidden_layer = Dropout(dropout_value)(text_object_type_hidden_layer)\n",
    "    text_object_type_hidden_layer = Dense(16, activation='relu')(text_object_type_hidden_layer)\n",
    "    text_object_type_hidden_layer = Dropout(dropout_value)(text_object_type_hidden_layer)\n",
    "    numeric_object_type_hidden_layer = Dense(4, activation='relu')(numeric_input)\n",
    "    numeric_object_type_hidden_layer = Dropout(dropout_value)(numeric_object_type_hidden_layer)\n",
    "    combined_object_type_layer = concatenate([numeric_object_type_hidden_layer, text_object_type_hidden_layer])\n",
    "    object_type_output_layer = Dense(11, activation='softmax')(combined_object_type_layer)\n",
    "    \n",
    "    # Operating_Status\n",
    "    text_operating_status_hidden_layer = Dense(256, activation='relu')(text_input)\n",
    "    text_operating_status_hidden_layer = Dropout(dropout_value)(text_operating_status_hidden_layer)\n",
    "    text_operating_status_hidden_layer = Dense(128, activation='relu')(text_operating_status_hidden_layer)\n",
    "    text_operating_status_hidden_layer = Dropout(dropout_value)(text_operating_status_hidden_layer)\n",
    "    text_operating_status_hidden_layer = Dense(64, activation='relu')(text_operating_status_hidden_layer)\n",
    "    text_operating_status_hidden_layer = Dropout(dropout_value)(text_operating_status_hidden_layer)\n",
    "    text_operating_status_hidden_layer = Dense(32, activation='relu')(text_operating_status_hidden_layer)\n",
    "    text_operating_status_hidden_layer = Dropout(dropout_value)(text_operating_status_hidden_layer)\n",
    "    text_operating_status_hidden_layer = Dense(16, activation='relu')(text_operating_status_hidden_layer)\n",
    "    text_operating_status_hidden_layer = Dropout(dropout_value)(text_operating_status_hidden_layer)\n",
    "    text_operating_status_hidden_layer = Dense(8, activation='relu')(text_operating_status_hidden_layer)\n",
    "    text_operating_status_hidden_layer = Dropout(dropout_value)(text_operating_status_hidden_layer)\n",
    "    text_operating_status_hidden_layer = Dense(4, activation='relu')(text_operating_status_hidden_layer)\n",
    "    text_operating_status_hidden_layer = Dropout(dropout_value)(text_operating_status_hidden_layer)\n",
    "    numeric_operating_status_hidden_layer = Dense(4, activation='relu')(numeric_input)\n",
    "    numeric_operating_status_hidden_layer = Dropout(dropout_value)(numeric_operating_status_hidden_layer)\n",
    "    combined_operating_status_layer = concatenate([numeric_operating_status_hidden_layer, text_operating_status_hidden_layer])\n",
    "    operating_status_output_layer = Dense(3, activation='softmax')(combined_operating_status_layer)\n",
    "    \n",
    "    # Position_Type\n",
    "    text_position_type_hidden_layer = Dense(256, activation='relu')(text_input)\n",
    "    text_position_type_hidden_layer = Dropout(dropout_value)(text_position_type_hidden_layer)\n",
    "    text_position_type_hidden_layer = Dense(128, activation='relu')(text_position_type_hidden_layer)\n",
    "    text_position_type_hidden_layer = Dropout(dropout_value)(text_position_type_hidden_layer)\n",
    "    text_position_type_hidden_layer = Dense(64, activation='relu')(text_position_type_hidden_layer)\n",
    "    text_position_type_hidden_layer = Dropout(dropout_value)(text_position_type_hidden_layer)\n",
    "    text_position_type_hidden_layer = Dense(32, activation='relu')(text_position_type_hidden_layer)\n",
    "    text_position_type_hidden_layer = Dropout(dropout_value)(text_position_type_hidden_layer)\n",
    "    numeric_position_type_hidden_layer = Dense(4, activation='relu')(numeric_input)\n",
    "    numeric_position_type_hidden_layer = Dropout(dropout_value)(numeric_position_type_hidden_layer)\n",
    "    combined_position_type_layer = concatenate([numeric_position_type_hidden_layer, text_position_type_hidden_layer])\n",
    "    position_type_output_layer = Dense(25, activation='softmax')(combined_position_type_layer)\n",
    "    \n",
    "    # Pre_K\n",
    "    text_pre_k_hidden_layer = Dense(256, activation='relu')(text_input)\n",
    "    text_pre_k_hidden_layer = Dropout(dropout_value)(text_pre_k_hidden_layer)\n",
    "    text_pre_k_hidden_layer = Dense(128, activation='relu')(text_pre_k_hidden_layer)\n",
    "    text_pre_k_hidden_layer = Dropout(dropout_value)(text_pre_k_hidden_layer)\n",
    "    text_pre_k_hidden_layer = Dense(64, activation='relu')(text_pre_k_hidden_layer)\n",
    "    text_pre_k_hidden_layer = Dropout(dropout_value)(text_pre_k_hidden_layer)\n",
    "    text_pre_k_hidden_layer = Dense(32, activation='relu')(text_pre_k_hidden_layer)\n",
    "    text_pre_k_hidden_layer = Dropout(dropout_value)(text_pre_k_hidden_layer)\n",
    "    text_pre_k_hidden_layer = Dense(16, activation='relu')(text_pre_k_hidden_layer)\n",
    "    text_pre_k_hidden_layer = Dropout(dropout_value)(text_pre_k_hidden_layer)\n",
    "    text_pre_k_hidden_layer = Dense(8, activation='relu')(text_pre_k_hidden_layer)\n",
    "    text_pre_k_hidden_layer = Dropout(dropout_value)(text_pre_k_hidden_layer)\n",
    "    text_pre_k_hidden_layer = Dense(4, activation='relu')(text_pre_k_hidden_layer)\n",
    "    text_pre_k_hidden_layer = Dropout(dropout_value)(text_pre_k_hidden_layer)\n",
    "    numeric_pre_k_hidden_layer = Dense(4, activation='relu')(numeric_input)\n",
    "    numeric_pre_k_hidden_layer = Dropout(dropout_value)(numeric_pre_k_hidden_layer)\n",
    "    combined_pre_k_layer = concatenate([numeric_pre_k_hidden_layer, text_pre_k_hidden_layer])\n",
    "    pre_k_output_layer = Dense(3, activation='softmax')(combined_pre_k_layer)\n",
    "    \n",
    "    # Reporting\n",
    "    text_reporting_hidden_layer = Dense(256, activation='relu')(text_input)\n",
    "    text_reporting_hidden_layer = Dropout(dropout_value)(text_reporting_hidden_layer)\n",
    "    text_reporting_hidden_layer = Dense(128, activation='relu')(text_reporting_hidden_layer)\n",
    "    text_reporting_hidden_layer = Dropout(dropout_value)(text_reporting_hidden_layer)\n",
    "    text_reporting_hidden_layer = Dense(64, activation='relu')(text_reporting_hidden_layer)\n",
    "    text_reporting_hidden_layer = Dropout(dropout_value)(text_reporting_hidden_layer)\n",
    "    text_reporting_hidden_layer = Dense(32, activation='relu')(text_reporting_hidden_layer)\n",
    "    text_reporting_hidden_layer = Dropout(dropout_value)(text_reporting_hidden_layer)\n",
    "    text_reporting_hidden_layer = Dense(16, activation='relu')(text_reporting_hidden_layer)\n",
    "    text_reporting_hidden_layer = Dropout(dropout_value)(text_reporting_hidden_layer)\n",
    "    text_reporting_hidden_layer = Dense(8, activation='relu')(text_reporting_hidden_layer)\n",
    "    text_reporting_hidden_layer = Dropout(dropout_value)(text_reporting_hidden_layer)\n",
    "    text_reporting_hidden_layer = Dense(4, activation='relu')(text_reporting_hidden_layer)\n",
    "    text_reporting_hidden_layer = Dropout(dropout_value)(text_reporting_hidden_layer)\n",
    "    numeric_reporting_hidden_layer = Dense(4, activation='relu')(numeric_input)\n",
    "    numeric_reporting_hidden_layer = Dropout(dropout_value)(numeric_reporting_hidden_layer)\n",
    "    combined_reporting_layer = concatenate([numeric_reporting_hidden_layer, text_reporting_hidden_layer])\n",
    "    reporting_output_layer = Dense(3, activation='softmax')(combined_reporting_layer)\n",
    "    \n",
    "    # Sharing\n",
    "    text_sharing_hidden_layer = Dense(256, activation='relu')(text_input)\n",
    "    text_sharing_hidden_layer = Dropout(dropout_value)(text_sharing_hidden_layer)\n",
    "    text_sharing_hidden_layer = Dense(128, activation='relu')(text_sharing_hidden_layer)\n",
    "    text_sharing_hidden_layer = Dropout(dropout_value)(text_sharing_hidden_layer)\n",
    "    text_sharing_hidden_layer = Dense(64, activation='relu')(text_sharing_hidden_layer)\n",
    "    text_sharing_hidden_layer = Dropout(dropout_value)(text_sharing_hidden_layer)\n",
    "    text_sharing_hidden_layer = Dense(32, activation='relu')(text_sharing_hidden_layer)\n",
    "    text_sharing_hidden_layer = Dropout(dropout_value)(text_sharing_hidden_layer)\n",
    "    text_sharing_hidden_layer = Dense(16, activation='relu')(text_sharing_hidden_layer)\n",
    "    text_sharing_hidden_layer = Dropout(dropout_value)(text_sharing_hidden_layer)\n",
    "    text_sharing_hidden_layer = Dense(8, activation='relu')(text_sharing_hidden_layer)\n",
    "    text_sharing_hidden_layer = Dropout(dropout_value)(text_sharing_hidden_layer)\n",
    "    numeric_sharing_hidden_layer = Dense(4, activation='relu')(numeric_input)\n",
    "    numeric_sharing_hidden_layer = Dropout(dropout_value)(numeric_sharing_hidden_layer)\n",
    "    combined_sharing_layer = concatenate([numeric_sharing_hidden_layer, text_sharing_hidden_layer])\n",
    "    sharing_output_layer = Dense(5, activation='softmax')(combined_sharing_layer)\n",
    "    \n",
    "    # Student_Type\n",
    "    text_student_type_hidden_layer = Dense(256, activation='relu')(text_input)\n",
    "    text_student_type_hidden_layer = Dropout(dropout_value)(text_student_type_hidden_layer)\n",
    "    text_student_type_hidden_layer = Dense(128, activation='relu')(text_student_type_hidden_layer)\n",
    "    text_student_type_hidden_layer = Dropout(dropout_value)(text_student_type_hidden_layer)\n",
    "    text_student_type_hidden_layer = Dense(64, activation='relu')(text_student_type_hidden_layer)\n",
    "    text_student_type_hidden_layer = Dropout(dropout_value)(text_student_type_hidden_layer)\n",
    "    text_student_type_hidden_layer = Dense(32, activation='relu')(text_student_type_hidden_layer)\n",
    "    text_student_type_hidden_layer = Dropout(dropout_value)(text_student_type_hidden_layer)\n",
    "    text_student_type_hidden_layer = Dense(16, activation='relu')(text_student_type_hidden_layer)\n",
    "    text_student_type_hidden_layer = Dropout(dropout_value)(text_student_type_hidden_layer)\n",
    "    numeric_student_type_hidden_layer = Dense(4, activation='relu')(numeric_input)\n",
    "    numeric_student_type_hidden_layer = Dropout(dropout_value)(numeric_student_type_hidden_layer)\n",
    "    combined_student_type_layer = concatenate([numeric_student_type_hidden_layer, text_student_type_hidden_layer])\n",
    "    student_type_output_layer = Dense(9, activation='softmax')(combined_student_type_layer)\n",
    "    \n",
    "    # Use\n",
    "    text_use_hidden_layer = Dense(256, activation='relu')(text_input)\n",
    "    text_use_hidden_layer = Dropout(dropout_value)(text_use_hidden_layer)\n",
    "    text_use_hidden_layer = Dense(128, activation='relu')(text_use_hidden_layer)\n",
    "    text_use_hidden_layer = Dropout(dropout_value)(text_use_hidden_layer)\n",
    "    text_use_hidden_layer = Dense(64, activation='relu')(text_use_hidden_layer)\n",
    "    text_use_hidden_layer = Dropout(dropout_value)(text_use_hidden_layer)\n",
    "    text_use_hidden_layer = Dense(32, activation='relu')(text_use_hidden_layer)\n",
    "    text_use_hidden_layer = Dropout(dropout_value)(text_use_hidden_layer)\n",
    "    text_use_hidden_layer = Dense(16, activation='relu')(text_use_hidden_layer)\n",
    "    text_use_hidden_layer = Dropout(dropout_value)(text_use_hidden_layer)\n",
    "    numeric_use_hidden_layer = Dense(4, activation='relu')(numeric_input)\n",
    "    numeric_use_hidden_layer = Dropout(dropout_value)(numeric_use_hidden_layer)\n",
    "    combined_use_layer = concatenate([numeric_use_hidden_layer, text_use_hidden_layer])\n",
    "    use_output_layer = Dense(8, activation='softmax')(combined_use_layer)\n",
    "    \n",
    "    # Output\n",
    "    combined_output_layer = concatenate([function_output_layer, \n",
    "                                         object_type_output_layer,\n",
    "                                         operating_status_output_layer,\n",
    "                                         position_type_output_layer,\n",
    "                                         pre_k_output_layer,\n",
    "                                         reporting_output_layer,\n",
    "                                         sharing_output_layer,\n",
    "                                         student_type_output_layer,\n",
    "                                         use_output_layer])\n",
    "    \n",
    "    model = Model(inputs=[numeric_input, text_input], outputs=[combined_output_layer])\n",
    "    \n",
    "    model.compile(optimizer='adam', loss='categorical_crossentropy', metrics=['accuracy'])\n",
    "    \n",
    "    return model"
   ]
  },
  {
   "cell_type": "code",
   "execution_count": null,
   "metadata": {
    "colab": {},
    "colab_type": "code",
    "id": "vkm6VVkF5eP2"
   },
   "outputs": [],
   "source": [
    "basic_NN = build_network()\n",
    "\n",
    "# Save model architexture\n",
    "model_json = basic_NN.to_json()\n",
    "with open('basic_NN_model.json', 'w') as json_file:\n",
    "    json_file.write(model_json)"
   ]
  },
  {
   "cell_type": "markdown",
   "metadata": {
    "colab_type": "text",
    "id": "INIHpqTn5eP4"
   },
   "source": [
    "# Train model and generate predictions on test set"
   ]
  },
  {
   "cell_type": "code",
   "execution_count": 10,
   "metadata": {
    "colab": {
     "base_uri": "https://localhost:8080/",
     "height": 6834
    },
    "colab_type": "code",
    "executionInfo": {
     "elapsed": 2556917,
     "status": "ok",
     "timestamp": 1535407446918,
     "user": {
      "displayName": "Albert Lee",
      "photoUrl": "//lh3.googleusercontent.com/-f0u8obCCk_w/AAAAAAAAAAI/AAAAAAAAAxs/83E22s4mtyM/s50-c-k-no/photo.jpg",
      "userId": "109969660738913262150"
     },
     "user_tz": 240
    },
    "id": "h2fWentL1If6",
    "outputId": "9841309a-368d-4e3d-db57-275705effe0a"
   },
   "outputs": [
    {
     "name": "stdout",
     "output_type": "stream",
     "text": [
      "Train on 315191 samples, validate on 35022 samples\n",
      "Epoch 1/100\n",
      "315191/315191 [==============================] - 33s 105us/step - loss: 69.0318 - acc: 0.0533 - val_loss: 57.6356 - val_acc: 0.1303\n",
      "\n",
      "Epoch 00001: val_loss improved from inf to 57.63565, saving model to basic_NN_model.h5\n",
      "Epoch 2/100\n",
      "315191/315191 [==============================] - 27s 86us/step - loss: 46.9497 - acc: 0.1016 - val_loss: 38.3025 - val_acc: 0.1550\n",
      "\n",
      "Epoch 00002: val_loss improved from 57.63565 to 38.30249, saving model to basic_NN_model.h5\n",
      "Epoch 3/100\n",
      "315191/315191 [==============================] - 26s 82us/step - loss: 38.9604 - acc: 0.1243 - val_loss: 31.9287 - val_acc: 0.2132\n",
      "\n",
      "Epoch 00003: val_loss improved from 38.30249 to 31.92871, saving model to basic_NN_model.h5\n",
      "Epoch 4/100\n",
      "315191/315191 [==============================] - 26s 83us/step - loss: 35.7136 - acc: 0.1454 - val_loss: 31.1295 - val_acc: 0.2287\n",
      "\n",
      "Epoch 00004: val_loss improved from 31.92871 to 31.12945, saving model to basic_NN_model.h5\n",
      "Epoch 5/100\n",
      "315191/315191 [==============================] - 26s 82us/step - loss: 34.1375 - acc: 0.1824 - val_loss: 29.6474 - val_acc: 0.2905\n",
      "\n",
      "Epoch 00005: val_loss improved from 31.12945 to 29.64735, saving model to basic_NN_model.h5\n",
      "Epoch 6/100\n",
      "315191/315191 [==============================] - 26s 81us/step - loss: 32.1330 - acc: 0.2171 - val_loss: 28.3948 - val_acc: 0.3332\n",
      "\n",
      "Epoch 00006: val_loss improved from 29.64735 to 28.39477, saving model to basic_NN_model.h5\n",
      "Epoch 7/100\n",
      "315191/315191 [==============================] - 25s 80us/step - loss: 30.7251 - acc: 0.2563 - val_loss: 27.8204 - val_acc: 0.3362\n",
      "\n",
      "Epoch 00007: val_loss improved from 28.39477 to 27.82040, saving model to basic_NN_model.h5\n",
      "Epoch 8/100\n",
      "315191/315191 [==============================] - 25s 80us/step - loss: 29.7898 - acc: 0.2723 - val_loss: 27.2732 - val_acc: 0.3949\n",
      "\n",
      "Epoch 00008: val_loss improved from 27.82040 to 27.27318, saving model to basic_NN_model.h5\n",
      "Epoch 9/100\n",
      "315191/315191 [==============================] - 25s 80us/step - loss: 29.2067 - acc: 0.2924 - val_loss: 27.1992 - val_acc: 0.4063\n",
      "\n",
      "Epoch 00009: val_loss improved from 27.27318 to 27.19919, saving model to basic_NN_model.h5\n",
      "Epoch 10/100\n",
      "315191/315191 [==============================] - 25s 80us/step - loss: 28.7009 - acc: 0.3017 - val_loss: 27.5297 - val_acc: 0.4170\n",
      "\n",
      "Epoch 00010: val_loss did not improve from 27.19919\n",
      "Epoch 11/100\n",
      "315191/315191 [==============================] - 25s 78us/step - loss: 28.2329 - acc: 0.3124 - val_loss: 27.3623 - val_acc: 0.4203\n",
      "\n",
      "Epoch 00011: val_loss did not improve from 27.19919\n",
      "Epoch 12/100\n",
      "315191/315191 [==============================] - 25s 80us/step - loss: 27.8402 - acc: 0.3227 - val_loss: 26.6406 - val_acc: 0.4366\n",
      "\n",
      "Epoch 00012: val_loss improved from 27.19919 to 26.64065, saving model to basic_NN_model.h5\n",
      "Epoch 13/100\n",
      "315191/315191 [==============================] - 25s 80us/step - loss: 27.6480 - acc: 0.3333 - val_loss: 27.4837 - val_acc: 0.4240\n",
      "\n",
      "Epoch 00013: val_loss did not improve from 26.64065\n",
      "Epoch 14/100\n",
      "315191/315191 [==============================] - 25s 80us/step - loss: 27.5365 - acc: 0.3302 - val_loss: 25.7845 - val_acc: 0.4294\n",
      "\n",
      "Epoch 00014: val_loss improved from 26.64065 to 25.78452, saving model to basic_NN_model.h5\n",
      "Epoch 15/100\n",
      "315191/315191 [==============================] - 25s 80us/step - loss: 27.4182 - acc: 0.3289 - val_loss: 26.0990 - val_acc: 0.4475\n",
      "\n",
      "Epoch 00015: val_loss did not improve from 25.78452\n",
      "Epoch 16/100\n",
      "315191/315191 [==============================] - 25s 78us/step - loss: 27.1136 - acc: 0.3344 - val_loss: 25.8979 - val_acc: 0.4285\n",
      "\n",
      "Epoch 00016: val_loss did not improve from 25.78452\n",
      "Epoch 17/100\n",
      "315191/315191 [==============================] - 25s 78us/step - loss: 27.0734 - acc: 0.3330 - val_loss: 25.6079 - val_acc: 0.4368\n",
      "\n",
      "Epoch 00017: val_loss improved from 25.78452 to 25.60787, saving model to basic_NN_model.h5\n",
      "Epoch 18/100\n",
      "315191/315191 [==============================] - 25s 79us/step - loss: 27.1356 - acc: 0.3206 - val_loss: 26.0821 - val_acc: 0.4205\n",
      "\n",
      "Epoch 00018: val_loss did not improve from 25.60787\n",
      "Epoch 19/100\n",
      "315191/315191 [==============================] - 25s 79us/step - loss: 26.9115 - acc: 0.3130 - val_loss: 25.6919 - val_acc: 0.4240\n",
      "\n",
      "Epoch 00019: val_loss did not improve from 25.60787\n",
      "Epoch 20/100\n",
      "315191/315191 [==============================] - 25s 79us/step - loss: 26.7687 - acc: 0.3149 - val_loss: 25.8545 - val_acc: 0.4124\n",
      "\n",
      "Epoch 00020: val_loss did not improve from 25.60787\n",
      "Epoch 21/100\n",
      "315191/315191 [==============================] - 25s 79us/step - loss: 26.7681 - acc: 0.3159 - val_loss: 26.1791 - val_acc: 0.4254\n",
      "\n",
      "Epoch 00021: val_loss did not improve from 25.60787\n",
      "Epoch 22/100\n",
      "315191/315191 [==============================] - 25s 78us/step - loss: 26.7833 - acc: 0.3160 - val_loss: 25.8057 - val_acc: 0.4213\n",
      "\n",
      "Epoch 00022: val_loss did not improve from 25.60787\n",
      "Epoch 23/100\n",
      "315191/315191 [==============================] - 25s 78us/step - loss: 26.8127 - acc: 0.3198 - val_loss: 25.7069 - val_acc: 0.4299\n",
      "\n",
      "Epoch 00023: val_loss did not improve from 25.60787\n",
      "Epoch 24/100\n",
      "315191/315191 [==============================] - 24s 78us/step - loss: 26.7617 - acc: 0.3220 - val_loss: 25.5579 - val_acc: 0.4255\n",
      "\n",
      "Epoch 00024: val_loss improved from 25.60787 to 25.55792, saving model to basic_NN_model.h5\n",
      "Epoch 25/100\n",
      "315191/315191 [==============================] - 24s 78us/step - loss: 26.5844 - acc: 0.3268 - val_loss: 25.2871 - val_acc: 0.4440\n",
      "\n",
      "Epoch 00025: val_loss improved from 25.55792 to 25.28708, saving model to basic_NN_model.h5\n",
      "Epoch 26/100\n",
      "315191/315191 [==============================] - 24s 78us/step - loss: 26.4189 - acc: 0.3258 - val_loss: 25.3768 - val_acc: 0.4445\n",
      "\n",
      "Epoch 00026: val_loss did not improve from 25.28708\n",
      "Epoch 27/100\n",
      "315191/315191 [==============================] - 25s 79us/step - loss: 26.5746 - acc: 0.3224 - val_loss: 25.5230 - val_acc: 0.4318\n",
      "\n",
      "Epoch 00027: val_loss did not improve from 25.28708\n",
      "Epoch 28/100\n",
      "315191/315191 [==============================] - 25s 79us/step - loss: 26.4629 - acc: 0.3250 - val_loss: 25.5064 - val_acc: 0.4405\n",
      "\n",
      "Epoch 00028: val_loss did not improve from 25.28708\n",
      "Epoch 29/100\n",
      "315191/315191 [==============================] - 25s 79us/step - loss: 26.3995 - acc: 0.3293 - val_loss: 25.3655 - val_acc: 0.4616\n",
      "\n",
      "Epoch 00029: val_loss did not improve from 25.28708\n",
      "Epoch 30/100\n",
      "315191/315191 [==============================] - 25s 79us/step - loss: 26.1987 - acc: 0.3301 - val_loss: 24.7734 - val_acc: 0.4468\n",
      "\n",
      "Epoch 00030: val_loss improved from 25.28708 to 24.77336, saving model to basic_NN_model.h5\n",
      "Epoch 31/100\n",
      "315191/315191 [==============================] - 25s 79us/step - loss: 26.1656 - acc: 0.3326 - val_loss: 25.1151 - val_acc: 0.4545\n",
      "\n",
      "Epoch 00031: val_loss did not improve from 24.77336\n",
      "Epoch 32/100\n",
      "315191/315191 [==============================] - 25s 79us/step - loss: 26.1605 - acc: 0.3384 - val_loss: 24.9967 - val_acc: 0.4565\n",
      "\n",
      "Epoch 00032: val_loss did not improve from 24.77336\n",
      "Epoch 33/100\n",
      "315191/315191 [==============================] - 25s 79us/step - loss: 26.0912 - acc: 0.3360 - val_loss: 24.9276 - val_acc: 0.4560\n",
      "\n",
      "Epoch 00033: val_loss did not improve from 24.77336\n",
      "Epoch 34/100\n",
      "315191/315191 [==============================] - 25s 79us/step - loss: 26.0643 - acc: 0.3391 - val_loss: 24.9528 - val_acc: 0.4603\n",
      "\n",
      "Epoch 00034: val_loss did not improve from 24.77336\n",
      "Epoch 35/100\n",
      "315191/315191 [==============================] - 25s 79us/step - loss: 26.0185 - acc: 0.3413 - val_loss: 24.9064 - val_acc: 0.4615\n",
      "\n",
      "Epoch 00035: val_loss did not improve from 24.77336\n",
      "Epoch 36/100\n",
      "315191/315191 [==============================] - 24s 77us/step - loss: 25.8426 - acc: 0.3529 - val_loss: 23.9120 - val_acc: 0.4855\n",
      "\n",
      "Epoch 00036: val_loss improved from 24.77336 to 23.91197, saving model to basic_NN_model.h5\n",
      "Epoch 37/100\n",
      "315191/315191 [==============================] - 25s 79us/step - loss: 25.8165 - acc: 0.3507 - val_loss: 23.8764 - val_acc: 0.4728\n",
      "\n",
      "Epoch 00037: val_loss improved from 23.91197 to 23.87636, saving model to basic_NN_model.h5\n",
      "Epoch 38/100\n",
      "315191/315191 [==============================] - 25s 78us/step - loss: 25.8669 - acc: 0.3473 - val_loss: 23.7460 - val_acc: 0.4676\n",
      "\n",
      "Epoch 00038: val_loss improved from 23.87636 to 23.74596, saving model to basic_NN_model.h5\n",
      "Epoch 39/100\n",
      "315191/315191 [==============================] - 25s 81us/step - loss: 25.7573 - acc: 0.3488 - val_loss: 24.0224 - val_acc: 0.4667\n",
      "\n",
      "Epoch 00039: val_loss did not improve from 23.74596\n",
      "Epoch 40/100\n",
      "315191/315191 [==============================] - 25s 80us/step - loss: 25.7233 - acc: 0.3470 - val_loss: 24.0784 - val_acc: 0.4680\n",
      "\n",
      "Epoch 00040: val_loss did not improve from 23.74596\n",
      "Epoch 41/100\n",
      "315191/315191 [==============================] - 25s 81us/step - loss: 25.6848 - acc: 0.3445 - val_loss: 24.1271 - val_acc: 0.4596\n",
      "\n",
      "Epoch 00041: val_loss did not improve from 23.74596\n",
      "Epoch 42/100\n",
      "315191/315191 [==============================] - 25s 80us/step - loss: 25.6117 - acc: 0.3412 - val_loss: 24.0344 - val_acc: 0.4635\n",
      "\n",
      "Epoch 00042: val_loss did not improve from 23.74596\n",
      "Epoch 43/100\n",
      "315191/315191 [==============================] - 25s 80us/step - loss: 25.7440 - acc: 0.3480 - val_loss: 23.8088 - val_acc: 0.4555\n",
      "\n",
      "Epoch 00043: val_loss did not improve from 23.74596\n",
      "Epoch 44/100\n",
      "315191/315191 [==============================] - 25s 80us/step - loss: 25.5606 - acc: 0.3421 - val_loss: 24.0826 - val_acc: 0.4489\n",
      "\n",
      "Epoch 00044: val_loss did not improve from 23.74596\n",
      "Epoch 45/100\n",
      "315191/315191 [==============================] - 25s 80us/step - loss: 25.5530 - acc: 0.3371 - val_loss: 23.7910 - val_acc: 0.4457\n",
      "\n",
      "Epoch 00045: val_loss did not improve from 23.74596\n",
      "Epoch 46/100\n",
      "315191/315191 [==============================] - 25s 80us/step - loss: 25.4245 - acc: 0.3356 - val_loss: 23.7245 - val_acc: 0.4552\n",
      "\n",
      "Epoch 00046: val_loss improved from 23.74596 to 23.72451, saving model to basic_NN_model.h5\n",
      "Epoch 47/100\n",
      "315191/315191 [==============================] - 25s 80us/step - loss: 25.4066 - acc: 0.3342 - val_loss: 23.7979 - val_acc: 0.4417\n",
      "\n",
      "Epoch 00047: val_loss did not improve from 23.72451\n",
      "Epoch 48/100\n",
      "315191/315191 [==============================] - 25s 79us/step - loss: 25.2089 - acc: 0.3358 - val_loss: 23.8424 - val_acc: 0.4558\n",
      "\n",
      "Epoch 00048: val_loss did not improve from 23.72451\n",
      "Epoch 49/100\n",
      "315191/315191 [==============================] - 25s 80us/step - loss: 25.0855 - acc: 0.3376 - val_loss: 23.9154 - val_acc: 0.4554\n",
      "\n",
      "Epoch 00049: val_loss did not improve from 23.72451\n",
      "Epoch 50/100\n",
      "315191/315191 [==============================] - 25s 80us/step - loss: 25.1180 - acc: 0.3370 - val_loss: 23.7876 - val_acc: 0.4492\n",
      "\n",
      "Epoch 00050: val_loss did not improve from 23.72451\n",
      "Epoch 51/100\n",
      "315191/315191 [==============================] - 25s 80us/step - loss: 24.9147 - acc: 0.3357 - val_loss: 23.7232 - val_acc: 0.4541\n",
      "\n",
      "Epoch 00051: val_loss improved from 23.72451 to 23.72321, saving model to basic_NN_model.h5\n",
      "Epoch 52/100\n",
      "315191/315191 [==============================] - 25s 80us/step - loss: 24.8797 - acc: 0.3402 - val_loss: 23.9931 - val_acc: 0.4418\n",
      "\n",
      "Epoch 00052: val_loss did not improve from 23.72321\n",
      "Epoch 53/100\n",
      "315191/315191 [==============================] - 25s 80us/step - loss: 25.0244 - acc: 0.3358 - val_loss: 23.7053 - val_acc: 0.4352\n",
      "\n",
      "Epoch 00053: val_loss improved from 23.72321 to 23.70534, saving model to basic_NN_model.h5\n",
      "Epoch 54/100\n",
      "315191/315191 [==============================] - 25s 80us/step - loss: 24.9153 - acc: 0.3351 - val_loss: 23.9712 - val_acc: 0.4410\n",
      "\n",
      "Epoch 00054: val_loss did not improve from 23.70534\n",
      "Epoch 55/100\n",
      "315191/315191 [==============================] - 25s 80us/step - loss: 24.9874 - acc: 0.3323 - val_loss: 23.7526 - val_acc: 0.4207\n",
      "\n",
      "Epoch 00055: val_loss did not improve from 23.70534\n",
      "Epoch 56/100\n",
      "315191/315191 [==============================] - 25s 80us/step - loss: 24.9989 - acc: 0.3286 - val_loss: 23.4751 - val_acc: 0.4297\n",
      "\n",
      "Epoch 00056: val_loss improved from 23.70534 to 23.47510, saving model to basic_NN_model.h5\n",
      "Epoch 57/100\n",
      "315191/315191 [==============================] - 25s 79us/step - loss: 24.8413 - acc: 0.3359 - val_loss: 23.5852 - val_acc: 0.4301\n",
      "\n",
      "Epoch 00057: val_loss did not improve from 23.47510\n",
      "Epoch 58/100\n",
      "315191/315191 [==============================] - 25s 79us/step - loss: 24.7361 - acc: 0.3346 - val_loss: 23.5237 - val_acc: 0.4297\n",
      "\n",
      "Epoch 00058: val_loss did not improve from 23.47510\n",
      "Epoch 59/100\n",
      "315191/315191 [==============================] - 25s 80us/step - loss: 24.7897 - acc: 0.3362 - val_loss: 23.4365 - val_acc: 0.4258\n",
      "\n",
      "Epoch 00059: val_loss improved from 23.47510 to 23.43651, saving model to basic_NN_model.h5\n",
      "Epoch 60/100\n",
      "315191/315191 [==============================] - 25s 79us/step - loss: 24.6578 - acc: 0.3441 - val_loss: 23.4508 - val_acc: 0.4421\n",
      "\n",
      "Epoch 00060: val_loss did not improve from 23.43651\n",
      "Epoch 61/100\n",
      "315191/315191 [==============================] - 25s 78us/step - loss: 24.5580 - acc: 0.3354 - val_loss: 23.2512 - val_acc: 0.4230\n",
      "\n",
      "Epoch 00061: val_loss improved from 23.43651 to 23.25117, saving model to basic_NN_model.h5\n",
      "Epoch 62/100\n",
      "315191/315191 [==============================] - 26s 82us/step - loss: 24.5056 - acc: 0.3362 - val_loss: 23.3454 - val_acc: 0.4309\n",
      "\n",
      "Epoch 00062: val_loss did not improve from 23.25117\n",
      "Epoch 63/100\n",
      "315191/315191 [==============================] - 26s 83us/step - loss: 24.6779 - acc: 0.3372 - val_loss: 23.3842 - val_acc: 0.4225\n",
      "\n",
      "Epoch 00063: val_loss did not improve from 23.25117\n",
      "Epoch 64/100\n",
      "315191/315191 [==============================] - 25s 80us/step - loss: 24.5305 - acc: 0.3400 - val_loss: 23.2027 - val_acc: 0.4419\n",
      "\n",
      "Epoch 00064: val_loss improved from 23.25117 to 23.20269, saving model to basic_NN_model.h5\n",
      "Epoch 65/100\n",
      "315191/315191 [==============================] - 25s 80us/step - loss: 24.4791 - acc: 0.3440 - val_loss: 23.2763 - val_acc: 0.4497\n",
      "\n",
      "Epoch 00065: val_loss did not improve from 23.20269\n",
      "Epoch 66/100\n",
      "315191/315191 [==============================] - 25s 81us/step - loss: 24.4432 - acc: 0.3464 - val_loss: 23.1099 - val_acc: 0.4508\n",
      "\n",
      "Epoch 00066: val_loss improved from 23.20269 to 23.10992, saving model to basic_NN_model.h5\n",
      "Epoch 67/100\n",
      "315191/315191 [==============================] - 27s 85us/step - loss: 24.4465 - acc: 0.3460 - val_loss: 23.1550 - val_acc: 0.4367\n",
      "\n",
      "Epoch 00067: val_loss did not improve from 23.10992\n",
      "Epoch 68/100\n",
      "315191/315191 [==============================] - 27s 84us/step - loss: 24.4295 - acc: 0.3438 - val_loss: 22.8735 - val_acc: 0.4557\n",
      "\n",
      "Epoch 00068: val_loss improved from 23.10992 to 22.87348, saving model to basic_NN_model.h5\n",
      "Epoch 69/100\n",
      "315191/315191 [==============================] - 26s 84us/step - loss: 24.4212 - acc: 0.3472 - val_loss: 23.3370 - val_acc: 0.4455\n",
      "\n",
      "Epoch 00069: val_loss did not improve from 22.87348\n",
      "Epoch 70/100\n",
      "315191/315191 [==============================] - 26s 82us/step - loss: 24.3553 - acc: 0.3492 - val_loss: 22.8929 - val_acc: 0.4381\n",
      "\n",
      "Epoch 00070: val_loss did not improve from 22.87348\n",
      "Epoch 71/100\n",
      "315191/315191 [==============================] - 26s 82us/step - loss: 24.4195 - acc: 0.3458 - val_loss: 23.1304 - val_acc: 0.4490\n",
      "\n",
      "Epoch 00071: val_loss did not improve from 22.87348\n",
      "Epoch 72/100\n",
      "315191/315191 [==============================] - 25s 81us/step - loss: 24.3331 - acc: 0.3567 - val_loss: 23.1049 - val_acc: 0.4552\n",
      "\n",
      "Epoch 00072: val_loss did not improve from 22.87348\n",
      "Epoch 73/100\n",
      "315191/315191 [==============================] - 25s 80us/step - loss: 24.4877 - acc: 0.3513 - val_loss: 23.0972 - val_acc: 0.4528\n",
      "\n",
      "Epoch 00073: val_loss did not improve from 22.87348\n",
      "Epoch 74/100\n",
      "315191/315191 [==============================] - 25s 81us/step - loss: 24.3657 - acc: 0.3476 - val_loss: 22.8001 - val_acc: 0.4580\n",
      "\n",
      "Epoch 00074: val_loss improved from 22.87348 to 22.80012, saving model to basic_NN_model.h5\n",
      "Epoch 75/100\n",
      "315191/315191 [==============================] - 26s 81us/step - loss: 24.2915 - acc: 0.3481 - val_loss: 23.0396 - val_acc: 0.4434\n",
      "\n",
      "Epoch 00075: val_loss did not improve from 22.80012\n",
      "Epoch 76/100\n",
      "315191/315191 [==============================] - 26s 81us/step - loss: 24.2758 - acc: 0.3497 - val_loss: 23.1215 - val_acc: 0.4459\n",
      "\n",
      "Epoch 00076: val_loss did not improve from 22.80012\n",
      "Epoch 77/100\n",
      "315191/315191 [==============================] - 26s 81us/step - loss: 24.3878 - acc: 0.3505 - val_loss: 23.2180 - val_acc: 0.4574\n",
      "\n",
      "Epoch 00077: val_loss did not improve from 22.80012\n",
      "Epoch 78/100\n",
      "315191/315191 [==============================] - 25s 80us/step - loss: 24.2187 - acc: 0.3527 - val_loss: 22.8871 - val_acc: 0.4574\n",
      "\n",
      "Epoch 00078: val_loss did not improve from 22.80012\n",
      "Epoch 79/100\n",
      "315191/315191 [==============================] - 25s 80us/step - loss: 24.3750 - acc: 0.3492 - val_loss: 23.1236 - val_acc: 0.4288\n",
      "\n",
      "Epoch 00079: val_loss did not improve from 22.80012\n",
      "Epoch 80/100\n",
      "315191/315191 [==============================] - 26s 81us/step - loss: 24.2720 - acc: 0.3502 - val_loss: 23.0134 - val_acc: 0.4559\n",
      "\n",
      "Epoch 00080: val_loss did not improve from 22.80012\n",
      "Epoch 81/100\n",
      "315191/315191 [==============================] - 25s 81us/step - loss: 24.2161 - acc: 0.3504 - val_loss: 22.9006 - val_acc: 0.4390\n",
      "\n",
      "Epoch 00081: val_loss did not improve from 22.80012\n",
      "Epoch 82/100\n",
      "315191/315191 [==============================] - 25s 80us/step - loss: 24.1667 - acc: 0.3499 - val_loss: 22.7909 - val_acc: 0.4493\n",
      "\n",
      "Epoch 00082: val_loss improved from 22.80012 to 22.79094, saving model to basic_NN_model.h5\n",
      "Epoch 83/100\n",
      "315191/315191 [==============================] - 25s 79us/step - loss: 24.2081 - acc: 0.3521 - val_loss: 22.8770 - val_acc: 0.4392\n",
      "\n",
      "Epoch 00083: val_loss did not improve from 22.79094\n",
      "Epoch 84/100\n",
      "315191/315191 [==============================] - 25s 78us/step - loss: 24.1301 - acc: 0.3530 - val_loss: 22.6922 - val_acc: 0.4465\n",
      "\n",
      "Epoch 00084: val_loss improved from 22.79094 to 22.69218, saving model to basic_NN_model.h5\n",
      "Epoch 85/100\n",
      "315191/315191 [==============================] - 24s 78us/step - loss: 24.1248 - acc: 0.3569 - val_loss: 22.7594 - val_acc: 0.4386\n",
      "\n",
      "Epoch 00085: val_loss did not improve from 22.69218\n",
      "Epoch 86/100\n",
      "315191/315191 [==============================] - 25s 78us/step - loss: 24.0799 - acc: 0.3539 - val_loss: 22.7088 - val_acc: 0.4489\n",
      "\n",
      "Epoch 00086: val_loss did not improve from 22.69218\n",
      "Epoch 87/100\n",
      "315191/315191 [==============================] - 25s 78us/step - loss: 24.0508 - acc: 0.3583 - val_loss: 22.9096 - val_acc: 0.4553\n",
      "\n",
      "Epoch 00087: val_loss did not improve from 22.69218\n",
      "Epoch 88/100\n",
      "315191/315191 [==============================] - 25s 78us/step - loss: 24.1788 - acc: 0.3601 - val_loss: 22.7386 - val_acc: 0.4552\n",
      "\n",
      "Epoch 00088: val_loss did not improve from 22.69218\n",
      "Epoch 89/100\n",
      "315191/315191 [==============================] - 25s 78us/step - loss: 24.0624 - acc: 0.3561 - val_loss: 22.6491 - val_acc: 0.4585\n",
      "\n",
      "Epoch 00089: val_loss improved from 22.69218 to 22.64912, saving model to basic_NN_model.h5\n",
      "Epoch 90/100\n",
      "315191/315191 [==============================] - 25s 78us/step - loss: 24.1064 - acc: 0.3590 - val_loss: 22.7578 - val_acc: 0.4694\n",
      "\n",
      "Epoch 00090: val_loss did not improve from 22.64912\n",
      "Epoch 91/100\n",
      "315191/315191 [==============================] - 25s 78us/step - loss: 24.0815 - acc: 0.3647 - val_loss: 23.0082 - val_acc: 0.4619\n",
      "\n",
      "Epoch 00091: val_loss did not improve from 22.64912\n",
      "Epoch 92/100\n",
      "315191/315191 [==============================] - 25s 78us/step - loss: 24.0815 - acc: 0.3596 - val_loss: 22.6915 - val_acc: 0.4524\n",
      "\n",
      "Epoch 00092: val_loss did not improve from 22.64912\n",
      "Epoch 93/100\n",
      "315191/315191 [==============================] - 25s 78us/step - loss: 23.9640 - acc: 0.3618 - val_loss: 22.4781 - val_acc: 0.4560\n",
      "\n",
      "Epoch 00093: val_loss improved from 22.64912 to 22.47809, saving model to basic_NN_model.h5\n",
      "Epoch 94/100\n",
      "315191/315191 [==============================] - 25s 81us/step - loss: 23.9682 - acc: 0.3645 - val_loss: 22.8621 - val_acc: 0.4832\n",
      "\n",
      "Epoch 00094: val_loss did not improve from 22.47809\n",
      "Epoch 95/100\n",
      "315191/315191 [==============================] - 25s 80us/step - loss: 23.9497 - acc: 0.3702 - val_loss: 22.5114 - val_acc: 0.4755\n",
      "\n",
      "Epoch 00095: val_loss did not improve from 22.47809\n",
      "Epoch 96/100\n",
      "315191/315191 [==============================] - 25s 80us/step - loss: 23.9913 - acc: 0.3698 - val_loss: 22.6515 - val_acc: 0.4845\n",
      "\n",
      "Epoch 00096: val_loss did not improve from 22.47809\n",
      "Epoch 97/100\n",
      "315191/315191 [==============================] - 25s 78us/step - loss: 24.0836 - acc: 0.3703 - val_loss: 22.3655 - val_acc: 0.4869\n",
      "\n",
      "Epoch 00097: val_loss improved from 22.47809 to 22.36555, saving model to basic_NN_model.h5\n",
      "Epoch 98/100\n",
      "315191/315191 [==============================] - 25s 80us/step - loss: 23.9520 - acc: 0.3702 - val_loss: 22.5179 - val_acc: 0.4830\n",
      "\n",
      "Epoch 00098: val_loss did not improve from 22.36555\n",
      "Epoch 99/100\n",
      "315191/315191 [==============================] - 25s 79us/step - loss: 24.0765 - acc: 0.3744 - val_loss: 22.9177 - val_acc: 0.4875\n",
      "\n",
      "Epoch 00099: val_loss did not improve from 22.36555\n",
      "Epoch 100/100\n",
      "315191/315191 [==============================] - 25s 79us/step - loss: 24.0162 - acc: 0.3770 - val_loss: 22.3559 - val_acc: 0.4770\n",
      "\n",
      "Epoch 00100: val_loss improved from 22.36555 to 22.35589, saving model to basic_NN_model.h5\n"
     ]
    }
   ],
   "source": [
    "early_stopping_monitor = EarlyStopping(patience=10)\n",
    "checkpointer = ModelCheckpoint(filepath=\"basic_NN_model.h5\", verbose=1, save_best_only=True)\n",
    "\n",
    "history_basic_NN = basic_NN.fit([X_train_numeric, X_train_text], y_train, epochs=100, batch_size=2048, validation_split=0.1, callbacks=[early_stopping_monitor, checkpointer])"
   ]
  },
  {
   "cell_type": "code",
   "execution_count": 12,
   "metadata": {
    "colab": {
     "base_uri": "https://localhost:8080/",
     "height": 376
    },
    "colab_type": "code",
    "executionInfo": {
     "elapsed": 476,
     "status": "ok",
     "timestamp": 1535407573848,
     "user": {
      "displayName": "Albert Lee",
      "photoUrl": "//lh3.googleusercontent.com/-f0u8obCCk_w/AAAAAAAAAAI/AAAAAAAAAxs/83E22s4mtyM/s50-c-k-no/photo.jpg",
      "userId": "109969660738913262150"
     },
     "user_tz": 240
    },
    "id": "Aqfq_Q9VDf5B",
    "outputId": "05e5f981-9ebe-4118-e938-9a09319c518d"
   },
   "outputs": [
    {
     "data": {
      "image/png": "[encoded data removed]",
      "text/plain": [
       "<matplotlib.figure.Figure at 0x7fd278619588>"
      ]
     },
     "metadata": {
      "tags": []
     },
     "output_type": "display_data"
    }
   ],
   "source": [
    "# Plot training and validation loss\n",
    "plt.plot(history_basic_NN.history['loss'])\n",
    "plt.plot(history_basic_NN.history['val_loss'])\n",
    "plt.title('model loss')\n",
    "plt.ylabel('loss')\n",
    "plt.xlabel('epoch')\n",
    "plt.legend(['train', 'validation'], loc='upper left')\n",
    "plt.show()"
   ]
  },
  {
   "cell_type": "markdown",
   "metadata": {},
   "source": [
    "Loss is lower on validation data because of dropout."
   ]
  },
  {
   "cell_type": "code",
   "execution_count": null,
   "metadata": {
    "colab": {},
    "colab_type": "code",
    "id": "MzyY-6uQNQCT"
   },
   "outputs": [],
   "source": [
    "# load json and create model\n",
    "# run this cell if saved model and weights are available\n",
    "with open('basic_NN_model.json', 'r') as json_file:\n",
    "    loaded_model_json = json_file.read()\n",
    "\n",
    "basic_NN = model_from_json(loaded_model_json)\n",
    "basic_NN.load_weights('basic_NN_model.h5')"
   ]
  },
  {
   "cell_type": "code",
   "execution_count": null,
   "metadata": {
    "colab": {},
    "colab_type": "code",
    "id": "AlXYzPrd5eP4"
   },
   "outputs": [],
   "source": [
    "label_class_counts = {\n",
    "    'Function': [0, 37], \n",
    "    'Object_Type': [37, 48], \n",
    "    'Operating_Status': [48, 51], \n",
    "    'Position_Type': [51, 76], \n",
    "    'Pre_K': [76, 79], \n",
    "    'Reporting': [79, 82], \n",
    "    'Sharing': [82, 87], \n",
    "    'Student_Type': [87, 96], \n",
    "    'Use': [96, 104]\n",
    "}\n",
    "\n",
    "scores = {}\n",
    "val_predictions = basic_NN.predict([X_val_numeric, X_val_text])\n",
    "\n",
    "# Calculate validation logloss for each label\n",
    "for label, indices in label_class_counts.items():\n",
    "    # Get values for specific label\n",
    "    start_idx = indices[0]\n",
    "    end_idx = indices[1]\n",
    "    y_val_label = y_val[:, start_idx:end_idx]\n",
    "    val_predictions_label = val_predictions[:, start_idx:end_idx]\n",
    "    \n",
    "    \n",
    "    # Get logloss score of mode\n",
    "    scores[label] = log_loss(y_val_label, val_predictions_label)"
   ]
  },
  {
   "cell_type": "code",
   "execution_count": null,
   "metadata": {
    "colab": {},
    "colab_type": "code",
    "id": "c6d9EwoxGX3z"
   },
   "outputs": [],
   "source": [
    "# Generate predictions for test set\n",
    "predictions = basic_NN.predict([X_test_numeric, X_test_text])"
   ]
  },
  {
   "cell_type": "markdown",
   "metadata": {
    "colab_type": "text",
    "id": "_-pJMVIr5eP7"
   },
   "source": [
    "# Save score and predictions"
   ]
  },
  {
   "cell_type": "code",
   "execution_count": null,
   "metadata": {
    "colab": {},
    "colab_type": "code",
    "id": "ngyDlM8A5eP7"
   },
   "outputs": [],
   "source": [
    "# Save predictions for test set\n",
    "label = ['Function',\n",
    "         'Object_Type',\n",
    "         'Operating_Status',\n",
    "         'Position_Type',\n",
    "         'Pre_K',\n",
    "         'Reporting',\n",
    "         'Sharing',\n",
    "         'Student_Type',\n",
    "         'Use']\n",
    "y = pd.get_dummies(data_train[label])\n",
    "\n",
    "submission = pd.DataFrame(predictions, index=data_test.index, columns=y.columns)\n",
    "submission.to_csv('basic_NN_model.csv')"
   ]
  },
  {
   "cell_type": "code",
   "execution_count": 18,
   "metadata": {
    "colab": {
     "base_uri": "https://localhost:8080/",
     "height": 170
    },
    "colab_type": "code",
    "executionInfo": {
     "elapsed": 282,
     "status": "ok",
     "timestamp": 1535409243925,
     "user": {
      "displayName": "Albert Lee",
      "photoUrl": "//lh3.googleusercontent.com/-f0u8obCCk_w/AAAAAAAAAAI/AAAAAAAAAxs/83E22s4mtyM/s50-c-k-no/photo.jpg",
      "userId": "109969660738913262150"
     },
     "user_tz": 240
    },
    "id": "uRHjIso15eP8",
    "outputId": "0aa7ff65-ec71-495c-a0f5-428ffb8d2cdd"
   },
   "outputs": [
    {
     "data": {
      "text/plain": [
       "{'Function': 0.20235726074366506,\n",
       " 'Object_Type': 0.2084070009335452,\n",
       " 'Operating_Status': 0.20732444779513906,\n",
       " 'Position_Type': 0.14738533642239618,\n",
       " 'Pre_K': 0.1738836264962506,\n",
       " 'Reporting': 1.7706314793889721,\n",
       " 'Sharing': 0.3757578466487278,\n",
       " 'Student_Type': 0.7058452184809189,\n",
       " 'Use': 0.2704541813227247}"
      ]
     },
     "execution_count": 18,
     "metadata": {
      "tags": []
     },
     "output_type": "execute_result"
    }
   ],
   "source": [
    "scores"
   ]
  },
  {
   "cell_type": "code",
   "execution_count": 19,
   "metadata": {
    "colab": {
     "base_uri": "https://localhost:8080/",
     "height": 34
    },
    "colab_type": "code",
    "executionInfo": {
     "elapsed": 509,
     "status": "ok",
     "timestamp": 1535409248887,
     "user": {
      "displayName": "Albert Lee",
      "photoUrl": "//lh3.googleusercontent.com/-f0u8obCCk_w/AAAAAAAAAAI/AAAAAAAAAxs/83E22s4mtyM/s50-c-k-no/photo.jpg",
      "userId": "109969660738913262150"
     },
     "user_tz": 240
    },
    "id": "yQd8s_q85eP_",
    "outputId": "bfa37583-2850-4742-c0e4-1019be408acd"
   },
   "outputs": [
    {
     "data": {
      "text/plain": [
       "0.4513384886924821"
      ]
     },
     "execution_count": 19,
     "metadata": {
      "tags": []
     },
     "output_type": "execute_result"
    }
   ],
   "source": [
    "np.mean([score for score in scores.values()])"
   ]
  },
  {
   "cell_type": "code",
   "execution_count": null,
   "metadata": {
    "colab": {},
    "colab_type": "code",
    "id": "DQxW3L5o5eQC"
   },
   "outputs": [],
   "source": [
    "# Save scores\n",
    "with open('basic_NN_score.json', 'w') as file:\n",
    "     file.write(json.dumps(scores))"
   ]
  },
  {
   "cell_type": "code",
   "execution_count": null,
   "metadata": {
    "colab": {},
    "colab_type": "code",
    "id": "A2xKwd0vMz7t"
   },
   "outputs": [],
   "source": []
  }
 ],
 "metadata": {
  "accelerator": "GPU",
  "colab": {
   "collapsed_sections": [],
   "name": "basic_NN_model.ipynb",
   "provenance": [],
   "version": "0.3.2"
  },
  "kernelspec": {
   "display_name": "Python 3",
   "language": "python",
   "name": "python3"
  },
  "language_info": {
   "codemirror_mode": {
    "name": "ipython",
    "version": 3
   },
   "file_extension": ".py",
   "mimetype": "text/x-python",
   "name": "python",
   "nbconvert_exporter": "python",
   "pygments_lexer": "ipython3",
   "version": "3.6.5"
  }
 },
 "nbformat": 4,
 "nbformat_minor": 2
}
