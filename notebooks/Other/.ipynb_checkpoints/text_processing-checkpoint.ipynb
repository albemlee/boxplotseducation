{
 "cells": [
  {
   "cell_type": "code",
   "execution_count": 1,
   "metadata": {},
   "outputs": [],
   "source": [
    "# Set Working Directory\n",
    "import os\n",
    "os.chdir('..')"
   ]
  },
  {
   "cell_type": "code",
   "execution_count": 2,
   "metadata": {},
   "outputs": [
    {
     "name": "stderr",
     "output_type": "stream",
     "text": [
      "/anaconda3/lib/python3.6/importlib/_bootstrap.py:219: RuntimeWarning: numpy.dtype size changed, may indicate binary incompatibility. Expected 96, got 88\n",
      "  return f(*args, **kwds)\n",
      "/anaconda3/lib/python3.6/importlib/_bootstrap.py:219: RuntimeWarning: numpy.dtype size changed, may indicate binary incompatibility. Expected 96, got 88\n",
      "  return f(*args, **kwds)\n",
      "Using TensorFlow backend.\n"
     ]
    }
   ],
   "source": [
    "# Load Requirements\n",
    "import pandas as pd\n",
    "import  numpy as np\n",
    "import re\n",
    "import nltk\n",
    "from nltk.corpus import stopwords\n",
    "from nltk.stem.wordnet import WordNetLemmatizer\n",
    "from nltk.stem.snowball import SnowballStemmer \n",
    "\n",
    "# nltk.download('stopwords')\n",
    "# nltk.download('wordnet')\n",
    "\n",
    "from keras.preprocessing.text import Tokenizer\n",
    "\n",
    "from helper import *"
   ]
  },
  {
   "cell_type": "code",
   "execution_count": 3,
   "metadata": {},
   "outputs": [
    {
     "name": "stdout",
     "output_type": "stream",
     "text": [
      "data_train shape: (400277, 25)\n",
      "data_test shape: (50064, 16)\n"
     ]
    }
   ],
   "source": [
    "# Load Data\n",
    "data_train, data_test = load_data()\n",
    "print('data_train shape:', data_train.shape)\n",
    "print('data_test shape:', data_test.shape)"
   ]
  },
  {
   "cell_type": "code",
   "execution_count": 4,
   "metadata": {},
   "outputs": [
    {
     "name": "stdout",
     "output_type": "stream",
     "text": [
      "data_features shape: (450341, 16)\n"
     ]
    }
   ],
   "source": [
    "# Load Features\n",
    "data_features = load_features(data_train, data_test)\n",
    "print('data_features shape:', data_features.shape)"
   ]
  },
  {
   "cell_type": "markdown",
   "metadata": {},
   "source": [
    "# Combine text features"
   ]
  },
  {
   "cell_type": "code",
   "execution_count": 5,
   "metadata": {},
   "outputs": [
    {
     "data": {
      "text/plain": [
       "226659    WORKSHOP PARTICIPANT             TEACHER ASSIS...\n",
       "222590    Department Chair Supp   ED. SUPPORT TEAM CHA  ...\n",
       "59040     Other Pupil Transportation Services  Support S...\n",
       "300482    RETIREMENT CONTRIB. EMPLOYEE BENEFITS GENERAL ...\n",
       "61667     ADDITIONAL/EXTRA DUTY PAY/STIP INSTRUCTIONAL S...\n",
       "dtype: object"
      ]
     },
     "execution_count": 5,
     "metadata": {},
     "output_type": "execute_result"
    }
   ],
   "source": [
    "text_to_process = (\n",
    "    data_features\n",
    "        .drop(columns=['FTE', 'Total'])\n",
    "        .fillna(\"\")\n",
    "        .apply(lambda x: \" \".join(x), axis=1)\n",
    ")\n",
    "\n",
    "text_to_process.sample(5)"
   ]
  },
  {
   "cell_type": "markdown",
   "metadata": {},
   "source": [
    "# Case Normalization"
   ]
  },
  {
   "cell_type": "code",
   "execution_count": 6,
   "metadata": {},
   "outputs": [
    {
     "data": {
      "text/plain": [
       "365973    supplies staff development staff development  ...\n",
       "176242    contra benefits employee benefits general fund...\n",
       "65622     employee benefits general elementary education...\n",
       "218221    retirement contrib. employee benefits general ...\n",
       "210300    employee benefits undesignated general fund te...\n",
       "dtype: object"
      ]
     },
     "execution_count": 6,
     "metadata": {},
     "output_type": "execute_result"
    }
   ],
   "source": [
    "text_to_process_lowercase = text_to_process.apply(lambda x: x.lower())\n",
    "text_to_process_lowercase.sample(5)"
   ]
  },
  {
   "cell_type": "markdown",
   "metadata": {},
   "source": [
    "# Punctuation Removal"
   ]
  },
  {
   "cell_type": "code",
   "execution_count": 7,
   "metadata": {},
   "outputs": [
    {
     "data": {
      "text/plain": [
       "208640    personal services - teachers instruction - spe...\n",
       "361093    department chair supp   grade level dept cha  ...\n",
       "348989    employee benefits general elementary education...\n",
       "62778     employee benefits general elementary education...\n",
       "377046    professional   tech svcs          digital desi...\n",
       "dtype: object"
      ]
     },
     "execution_count": 7,
     "metadata": {},
     "output_type": "execute_result"
    }
   ],
   "source": [
    "text_to_process_no_punctuation = text_to_process_lowercase.apply(lambda x: re.sub(r\"[^a-z0-9-]\", \" \", x))\n",
    "text_to_process_no_punctuation.sample(5)"
   ]
  },
  {
   "cell_type": "code",
   "execution_count": 8,
   "metadata": {},
   "outputs": [],
   "source": [
    "del text_to_process_lowercase # for memory management"
   ]
  },
  {
   "cell_type": "markdown",
   "metadata": {},
   "source": [
    "# Tokenization"
   ]
  },
  {
   "cell_type": "code",
   "execution_count": 9,
   "metadata": {},
   "outputs": [
    {
     "data": {
      "text/plain": [
       "292917    [employer, pd, med, contribution, school, libr...\n",
       "146937    [employee, travel, including, in-district, and...\n",
       "15575     [employee, benefits, instructional, staff, tra...\n",
       "310791    [purchase, of, equipment-other, than, buses, a...\n",
       "248837    [salaries, and, wages, for, teachers, and, oth...\n",
       "dtype: object"
      ]
     },
     "execution_count": 9,
     "metadata": {},
     "output_type": "execute_result"
    }
   ],
   "source": [
    "text_to_process_tokens = text_to_process_no_punctuation.apply(lambda x: x.split())\n",
    "text_to_process_tokens.sample(5)"
   ]
  },
  {
   "cell_type": "code",
   "execution_count": 10,
   "metadata": {},
   "outputs": [],
   "source": [
    "del text_to_process_no_punctuation # for memory management"
   ]
  },
  {
   "cell_type": "markdown",
   "metadata": {},
   "source": [
    "# Remove stop words"
   ]
  },
  {
   "cell_type": "code",
   "execution_count": 11,
   "metadata": {},
   "outputs": [
    {
     "data": {
      "text/plain": [
       "45979     [employee, benefits, security, services, gener...\n",
       "207916    [professional, technical, services, debt, serv...\n",
       "89960     [books, periodicals, english, language, arts, ...\n",
       "124402    [employee, benefits, general, elementary, educ...\n",
       "289354    [equipment, maintenance, repairs, basic, educa...\n",
       "dtype: object"
      ]
     },
     "execution_count": 11,
     "metadata": {},
     "output_type": "execute_result"
    }
   ],
   "source": [
    "text_to_process_no_stopwords = text_to_process_tokens.apply(lambda x: [word for word in x if word not in stopwords.words('english')])\n",
    "text_to_process_no_stopwords.sample(5)"
   ]
  },
  {
   "cell_type": "code",
   "execution_count": 12,
   "metadata": {},
   "outputs": [],
   "source": [
    "del text_to_process_tokens # for memory management"
   ]
  },
  {
   "cell_type": "markdown",
   "metadata": {},
   "source": [
    "# Lemmatization"
   ]
  },
  {
   "cell_type": "code",
   "execution_count": 13,
   "metadata": {},
   "outputs": [
    {
     "data": {
      "text/plain": [
       "90682     [employee, benefit, instructional, staff, trai...\n",
       "19712     [salary, part, time, employee, instructional, ...\n",
       "201251    [contra, benefit, employee, benefit, general, ...\n",
       "259858    [salary, wage, teacher, professi, title, part,...\n",
       "196551    [personal, service, -, compensation, instructi...\n",
       "dtype: object"
      ]
     },
     "execution_count": 13,
     "metadata": {},
     "output_type": "execute_result"
    }
   ],
   "source": [
    "text_to_process_lemmed = text_to_process_no_stopwords.apply(lambda x: \n",
    "                                                            [WordNetLemmatizer().lemmatize(word) for word in x])\n",
    "text_to_process_lemmed.sample(5)"
   ]
  },
  {
   "cell_type": "code",
   "execution_count": 14,
   "metadata": {},
   "outputs": [],
   "source": [
    "del text_to_process_no_stopwords # for memory management"
   ]
  },
  {
   "cell_type": "markdown",
   "metadata": {},
   "source": [
    "# Combine Steps into Function"
   ]
  },
  {
   "cell_type": "code",
   "execution_count": 15,
   "metadata": {},
   "outputs": [],
   "source": [
    "def text_processing(phrase):\n",
    "    \"\"\"\n",
    "    Return list processed_phrase: phrase tokens after processing has been completed\n",
    "    \n",
    "    param string phrase: phrase to be processed\n",
    "    \n",
    "    Required Libraries: re, nltk\n",
    "    \"\"\"\n",
    "    \n",
    "    # Case Normalization\n",
    "    processed_phrase = phrase.lower()\n",
    "    \n",
    "    # Remove Punctuations\n",
    "    processed_phrase = re.sub(r\"[^a-z0-9-]\", \" \", processed_phrase)\n",
    "    \n",
    "    # Tokenize Phrase\n",
    "    processed_phrase = processed_phrase.split()\n",
    "    \n",
    "    # Remove Stopwords\n",
    "    processed_phrase = [word for word in processed_phrase if word not in stopwords.words(\"english\")]\n",
    "    \n",
    "    # Lemmatization\n",
    "    processed_phrase = [WordNetLemmatizer().lemmatize(word) for word in processed_phrase]\n",
    "    \n",
    "    # Recombine list into phrase\n",
    "    processed_phrase = ' '.join(processed_phrase)\n",
    "    \n",
    "    return processed_phrase"
   ]
  },
  {
   "cell_type": "code",
   "execution_count": 16,
   "metadata": {},
   "outputs": [],
   "source": [
    "data_features['combined_text'] = (data_features\n",
    "                                      .drop(columns=['FTE', 'Total'])\n",
    "                                      .fillna(\"\")\n",
    "                                      .apply(lambda x: \" \".join(x), axis=1)\n",
    "                                 )\n",
    "\n",
    "text_processed = data_features['combined_text'].apply(lambda x: text_processing(x))"
   ]
  },
  {
   "cell_type": "code",
   "execution_count": 17,
   "metadata": {},
   "outputs": [
    {
     "data": {
      "text/plain": [
       "232981             coaching supplement track coach head-gir\n",
       "90694     summer ed art sport - sea teacher afterschool ...\n",
       "318627    consultant school parental involvement fed thr...\n",
       "305988    salary part time employee instructional staff ...\n",
       "195162    contra benefit employee benefit general fund l...\n",
       "Name: combined_text, dtype: object"
      ]
     },
     "execution_count": 17,
     "metadata": {},
     "output_type": "execute_result"
    }
   ],
   "source": [
    "text_processed.sample(5)"
   ]
  }
 ],
 "metadata": {
  "kernelspec": {
   "display_name": "Python 3",
   "language": "python",
   "name": "python3"
  },
  "language_info": {
   "codemirror_mode": {
    "name": "ipython",
    "version": 3
   },
   "file_extension": ".py",
   "mimetype": "text/x-python",
   "name": "python",
   "nbconvert_exporter": "python",
   "pygments_lexer": "ipython3",
   "version": "3.6.6"
  }
 },
 "nbformat": 4,
 "nbformat_minor": 2
}
