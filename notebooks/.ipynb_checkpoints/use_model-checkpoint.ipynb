{
 "cells": [
  {
   "cell_type": "code",
   "execution_count": 3,
   "metadata": {},
   "outputs": [],
   "source": [
    "# Set Working Directory\n",
    "import os\n",
    "os.chdir('..')"
   ]
  },
  {
   "cell_type": "code",
   "execution_count": 4,
   "metadata": {
    "colab": {
     "autoexec": {
      "startup": false,
      "wait_interval": 0
     },
     "base_uri": "https://localhost:8080/",
     "height": 102
    },
    "colab_type": "code",
    "executionInfo": {
     "elapsed": 10037,
     "status": "ok",
     "timestamp": 1533388300661,
     "user": {
      "displayName": "Albert Lee",
      "photoUrl": "//lh3.googleusercontent.com/-f0u8obCCk_w/AAAAAAAAAAI/AAAAAAAAAxs/83E22s4mtyM/s50-c-k-no/photo.jpg",
      "userId": "109969660738913262150"
     },
     "user_tz": 240
    },
    "id": "OwY7ZriLi3yM",
    "outputId": "3fbf41b0-f3f3-4456-c663-92e9cecad01d"
   },
   "outputs": [
    {
     "name": "stderr",
     "output_type": "stream",
     "text": [
      "/Users/AlbertLee/anaconda3/lib/python3.6/site-packages/h5py/__init__.py:36: FutureWarning: Conversion of the second argument of issubdtype from `float` to `np.floating` is deprecated. In future, it will be treated as `np.float64 == np.dtype(float).type`.\n",
      "  from ._conv import register_converters as _register_converters\n",
      "Using TensorFlow backend.\n"
     ]
    },
    {
     "name": "stdout",
     "output_type": "stream",
     "text": [
      "[nltk_data] Downloading package stopwords to\n",
      "[nltk_data]     /Users/AlbertLee/nltk_data...\n",
      "[nltk_data]   Package stopwords is already up-to-date!\n",
      "[nltk_data] Downloading package wordnet to\n",
      "[nltk_data]     /Users/AlbertLee/nltk_data...\n",
      "[nltk_data]   Package wordnet is already up-to-date!\n",
      "INFO:tensorflow:Using /var/folders/rw/p1lsv_ss23n1b9bclc4_f5c40000gn/T/tfhub_modules to cache modules.\n",
      "INFO:tensorflow:Initialize variable module/Embeddings_en/sharded_0:0 from checkpoint b'/var/folders/rw/p1lsv_ss23n1b9bclc4_f5c40000gn/T/tfhub_modules/5e9bdcf4cda50fd3580da34bbf325504803cc22b/variables/variables' with Embeddings_en/sharded_0\n",
      "INFO:tensorflow:Initialize variable module/Embeddings_en/sharded_1:0 from checkpoint b'/var/folders/rw/p1lsv_ss23n1b9bclc4_f5c40000gn/T/tfhub_modules/5e9bdcf4cda50fd3580da34bbf325504803cc22b/variables/variables' with Embeddings_en/sharded_1\n",
      "INFO:tensorflow:Initialize variable module/Embeddings_en/sharded_10:0 from checkpoint b'/var/folders/rw/p1lsv_ss23n1b9bclc4_f5c40000gn/T/tfhub_modules/5e9bdcf4cda50fd3580da34bbf325504803cc22b/variables/variables' with Embeddings_en/sharded_10\n",
      "INFO:tensorflow:Initialize variable module/Embeddings_en/sharded_11:0 from checkpoint b'/var/folders/rw/p1lsv_ss23n1b9bclc4_f5c40000gn/T/tfhub_modules/5e9bdcf4cda50fd3580da34bbf325504803cc22b/variables/variables' with Embeddings_en/sharded_11\n",
      "INFO:tensorflow:Initialize variable module/Embeddings_en/sharded_12:0 from checkpoint b'/var/folders/rw/p1lsv_ss23n1b9bclc4_f5c40000gn/T/tfhub_modules/5e9bdcf4cda50fd3580da34bbf325504803cc22b/variables/variables' with Embeddings_en/sharded_12\n",
      "INFO:tensorflow:Initialize variable module/Embeddings_en/sharded_13:0 from checkpoint b'/var/folders/rw/p1lsv_ss23n1b9bclc4_f5c40000gn/T/tfhub_modules/5e9bdcf4cda50fd3580da34bbf325504803cc22b/variables/variables' with Embeddings_en/sharded_13\n",
      "INFO:tensorflow:Initialize variable module/Embeddings_en/sharded_14:0 from checkpoint b'/var/folders/rw/p1lsv_ss23n1b9bclc4_f5c40000gn/T/tfhub_modules/5e9bdcf4cda50fd3580da34bbf325504803cc22b/variables/variables' with Embeddings_en/sharded_14\n",
      "INFO:tensorflow:Initialize variable module/Embeddings_en/sharded_15:0 from checkpoint b'/var/folders/rw/p1lsv_ss23n1b9bclc4_f5c40000gn/T/tfhub_modules/5e9bdcf4cda50fd3580da34bbf325504803cc22b/variables/variables' with Embeddings_en/sharded_15\n",
      "INFO:tensorflow:Initialize variable module/Embeddings_en/sharded_16:0 from checkpoint b'/var/folders/rw/p1lsv_ss23n1b9bclc4_f5c40000gn/T/tfhub_modules/5e9bdcf4cda50fd3580da34bbf325504803cc22b/variables/variables' with Embeddings_en/sharded_16\n",
      "INFO:tensorflow:Initialize variable module/Embeddings_en/sharded_2:0 from checkpoint b'/var/folders/rw/p1lsv_ss23n1b9bclc4_f5c40000gn/T/tfhub_modules/5e9bdcf4cda50fd3580da34bbf325504803cc22b/variables/variables' with Embeddings_en/sharded_2\n",
      "INFO:tensorflow:Initialize variable module/Embeddings_en/sharded_3:0 from checkpoint b'/var/folders/rw/p1lsv_ss23n1b9bclc4_f5c40000gn/T/tfhub_modules/5e9bdcf4cda50fd3580da34bbf325504803cc22b/variables/variables' with Embeddings_en/sharded_3\n",
      "INFO:tensorflow:Initialize variable module/Embeddings_en/sharded_4:0 from checkpoint b'/var/folders/rw/p1lsv_ss23n1b9bclc4_f5c40000gn/T/tfhub_modules/5e9bdcf4cda50fd3580da34bbf325504803cc22b/variables/variables' with Embeddings_en/sharded_4\n",
      "INFO:tensorflow:Initialize variable module/Embeddings_en/sharded_5:0 from checkpoint b'/var/folders/rw/p1lsv_ss23n1b9bclc4_f5c40000gn/T/tfhub_modules/5e9bdcf4cda50fd3580da34bbf325504803cc22b/variables/variables' with Embeddings_en/sharded_5\n",
      "INFO:tensorflow:Initialize variable module/Embeddings_en/sharded_6:0 from checkpoint b'/var/folders/rw/p1lsv_ss23n1b9bclc4_f5c40000gn/T/tfhub_modules/5e9bdcf4cda50fd3580da34bbf325504803cc22b/variables/variables' with Embeddings_en/sharded_6\n",
      "INFO:tensorflow:Initialize variable module/Embeddings_en/sharded_7:0 from checkpoint b'/var/folders/rw/p1lsv_ss23n1b9bclc4_f5c40000gn/T/tfhub_modules/5e9bdcf4cda50fd3580da34bbf325504803cc22b/variables/variables' with Embeddings_en/sharded_7\n",
      "INFO:tensorflow:Initialize variable module/Embeddings_en/sharded_8:0 from checkpoint b'/var/folders/rw/p1lsv_ss23n1b9bclc4_f5c40000gn/T/tfhub_modules/5e9bdcf4cda50fd3580da34bbf325504803cc22b/variables/variables' with Embeddings_en/sharded_8\n",
      "INFO:tensorflow:Initialize variable module/Embeddings_en/sharded_9:0 from checkpoint b'/var/folders/rw/p1lsv_ss23n1b9bclc4_f5c40000gn/T/tfhub_modules/5e9bdcf4cda50fd3580da34bbf325504803cc22b/variables/variables' with Embeddings_en/sharded_9\n",
      "INFO:tensorflow:Initialize variable module/Encoder_en/Transformer/TransformerEncodeFast/encoder/layer_0/ffn/conv1/bias:0 from checkpoint b'/var/folders/rw/p1lsv_ss23n1b9bclc4_f5c40000gn/T/tfhub_modules/5e9bdcf4cda50fd3580da34bbf325504803cc22b/variables/variables' with Encoder_en/Transformer/TransformerEncodeFast/encoder/layer_0/ffn/conv1/bias\n",
      "INFO:tensorflow:Initialize variable module/Encoder_en/Transformer/TransformerEncodeFast/encoder/layer_0/ffn/conv1/kernel:0 from checkpoint b'/var/folders/rw/p1lsv_ss23n1b9bclc4_f5c40000gn/T/tfhub_modules/5e9bdcf4cda50fd3580da34bbf325504803cc22b/variables/variables' with Encoder_en/Transformer/TransformerEncodeFast/encoder/layer_0/ffn/conv1/kernel\n",
      "INFO:tensorflow:Initialize variable module/Encoder_en/Transformer/TransformerEncodeFast/encoder/layer_0/ffn/conv2/bias:0 from checkpoint b'/var/folders/rw/p1lsv_ss23n1b9bclc4_f5c40000gn/T/tfhub_modules/5e9bdcf4cda50fd3580da34bbf325504803cc22b/variables/variables' with Encoder_en/Transformer/TransformerEncodeFast/encoder/layer_0/ffn/conv2/bias\n",
      "INFO:tensorflow:Initialize variable module/Encoder_en/Transformer/TransformerEncodeFast/encoder/layer_0/ffn/conv2/kernel:0 from checkpoint b'/var/folders/rw/p1lsv_ss23n1b9bclc4_f5c40000gn/T/tfhub_modules/5e9bdcf4cda50fd3580da34bbf325504803cc22b/variables/variables' with Encoder_en/Transformer/TransformerEncodeFast/encoder/layer_0/ffn/conv2/kernel\n",
      "INFO:tensorflow:Initialize variable module/Encoder_en/Transformer/TransformerEncodeFast/encoder/layer_0/ffn/layer_prepostprocess/layer_norm/layer_norm_bias:0 from checkpoint b'/var/folders/rw/p1lsv_ss23n1b9bclc4_f5c40000gn/T/tfhub_modules/5e9bdcf4cda50fd3580da34bbf325504803cc22b/variables/variables' with Encoder_en/Transformer/TransformerEncodeFast/encoder/layer_0/ffn/layer_prepostprocess/layer_norm/layer_norm_bias\n",
      "INFO:tensorflow:Initialize variable module/Encoder_en/Transformer/TransformerEncodeFast/encoder/layer_0/ffn/layer_prepostprocess/layer_norm/layer_norm_scale:0 from checkpoint b'/var/folders/rw/p1lsv_ss23n1b9bclc4_f5c40000gn/T/tfhub_modules/5e9bdcf4cda50fd3580da34bbf325504803cc22b/variables/variables' with Encoder_en/Transformer/TransformerEncodeFast/encoder/layer_0/ffn/layer_prepostprocess/layer_norm/layer_norm_scale\n",
      "INFO:tensorflow:Initialize variable module/Encoder_en/Transformer/TransformerEncodeFast/encoder/layer_0/self_attention/layer_prepostprocess/layer_norm/layer_norm_bias:0 from checkpoint b'/var/folders/rw/p1lsv_ss23n1b9bclc4_f5c40000gn/T/tfhub_modules/5e9bdcf4cda50fd3580da34bbf325504803cc22b/variables/variables' with Encoder_en/Transformer/TransformerEncodeFast/encoder/layer_0/self_attention/layer_prepostprocess/layer_norm/layer_norm_bias\n",
      "INFO:tensorflow:Initialize variable module/Encoder_en/Transformer/TransformerEncodeFast/encoder/layer_0/self_attention/layer_prepostprocess/layer_norm/layer_norm_scale:0 from checkpoint b'/var/folders/rw/p1lsv_ss23n1b9bclc4_f5c40000gn/T/tfhub_modules/5e9bdcf4cda50fd3580da34bbf325504803cc22b/variables/variables' with Encoder_en/Transformer/TransformerEncodeFast/encoder/layer_0/self_attention/layer_prepostprocess/layer_norm/layer_norm_scale\n",
      "INFO:tensorflow:Initialize variable module/Encoder_en/Transformer/TransformerEncodeFast/encoder/layer_0/self_attention/multihead_attention/k/kernel:0 from checkpoint b'/var/folders/rw/p1lsv_ss23n1b9bclc4_f5c40000gn/T/tfhub_modules/5e9bdcf4cda50fd3580da34bbf325504803cc22b/variables/variables' with Encoder_en/Transformer/TransformerEncodeFast/encoder/layer_0/self_attention/multihead_attention/k/kernel\n",
      "INFO:tensorflow:Initialize variable module/Encoder_en/Transformer/TransformerEncodeFast/encoder/layer_0/self_attention/multihead_attention/output_transform/kernel:0 from checkpoint b'/var/folders/rw/p1lsv_ss23n1b9bclc4_f5c40000gn/T/tfhub_modules/5e9bdcf4cda50fd3580da34bbf325504803cc22b/variables/variables' with Encoder_en/Transformer/TransformerEncodeFast/encoder/layer_0/self_attention/multihead_attention/output_transform/kernel\n",
      "INFO:tensorflow:Initialize variable module/Encoder_en/Transformer/TransformerEncodeFast/encoder/layer_0/self_attention/multihead_attention/q/kernel:0 from checkpoint b'/var/folders/rw/p1lsv_ss23n1b9bclc4_f5c40000gn/T/tfhub_modules/5e9bdcf4cda50fd3580da34bbf325504803cc22b/variables/variables' with Encoder_en/Transformer/TransformerEncodeFast/encoder/layer_0/self_attention/multihead_attention/q/kernel\n",
      "INFO:tensorflow:Initialize variable module/Encoder_en/Transformer/TransformerEncodeFast/encoder/layer_0/self_attention/multihead_attention/v/kernel:0 from checkpoint b'/var/folders/rw/p1lsv_ss23n1b9bclc4_f5c40000gn/T/tfhub_modules/5e9bdcf4cda50fd3580da34bbf325504803cc22b/variables/variables' with Encoder_en/Transformer/TransformerEncodeFast/encoder/layer_0/self_attention/multihead_attention/v/kernel\n",
      "INFO:tensorflow:Initialize variable module/Encoder_en/Transformer/TransformerEncodeFast/encoder/layer_1/ffn/conv1/bias:0 from checkpoint b'/var/folders/rw/p1lsv_ss23n1b9bclc4_f5c40000gn/T/tfhub_modules/5e9bdcf4cda50fd3580da34bbf325504803cc22b/variables/variables' with Encoder_en/Transformer/TransformerEncodeFast/encoder/layer_1/ffn/conv1/bias\n",
      "INFO:tensorflow:Initialize variable module/Encoder_en/Transformer/TransformerEncodeFast/encoder/layer_1/ffn/conv1/kernel:0 from checkpoint b'/var/folders/rw/p1lsv_ss23n1b9bclc4_f5c40000gn/T/tfhub_modules/5e9bdcf4cda50fd3580da34bbf325504803cc22b/variables/variables' with Encoder_en/Transformer/TransformerEncodeFast/encoder/layer_1/ffn/conv1/kernel\n",
      "INFO:tensorflow:Initialize variable module/Encoder_en/Transformer/TransformerEncodeFast/encoder/layer_1/ffn/conv2/bias:0 from checkpoint b'/var/folders/rw/p1lsv_ss23n1b9bclc4_f5c40000gn/T/tfhub_modules/5e9bdcf4cda50fd3580da34bbf325504803cc22b/variables/variables' with Encoder_en/Transformer/TransformerEncodeFast/encoder/layer_1/ffn/conv2/bias\n",
      "INFO:tensorflow:Initialize variable module/Encoder_en/Transformer/TransformerEncodeFast/encoder/layer_1/ffn/conv2/kernel:0 from checkpoint b'/var/folders/rw/p1lsv_ss23n1b9bclc4_f5c40000gn/T/tfhub_modules/5e9bdcf4cda50fd3580da34bbf325504803cc22b/variables/variables' with Encoder_en/Transformer/TransformerEncodeFast/encoder/layer_1/ffn/conv2/kernel\n",
      "INFO:tensorflow:Initialize variable module/Encoder_en/Transformer/TransformerEncodeFast/encoder/layer_1/ffn/layer_prepostprocess/layer_norm/layer_norm_bias:0 from checkpoint b'/var/folders/rw/p1lsv_ss23n1b9bclc4_f5c40000gn/T/tfhub_modules/5e9bdcf4cda50fd3580da34bbf325504803cc22b/variables/variables' with Encoder_en/Transformer/TransformerEncodeFast/encoder/layer_1/ffn/layer_prepostprocess/layer_norm/layer_norm_bias\n",
      "INFO:tensorflow:Initialize variable module/Encoder_en/Transformer/TransformerEncodeFast/encoder/layer_1/ffn/layer_prepostprocess/layer_norm/layer_norm_scale:0 from checkpoint b'/var/folders/rw/p1lsv_ss23n1b9bclc4_f5c40000gn/T/tfhub_modules/5e9bdcf4cda50fd3580da34bbf325504803cc22b/variables/variables' with Encoder_en/Transformer/TransformerEncodeFast/encoder/layer_1/ffn/layer_prepostprocess/layer_norm/layer_norm_scale\n",
      "INFO:tensorflow:Initialize variable module/Encoder_en/Transformer/TransformerEncodeFast/encoder/layer_1/self_attention/layer_prepostprocess/layer_norm/layer_norm_bias:0 from checkpoint b'/var/folders/rw/p1lsv_ss23n1b9bclc4_f5c40000gn/T/tfhub_modules/5e9bdcf4cda50fd3580da34bbf325504803cc22b/variables/variables' with Encoder_en/Transformer/TransformerEncodeFast/encoder/layer_1/self_attention/layer_prepostprocess/layer_norm/layer_norm_bias\n",
      "INFO:tensorflow:Initialize variable module/Encoder_en/Transformer/TransformerEncodeFast/encoder/layer_1/self_attention/layer_prepostprocess/layer_norm/layer_norm_scale:0 from checkpoint b'/var/folders/rw/p1lsv_ss23n1b9bclc4_f5c40000gn/T/tfhub_modules/5e9bdcf4cda50fd3580da34bbf325504803cc22b/variables/variables' with Encoder_en/Transformer/TransformerEncodeFast/encoder/layer_1/self_attention/layer_prepostprocess/layer_norm/layer_norm_scale\n",
      "INFO:tensorflow:Initialize variable module/Encoder_en/Transformer/TransformerEncodeFast/encoder/layer_1/self_attention/multihead_attention/k/kernel:0 from checkpoint b'/var/folders/rw/p1lsv_ss23n1b9bclc4_f5c40000gn/T/tfhub_modules/5e9bdcf4cda50fd3580da34bbf325504803cc22b/variables/variables' with Encoder_en/Transformer/TransformerEncodeFast/encoder/layer_1/self_attention/multihead_attention/k/kernel\n",
      "INFO:tensorflow:Initialize variable module/Encoder_en/Transformer/TransformerEncodeFast/encoder/layer_1/self_attention/multihead_attention/output_transform/kernel:0 from checkpoint b'/var/folders/rw/p1lsv_ss23n1b9bclc4_f5c40000gn/T/tfhub_modules/5e9bdcf4cda50fd3580da34bbf325504803cc22b/variables/variables' with Encoder_en/Transformer/TransformerEncodeFast/encoder/layer_1/self_attention/multihead_attention/output_transform/kernel\n",
      "INFO:tensorflow:Initialize variable module/Encoder_en/Transformer/TransformerEncodeFast/encoder/layer_1/self_attention/multihead_attention/q/kernel:0 from checkpoint b'/var/folders/rw/p1lsv_ss23n1b9bclc4_f5c40000gn/T/tfhub_modules/5e9bdcf4cda50fd3580da34bbf325504803cc22b/variables/variables' with Encoder_en/Transformer/TransformerEncodeFast/encoder/layer_1/self_attention/multihead_attention/q/kernel\n",
      "INFO:tensorflow:Initialize variable module/Encoder_en/Transformer/TransformerEncodeFast/encoder/layer_1/self_attention/multihead_attention/v/kernel:0 from checkpoint b'/var/folders/rw/p1lsv_ss23n1b9bclc4_f5c40000gn/T/tfhub_modules/5e9bdcf4cda50fd3580da34bbf325504803cc22b/variables/variables' with Encoder_en/Transformer/TransformerEncodeFast/encoder/layer_1/self_attention/multihead_attention/v/kernel\n",
      "INFO:tensorflow:Initialize variable module/Encoder_en/Transformer/TransformerEncodeFast/encoder/layer_2/ffn/conv1/bias:0 from checkpoint b'/var/folders/rw/p1lsv_ss23n1b9bclc4_f5c40000gn/T/tfhub_modules/5e9bdcf4cda50fd3580da34bbf325504803cc22b/variables/variables' with Encoder_en/Transformer/TransformerEncodeFast/encoder/layer_2/ffn/conv1/bias\n",
      "INFO:tensorflow:Initialize variable module/Encoder_en/Transformer/TransformerEncodeFast/encoder/layer_2/ffn/conv1/kernel:0 from checkpoint b'/var/folders/rw/p1lsv_ss23n1b9bclc4_f5c40000gn/T/tfhub_modules/5e9bdcf4cda50fd3580da34bbf325504803cc22b/variables/variables' with Encoder_en/Transformer/TransformerEncodeFast/encoder/layer_2/ffn/conv1/kernel\n",
      "INFO:tensorflow:Initialize variable module/Encoder_en/Transformer/TransformerEncodeFast/encoder/layer_2/ffn/conv2/bias:0 from checkpoint b'/var/folders/rw/p1lsv_ss23n1b9bclc4_f5c40000gn/T/tfhub_modules/5e9bdcf4cda50fd3580da34bbf325504803cc22b/variables/variables' with Encoder_en/Transformer/TransformerEncodeFast/encoder/layer_2/ffn/conv2/bias\n",
      "INFO:tensorflow:Initialize variable module/Encoder_en/Transformer/TransformerEncodeFast/encoder/layer_2/ffn/conv2/kernel:0 from checkpoint b'/var/folders/rw/p1lsv_ss23n1b9bclc4_f5c40000gn/T/tfhub_modules/5e9bdcf4cda50fd3580da34bbf325504803cc22b/variables/variables' with Encoder_en/Transformer/TransformerEncodeFast/encoder/layer_2/ffn/conv2/kernel\n",
      "INFO:tensorflow:Initialize variable module/Encoder_en/Transformer/TransformerEncodeFast/encoder/layer_2/ffn/layer_prepostprocess/layer_norm/layer_norm_bias:0 from checkpoint b'/var/folders/rw/p1lsv_ss23n1b9bclc4_f5c40000gn/T/tfhub_modules/5e9bdcf4cda50fd3580da34bbf325504803cc22b/variables/variables' with Encoder_en/Transformer/TransformerEncodeFast/encoder/layer_2/ffn/layer_prepostprocess/layer_norm/layer_norm_bias\n",
      "INFO:tensorflow:Initialize variable module/Encoder_en/Transformer/TransformerEncodeFast/encoder/layer_2/ffn/layer_prepostprocess/layer_norm/layer_norm_scale:0 from checkpoint b'/var/folders/rw/p1lsv_ss23n1b9bclc4_f5c40000gn/T/tfhub_modules/5e9bdcf4cda50fd3580da34bbf325504803cc22b/variables/variables' with Encoder_en/Transformer/TransformerEncodeFast/encoder/layer_2/ffn/layer_prepostprocess/layer_norm/layer_norm_scale\n",
      "INFO:tensorflow:Initialize variable module/Encoder_en/Transformer/TransformerEncodeFast/encoder/layer_2/self_attention/layer_prepostprocess/layer_norm/layer_norm_bias:0 from checkpoint b'/var/folders/rw/p1lsv_ss23n1b9bclc4_f5c40000gn/T/tfhub_modules/5e9bdcf4cda50fd3580da34bbf325504803cc22b/variables/variables' with Encoder_en/Transformer/TransformerEncodeFast/encoder/layer_2/self_attention/layer_prepostprocess/layer_norm/layer_norm_bias\n",
      "INFO:tensorflow:Initialize variable module/Encoder_en/Transformer/TransformerEncodeFast/encoder/layer_2/self_attention/layer_prepostprocess/layer_norm/layer_norm_scale:0 from checkpoint b'/var/folders/rw/p1lsv_ss23n1b9bclc4_f5c40000gn/T/tfhub_modules/5e9bdcf4cda50fd3580da34bbf325504803cc22b/variables/variables' with Encoder_en/Transformer/TransformerEncodeFast/encoder/layer_2/self_attention/layer_prepostprocess/layer_norm/layer_norm_scale\n",
      "INFO:tensorflow:Initialize variable module/Encoder_en/Transformer/TransformerEncodeFast/encoder/layer_2/self_attention/multihead_attention/k/kernel:0 from checkpoint b'/var/folders/rw/p1lsv_ss23n1b9bclc4_f5c40000gn/T/tfhub_modules/5e9bdcf4cda50fd3580da34bbf325504803cc22b/variables/variables' with Encoder_en/Transformer/TransformerEncodeFast/encoder/layer_2/self_attention/multihead_attention/k/kernel\n",
      "INFO:tensorflow:Initialize variable module/Encoder_en/Transformer/TransformerEncodeFast/encoder/layer_2/self_attention/multihead_attention/output_transform/kernel:0 from checkpoint b'/var/folders/rw/p1lsv_ss23n1b9bclc4_f5c40000gn/T/tfhub_modules/5e9bdcf4cda50fd3580da34bbf325504803cc22b/variables/variables' with Encoder_en/Transformer/TransformerEncodeFast/encoder/layer_2/self_attention/multihead_attention/output_transform/kernel\n",
      "INFO:tensorflow:Initialize variable module/Encoder_en/Transformer/TransformerEncodeFast/encoder/layer_2/self_attention/multihead_attention/q/kernel:0 from checkpoint b'/var/folders/rw/p1lsv_ss23n1b9bclc4_f5c40000gn/T/tfhub_modules/5e9bdcf4cda50fd3580da34bbf325504803cc22b/variables/variables' with Encoder_en/Transformer/TransformerEncodeFast/encoder/layer_2/self_attention/multihead_attention/q/kernel\n",
      "INFO:tensorflow:Initialize variable module/Encoder_en/Transformer/TransformerEncodeFast/encoder/layer_2/self_attention/multihead_attention/v/kernel:0 from checkpoint b'/var/folders/rw/p1lsv_ss23n1b9bclc4_f5c40000gn/T/tfhub_modules/5e9bdcf4cda50fd3580da34bbf325504803cc22b/variables/variables' with Encoder_en/Transformer/TransformerEncodeFast/encoder/layer_2/self_attention/multihead_attention/v/kernel\n",
      "INFO:tensorflow:Initialize variable module/Encoder_en/Transformer/TransformerEncodeFast/encoder/layer_3/ffn/conv1/bias:0 from checkpoint b'/var/folders/rw/p1lsv_ss23n1b9bclc4_f5c40000gn/T/tfhub_modules/5e9bdcf4cda50fd3580da34bbf325504803cc22b/variables/variables' with Encoder_en/Transformer/TransformerEncodeFast/encoder/layer_3/ffn/conv1/bias\n",
      "INFO:tensorflow:Initialize variable module/Encoder_en/Transformer/TransformerEncodeFast/encoder/layer_3/ffn/conv1/kernel:0 from checkpoint b'/var/folders/rw/p1lsv_ss23n1b9bclc4_f5c40000gn/T/tfhub_modules/5e9bdcf4cda50fd3580da34bbf325504803cc22b/variables/variables' with Encoder_en/Transformer/TransformerEncodeFast/encoder/layer_3/ffn/conv1/kernel\n",
      "INFO:tensorflow:Initialize variable module/Encoder_en/Transformer/TransformerEncodeFast/encoder/layer_3/ffn/conv2/bias:0 from checkpoint b'/var/folders/rw/p1lsv_ss23n1b9bclc4_f5c40000gn/T/tfhub_modules/5e9bdcf4cda50fd3580da34bbf325504803cc22b/variables/variables' with Encoder_en/Transformer/TransformerEncodeFast/encoder/layer_3/ffn/conv2/bias\n",
      "INFO:tensorflow:Initialize variable module/Encoder_en/Transformer/TransformerEncodeFast/encoder/layer_3/ffn/conv2/kernel:0 from checkpoint b'/var/folders/rw/p1lsv_ss23n1b9bclc4_f5c40000gn/T/tfhub_modules/5e9bdcf4cda50fd3580da34bbf325504803cc22b/variables/variables' with Encoder_en/Transformer/TransformerEncodeFast/encoder/layer_3/ffn/conv2/kernel\n",
      "INFO:tensorflow:Initialize variable module/Encoder_en/Transformer/TransformerEncodeFast/encoder/layer_3/ffn/layer_prepostprocess/layer_norm/layer_norm_bias:0 from checkpoint b'/var/folders/rw/p1lsv_ss23n1b9bclc4_f5c40000gn/T/tfhub_modules/5e9bdcf4cda50fd3580da34bbf325504803cc22b/variables/variables' with Encoder_en/Transformer/TransformerEncodeFast/encoder/layer_3/ffn/layer_prepostprocess/layer_norm/layer_norm_bias\n",
      "INFO:tensorflow:Initialize variable module/Encoder_en/Transformer/TransformerEncodeFast/encoder/layer_3/ffn/layer_prepostprocess/layer_norm/layer_norm_scale:0 from checkpoint b'/var/folders/rw/p1lsv_ss23n1b9bclc4_f5c40000gn/T/tfhub_modules/5e9bdcf4cda50fd3580da34bbf325504803cc22b/variables/variables' with Encoder_en/Transformer/TransformerEncodeFast/encoder/layer_3/ffn/layer_prepostprocess/layer_norm/layer_norm_scale\n",
      "INFO:tensorflow:Initialize variable module/Encoder_en/Transformer/TransformerEncodeFast/encoder/layer_3/self_attention/layer_prepostprocess/layer_norm/layer_norm_bias:0 from checkpoint b'/var/folders/rw/p1lsv_ss23n1b9bclc4_f5c40000gn/T/tfhub_modules/5e9bdcf4cda50fd3580da34bbf325504803cc22b/variables/variables' with Encoder_en/Transformer/TransformerEncodeFast/encoder/layer_3/self_attention/layer_prepostprocess/layer_norm/layer_norm_bias\n",
      "INFO:tensorflow:Initialize variable module/Encoder_en/Transformer/TransformerEncodeFast/encoder/layer_3/self_attention/layer_prepostprocess/layer_norm/layer_norm_scale:0 from checkpoint b'/var/folders/rw/p1lsv_ss23n1b9bclc4_f5c40000gn/T/tfhub_modules/5e9bdcf4cda50fd3580da34bbf325504803cc22b/variables/variables' with Encoder_en/Transformer/TransformerEncodeFast/encoder/layer_3/self_attention/layer_prepostprocess/layer_norm/layer_norm_scale\n",
      "INFO:tensorflow:Initialize variable module/Encoder_en/Transformer/TransformerEncodeFast/encoder/layer_3/self_attention/multihead_attention/k/kernel:0 from checkpoint b'/var/folders/rw/p1lsv_ss23n1b9bclc4_f5c40000gn/T/tfhub_modules/5e9bdcf4cda50fd3580da34bbf325504803cc22b/variables/variables' with Encoder_en/Transformer/TransformerEncodeFast/encoder/layer_3/self_attention/multihead_attention/k/kernel\n",
      "INFO:tensorflow:Initialize variable module/Encoder_en/Transformer/TransformerEncodeFast/encoder/layer_3/self_attention/multihead_attention/output_transform/kernel:0 from checkpoint b'/var/folders/rw/p1lsv_ss23n1b9bclc4_f5c40000gn/T/tfhub_modules/5e9bdcf4cda50fd3580da34bbf325504803cc22b/variables/variables' with Encoder_en/Transformer/TransformerEncodeFast/encoder/layer_3/self_attention/multihead_attention/output_transform/kernel\n",
      "INFO:tensorflow:Initialize variable module/Encoder_en/Transformer/TransformerEncodeFast/encoder/layer_3/self_attention/multihead_attention/q/kernel:0 from checkpoint b'/var/folders/rw/p1lsv_ss23n1b9bclc4_f5c40000gn/T/tfhub_modules/5e9bdcf4cda50fd3580da34bbf325504803cc22b/variables/variables' with Encoder_en/Transformer/TransformerEncodeFast/encoder/layer_3/self_attention/multihead_attention/q/kernel\n",
      "INFO:tensorflow:Initialize variable module/Encoder_en/Transformer/TransformerEncodeFast/encoder/layer_3/self_attention/multihead_attention/v/kernel:0 from checkpoint b'/var/folders/rw/p1lsv_ss23n1b9bclc4_f5c40000gn/T/tfhub_modules/5e9bdcf4cda50fd3580da34bbf325504803cc22b/variables/variables' with Encoder_en/Transformer/TransformerEncodeFast/encoder/layer_3/self_attention/multihead_attention/v/kernel\n",
      "INFO:tensorflow:Initialize variable module/Encoder_en/Transformer/TransformerEncodeFast/encoder/layer_4/ffn/conv1/bias:0 from checkpoint b'/var/folders/rw/p1lsv_ss23n1b9bclc4_f5c40000gn/T/tfhub_modules/5e9bdcf4cda50fd3580da34bbf325504803cc22b/variables/variables' with Encoder_en/Transformer/TransformerEncodeFast/encoder/layer_4/ffn/conv1/bias\n",
      "INFO:tensorflow:Initialize variable module/Encoder_en/Transformer/TransformerEncodeFast/encoder/layer_4/ffn/conv1/kernel:0 from checkpoint b'/var/folders/rw/p1lsv_ss23n1b9bclc4_f5c40000gn/T/tfhub_modules/5e9bdcf4cda50fd3580da34bbf325504803cc22b/variables/variables' with Encoder_en/Transformer/TransformerEncodeFast/encoder/layer_4/ffn/conv1/kernel\n",
      "INFO:tensorflow:Initialize variable module/Encoder_en/Transformer/TransformerEncodeFast/encoder/layer_4/ffn/conv2/bias:0 from checkpoint b'/var/folders/rw/p1lsv_ss23n1b9bclc4_f5c40000gn/T/tfhub_modules/5e9bdcf4cda50fd3580da34bbf325504803cc22b/variables/variables' with Encoder_en/Transformer/TransformerEncodeFast/encoder/layer_4/ffn/conv2/bias\n",
      "INFO:tensorflow:Initialize variable module/Encoder_en/Transformer/TransformerEncodeFast/encoder/layer_4/ffn/conv2/kernel:0 from checkpoint b'/var/folders/rw/p1lsv_ss23n1b9bclc4_f5c40000gn/T/tfhub_modules/5e9bdcf4cda50fd3580da34bbf325504803cc22b/variables/variables' with Encoder_en/Transformer/TransformerEncodeFast/encoder/layer_4/ffn/conv2/kernel\n",
      "INFO:tensorflow:Initialize variable module/Encoder_en/Transformer/TransformerEncodeFast/encoder/layer_4/ffn/layer_prepostprocess/layer_norm/layer_norm_bias:0 from checkpoint b'/var/folders/rw/p1lsv_ss23n1b9bclc4_f5c40000gn/T/tfhub_modules/5e9bdcf4cda50fd3580da34bbf325504803cc22b/variables/variables' with Encoder_en/Transformer/TransformerEncodeFast/encoder/layer_4/ffn/layer_prepostprocess/layer_norm/layer_norm_bias\n",
      "INFO:tensorflow:Initialize variable module/Encoder_en/Transformer/TransformerEncodeFast/encoder/layer_4/ffn/layer_prepostprocess/layer_norm/layer_norm_scale:0 from checkpoint b'/var/folders/rw/p1lsv_ss23n1b9bclc4_f5c40000gn/T/tfhub_modules/5e9bdcf4cda50fd3580da34bbf325504803cc22b/variables/variables' with Encoder_en/Transformer/TransformerEncodeFast/encoder/layer_4/ffn/layer_prepostprocess/layer_norm/layer_norm_scale\n",
      "INFO:tensorflow:Initialize variable module/Encoder_en/Transformer/TransformerEncodeFast/encoder/layer_4/self_attention/layer_prepostprocess/layer_norm/layer_norm_bias:0 from checkpoint b'/var/folders/rw/p1lsv_ss23n1b9bclc4_f5c40000gn/T/tfhub_modules/5e9bdcf4cda50fd3580da34bbf325504803cc22b/variables/variables' with Encoder_en/Transformer/TransformerEncodeFast/encoder/layer_4/self_attention/layer_prepostprocess/layer_norm/layer_norm_bias\n",
      "INFO:tensorflow:Initialize variable module/Encoder_en/Transformer/TransformerEncodeFast/encoder/layer_4/self_attention/layer_prepostprocess/layer_norm/layer_norm_scale:0 from checkpoint b'/var/folders/rw/p1lsv_ss23n1b9bclc4_f5c40000gn/T/tfhub_modules/5e9bdcf4cda50fd3580da34bbf325504803cc22b/variables/variables' with Encoder_en/Transformer/TransformerEncodeFast/encoder/layer_4/self_attention/layer_prepostprocess/layer_norm/layer_norm_scale\n",
      "INFO:tensorflow:Initialize variable module/Encoder_en/Transformer/TransformerEncodeFast/encoder/layer_4/self_attention/multihead_attention/k/kernel:0 from checkpoint b'/var/folders/rw/p1lsv_ss23n1b9bclc4_f5c40000gn/T/tfhub_modules/5e9bdcf4cda50fd3580da34bbf325504803cc22b/variables/variables' with Encoder_en/Transformer/TransformerEncodeFast/encoder/layer_4/self_attention/multihead_attention/k/kernel\n",
      "INFO:tensorflow:Initialize variable module/Encoder_en/Transformer/TransformerEncodeFast/encoder/layer_4/self_attention/multihead_attention/output_transform/kernel:0 from checkpoint b'/var/folders/rw/p1lsv_ss23n1b9bclc4_f5c40000gn/T/tfhub_modules/5e9bdcf4cda50fd3580da34bbf325504803cc22b/variables/variables' with Encoder_en/Transformer/TransformerEncodeFast/encoder/layer_4/self_attention/multihead_attention/output_transform/kernel\n",
      "INFO:tensorflow:Initialize variable module/Encoder_en/Transformer/TransformerEncodeFast/encoder/layer_4/self_attention/multihead_attention/q/kernel:0 from checkpoint b'/var/folders/rw/p1lsv_ss23n1b9bclc4_f5c40000gn/T/tfhub_modules/5e9bdcf4cda50fd3580da34bbf325504803cc22b/variables/variables' with Encoder_en/Transformer/TransformerEncodeFast/encoder/layer_4/self_attention/multihead_attention/q/kernel\n",
      "INFO:tensorflow:Initialize variable module/Encoder_en/Transformer/TransformerEncodeFast/encoder/layer_4/self_attention/multihead_attention/v/kernel:0 from checkpoint b'/var/folders/rw/p1lsv_ss23n1b9bclc4_f5c40000gn/T/tfhub_modules/5e9bdcf4cda50fd3580da34bbf325504803cc22b/variables/variables' with Encoder_en/Transformer/TransformerEncodeFast/encoder/layer_4/self_attention/multihead_attention/v/kernel\n",
      "INFO:tensorflow:Initialize variable module/Encoder_en/Transformer/TransformerEncodeFast/encoder/layer_5/ffn/conv1/bias:0 from checkpoint b'/var/folders/rw/p1lsv_ss23n1b9bclc4_f5c40000gn/T/tfhub_modules/5e9bdcf4cda50fd3580da34bbf325504803cc22b/variables/variables' with Encoder_en/Transformer/TransformerEncodeFast/encoder/layer_5/ffn/conv1/bias\n",
      "INFO:tensorflow:Initialize variable module/Encoder_en/Transformer/TransformerEncodeFast/encoder/layer_5/ffn/conv1/kernel:0 from checkpoint b'/var/folders/rw/p1lsv_ss23n1b9bclc4_f5c40000gn/T/tfhub_modules/5e9bdcf4cda50fd3580da34bbf325504803cc22b/variables/variables' with Encoder_en/Transformer/TransformerEncodeFast/encoder/layer_5/ffn/conv1/kernel\n",
      "INFO:tensorflow:Initialize variable module/Encoder_en/Transformer/TransformerEncodeFast/encoder/layer_5/ffn/conv2/bias:0 from checkpoint b'/var/folders/rw/p1lsv_ss23n1b9bclc4_f5c40000gn/T/tfhub_modules/5e9bdcf4cda50fd3580da34bbf325504803cc22b/variables/variables' with Encoder_en/Transformer/TransformerEncodeFast/encoder/layer_5/ffn/conv2/bias\n",
      "INFO:tensorflow:Initialize variable module/Encoder_en/Transformer/TransformerEncodeFast/encoder/layer_5/ffn/conv2/kernel:0 from checkpoint b'/var/folders/rw/p1lsv_ss23n1b9bclc4_f5c40000gn/T/tfhub_modules/5e9bdcf4cda50fd3580da34bbf325504803cc22b/variables/variables' with Encoder_en/Transformer/TransformerEncodeFast/encoder/layer_5/ffn/conv2/kernel\n",
      "INFO:tensorflow:Initialize variable module/Encoder_en/Transformer/TransformerEncodeFast/encoder/layer_5/ffn/layer_prepostprocess/layer_norm/layer_norm_bias:0 from checkpoint b'/var/folders/rw/p1lsv_ss23n1b9bclc4_f5c40000gn/T/tfhub_modules/5e9bdcf4cda50fd3580da34bbf325504803cc22b/variables/variables' with Encoder_en/Transformer/TransformerEncodeFast/encoder/layer_5/ffn/layer_prepostprocess/layer_norm/layer_norm_bias\n",
      "INFO:tensorflow:Initialize variable module/Encoder_en/Transformer/TransformerEncodeFast/encoder/layer_5/ffn/layer_prepostprocess/layer_norm/layer_norm_scale:0 from checkpoint b'/var/folders/rw/p1lsv_ss23n1b9bclc4_f5c40000gn/T/tfhub_modules/5e9bdcf4cda50fd3580da34bbf325504803cc22b/variables/variables' with Encoder_en/Transformer/TransformerEncodeFast/encoder/layer_5/ffn/layer_prepostprocess/layer_norm/layer_norm_scale\n",
      "INFO:tensorflow:Initialize variable module/Encoder_en/Transformer/TransformerEncodeFast/encoder/layer_5/self_attention/layer_prepostprocess/layer_norm/layer_norm_bias:0 from checkpoint b'/var/folders/rw/p1lsv_ss23n1b9bclc4_f5c40000gn/T/tfhub_modules/5e9bdcf4cda50fd3580da34bbf325504803cc22b/variables/variables' with Encoder_en/Transformer/TransformerEncodeFast/encoder/layer_5/self_attention/layer_prepostprocess/layer_norm/layer_norm_bias\n",
      "INFO:tensorflow:Initialize variable module/Encoder_en/Transformer/TransformerEncodeFast/encoder/layer_5/self_attention/layer_prepostprocess/layer_norm/layer_norm_scale:0 from checkpoint b'/var/folders/rw/p1lsv_ss23n1b9bclc4_f5c40000gn/T/tfhub_modules/5e9bdcf4cda50fd3580da34bbf325504803cc22b/variables/variables' with Encoder_en/Transformer/TransformerEncodeFast/encoder/layer_5/self_attention/layer_prepostprocess/layer_norm/layer_norm_scale\n",
      "INFO:tensorflow:Initialize variable module/Encoder_en/Transformer/TransformerEncodeFast/encoder/layer_5/self_attention/multihead_attention/k/kernel:0 from checkpoint b'/var/folders/rw/p1lsv_ss23n1b9bclc4_f5c40000gn/T/tfhub_modules/5e9bdcf4cda50fd3580da34bbf325504803cc22b/variables/variables' with Encoder_en/Transformer/TransformerEncodeFast/encoder/layer_5/self_attention/multihead_attention/k/kernel\n",
      "INFO:tensorflow:Initialize variable module/Encoder_en/Transformer/TransformerEncodeFast/encoder/layer_5/self_attention/multihead_attention/output_transform/kernel:0 from checkpoint b'/var/folders/rw/p1lsv_ss23n1b9bclc4_f5c40000gn/T/tfhub_modules/5e9bdcf4cda50fd3580da34bbf325504803cc22b/variables/variables' with Encoder_en/Transformer/TransformerEncodeFast/encoder/layer_5/self_attention/multihead_attention/output_transform/kernel\n",
      "INFO:tensorflow:Initialize variable module/Encoder_en/Transformer/TransformerEncodeFast/encoder/layer_5/self_attention/multihead_attention/q/kernel:0 from checkpoint b'/var/folders/rw/p1lsv_ss23n1b9bclc4_f5c40000gn/T/tfhub_modules/5e9bdcf4cda50fd3580da34bbf325504803cc22b/variables/variables' with Encoder_en/Transformer/TransformerEncodeFast/encoder/layer_5/self_attention/multihead_attention/q/kernel\n",
      "INFO:tensorflow:Initialize variable module/Encoder_en/Transformer/TransformerEncodeFast/encoder/layer_5/self_attention/multihead_attention/v/kernel:0 from checkpoint b'/var/folders/rw/p1lsv_ss23n1b9bclc4_f5c40000gn/T/tfhub_modules/5e9bdcf4cda50fd3580da34bbf325504803cc22b/variables/variables' with Encoder_en/Transformer/TransformerEncodeFast/encoder/layer_5/self_attention/multihead_attention/v/kernel\n",
      "INFO:tensorflow:Initialize variable module/Encoder_en/Transformer/TransformerEncodeFast/encoder/layer_prepostprocess/layer_norm/layer_norm_bias:0 from checkpoint b'/var/folders/rw/p1lsv_ss23n1b9bclc4_f5c40000gn/T/tfhub_modules/5e9bdcf4cda50fd3580da34bbf325504803cc22b/variables/variables' with Encoder_en/Transformer/TransformerEncodeFast/encoder/layer_prepostprocess/layer_norm/layer_norm_bias\n",
      "INFO:tensorflow:Initialize variable module/Encoder_en/Transformer/TransformerEncodeFast/encoder/layer_prepostprocess/layer_norm/layer_norm_scale:0 from checkpoint b'/var/folders/rw/p1lsv_ss23n1b9bclc4_f5c40000gn/T/tfhub_modules/5e9bdcf4cda50fd3580da34bbf325504803cc22b/variables/variables' with Encoder_en/Transformer/TransformerEncodeFast/encoder/layer_prepostprocess/layer_norm/layer_norm_scale\n",
      "INFO:tensorflow:Initialize variable module/Encoder_en/Transformer/dense/bias:0 from checkpoint b'/var/folders/rw/p1lsv_ss23n1b9bclc4_f5c40000gn/T/tfhub_modules/5e9bdcf4cda50fd3580da34bbf325504803cc22b/variables/variables' with Encoder_en/Transformer/dense/bias\n",
      "INFO:tensorflow:Initialize variable module/Encoder_en/Transformer/dense/kernel:0 from checkpoint b'/var/folders/rw/p1lsv_ss23n1b9bclc4_f5c40000gn/T/tfhub_modules/5e9bdcf4cda50fd3580da34bbf325504803cc22b/variables/variables' with Encoder_en/Transformer/dense/kernel\n",
      "INFO:tensorflow:Initialize variable module/Encoder_en/hidden_layers/tanh_layer_0/bias:0 from checkpoint b'/var/folders/rw/p1lsv_ss23n1b9bclc4_f5c40000gn/T/tfhub_modules/5e9bdcf4cda50fd3580da34bbf325504803cc22b/variables/variables' with Encoder_en/hidden_layers/tanh_layer_0/bias\n",
      "INFO:tensorflow:Initialize variable module/Encoder_en/hidden_layers/tanh_layer_0/weights:0 from checkpoint b'/var/folders/rw/p1lsv_ss23n1b9bclc4_f5c40000gn/T/tfhub_modules/5e9bdcf4cda50fd3580da34bbf325504803cc22b/variables/variables' with Encoder_en/hidden_layers/tanh_layer_0/weights\n",
      "INFO:tensorflow:Initialize variable module/global_step:0 from checkpoint b'/var/folders/rw/p1lsv_ss23n1b9bclc4_f5c40000gn/T/tfhub_modules/5e9bdcf4cda50fd3580da34bbf325504803cc22b/variables/variables' with global_step\n"
     ]
    }
   ],
   "source": [
    "import pandas as pd\n",
    "import numpy as np\n",
    "from keras.preprocessing.text import Tokenizer\n",
    "from keras.preprocessing.sequence import pad_sequences\n",
    "\n",
    "from sklearn.feature_extraction.text import CountVectorizer, TfidfVectorizer\n",
    "from sklearn.preprocessing import Imputer\n",
    "from scipy import sparse\n",
    "\n",
    "import zipfile\n",
    "import re, nltk\n",
    "\n",
    "nltk.download('stopwords')\n",
    "nltk.download('wordnet')\n",
    "\n",
    "import re\n",
    "from nltk.corpus import stopwords\n",
    "from nltk.stem.wordnet import WordNetLemmatizer\n",
    "from nltk.stem.snowball import SnowballStemmer \n",
    "\n",
    "import keras\n",
    "from keras.layers import Dense, concatenate, Input, Dropout, Embedding, Flatten, Bidirectional, GRU, Conv1D, MaxPooling1D, Lambda\n",
    "from keras.models import Model, model_from_json\n",
    "from keras.callbacks import EarlyStopping, ModelCheckpoint\n",
    "\n",
    "import tensorflow as tf\n",
    "import tensorflow_hub as hub\n",
    "\n",
    "module_url = \"https://tfhub.dev/google/universal-sentence-encoder-large/2\"\n",
    "# Import the Universal Sentence Encoder's TF Hub module\n",
    "embed = hub.Module(module_url)\n",
    "\n",
    "import matplotlib.pyplot as plt"
   ]
  },
  {
   "cell_type": "code",
   "execution_count": 5,
   "metadata": {
    "colab": {
     "autoexec": {
      "startup": false,
      "wait_interval": 0
     }
    },
    "colab_type": "code",
    "id": "IaOt20--iRlQ"
   },
   "outputs": [],
   "source": [
    "def load_data():\n",
    "    \"\"\"\n",
    "    Return pandas dataframe data_train: training data (features + labels)\n",
    "    Return pandas dataframe data_test: test data (only features)\n",
    "    \n",
    "    Required Libraries: zipfile, pandas\n",
    "    \"\"\"\n",
    "    \n",
    "    # Load zipped folder with data files\n",
    "    resource_archive = zipfile.ZipFile('data/resources.zip', 'r')\n",
    "\n",
    "    # Load testing data\n",
    "    data_test = pd.read_csv(resource_archive.open('TestData.csv'), \n",
    "                            dtype={\n",
    "                                'Object_Description': str, \n",
    "                                'Program_Description': str, \n",
    "                                'SubFund_Description': str, \n",
    "                                'Job_Title_Description': str, \n",
    "                                'Facility_or_Department': str,\n",
    "                                'Sub_Object_Description': str, \n",
    "                                'Location_Description': str, \n",
    "                                'FTE': float,\n",
    "                                'Function_Description': str, \n",
    "                                'Position_Extra': str, \n",
    "                                'Text_4': str, \n",
    "                                'Total': float, \n",
    "                                'Text_2': str,\n",
    "                                'Text_3': str, \n",
    "                                'Fund_Description': str, \n",
    "                                'Text_1': str\n",
    "                            },\n",
    "                            index_col=0)\n",
    "\n",
    "    # Load training data\n",
    "    data_train = pd.read_csv(resource_archive.open('TrainingData.csv'), \n",
    "                            dtype={\n",
    "                                'Object_Description': str, \n",
    "                                'Program_Description': str, \n",
    "                                'SubFund_Description': str, \n",
    "                                'Job_Title_Description': str, \n",
    "                                'Facility_or_Department': str,\n",
    "                                'Sub_Object_Description': str, \n",
    "                                'Location_Description': str, \n",
    "                                'FTE': float,\n",
    "                                'Function_Description': str, \n",
    "                                'Position_Extra': str, \n",
    "                                'Text_4': str, \n",
    "                                'Total': float, \n",
    "                                'Text_2': str,\n",
    "                                'Text_3': str, \n",
    "                                'Fund_Description': str, \n",
    "                                'Text_1': str,\n",
    "                                'Function': 'category',\n",
    "                                'Object_Type': 'category',\n",
    "                                'Operating_Status': 'category',\n",
    "                                'Position_Type': 'category',\n",
    "                                'Pre_K': 'category',\n",
    "                                'Reporting': 'category',\n",
    "                                'Sharing': 'category',\n",
    "                                'Student_Type': 'category',\n",
    "                                'Use': 'category',\n",
    "                            },\n",
    "                             index_col=0)\n",
    "    \n",
    "    return data_train, data_test"
   ]
  },
  {
   "cell_type": "code",
   "execution_count": 6,
   "metadata": {
    "colab": {
     "autoexec": {
      "startup": false,
      "wait_interval": 0
     },
     "base_uri": "https://localhost:8080/",
     "height": 51
    },
    "colab_type": "code",
    "executionInfo": {
     "elapsed": 3041,
     "status": "ok",
     "timestamp": 1533388364127,
     "user": {
      "displayName": "Albert Lee",
      "photoUrl": "//lh3.googleusercontent.com/-f0u8obCCk_w/AAAAAAAAAAI/AAAAAAAAAxs/83E22s4mtyM/s50-c-k-no/photo.jpg",
      "userId": "109969660738913262150"
     },
     "user_tz": 240
    },
    "id": "s4O_q-AJirvy",
    "outputId": "e88425e3-9c92-4749-e957-314e74cf02f3"
   },
   "outputs": [
    {
     "name": "stdout",
     "output_type": "stream",
     "text": [
      "data_train shape: (400277, 25)\n",
      "data_test shape: (50064, 16)\n"
     ]
    }
   ],
   "source": [
    "# Load Data\n",
    "data_train, data_test = load_data()\n",
    "print('data_train shape:', data_train.shape)\n",
    "print('data_test shape:', data_test.shape)"
   ]
  },
  {
   "cell_type": "code",
   "execution_count": 7,
   "metadata": {
    "colab": {
     "autoexec": {
      "startup": false,
      "wait_interval": 0
     }
    },
    "colab_type": "code",
    "id": "aaMvEQaZivGl"
   },
   "outputs": [],
   "source": [
    "def load_features(data_train, data_test):\n",
    "    \"\"\"\n",
    "    Return pandas dataframe data_features: data in feature columns of data_train and data_test\n",
    "    \n",
    "    Param pandas dataframe data_train: training data (features + labels)\n",
    "    Param pandas dataframe data_test: test data (only features)\n",
    "    \n",
    "    Required Libraries: pandas\n",
    "    \"\"\"\n",
    "    \n",
    "    feature_columns = data_test.columns # data_test only contains features\n",
    "    \n",
    "    data_features = pd.concat([data_train[feature_columns], data_test])\n",
    "    \n",
    "    return data_features"
   ]
  },
  {
   "cell_type": "code",
   "execution_count": 8,
   "metadata": {
    "colab": {
     "autoexec": {
      "startup": false,
      "wait_interval": 0
     },
     "base_uri": "https://localhost:8080/",
     "height": 34
    },
    "colab_type": "code",
    "executionInfo": {
     "elapsed": 543,
     "status": "ok",
     "timestamp": 1533388365009,
     "user": {
      "displayName": "Albert Lee",
      "photoUrl": "//lh3.googleusercontent.com/-f0u8obCCk_w/AAAAAAAAAAI/AAAAAAAAAxs/83E22s4mtyM/s50-c-k-no/photo.jpg",
      "userId": "109969660738913262150"
     },
     "user_tz": 240
    },
    "id": "0veNH0MTizav",
    "outputId": "366ef012-a310-4ee5-8631-ebba585e8b6a"
   },
   "outputs": [
    {
     "name": "stdout",
     "output_type": "stream",
     "text": [
      "data_features shape: (450341, 16)\n"
     ]
    }
   ],
   "source": [
    "# Load Features\n",
    "data_features = load_features(data_train, data_test)\n",
    "print('data_features shape:', data_features.shape)"
   ]
  },
  {
   "cell_type": "code",
   "execution_count": 9,
   "metadata": {
    "colab": {
     "autoexec": {
      "startup": false,
      "wait_interval": 0
     },
     "base_uri": "https://localhost:8080/",
     "height": 324,
     "resources": {
      "http://localhost:8080/nbextensions/google.colab/files.js": {
       "data": "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",
       "headers": [
        [
         "content-type",
         "application/javascript"
        ]
       ],
       "ok": true,
       "status": 200,
       "status_text": ""
      }
     }
    },
    "colab_type": "code",
    "executionInfo": {
     "elapsed": 315069,
     "status": "ok",
     "timestamp": 1533388712336,
     "user": {
      "displayName": "Albert Lee",
      "photoUrl": "//lh3.googleusercontent.com/-f0u8obCCk_w/AAAAAAAAAAI/AAAAAAAAAxs/83E22s4mtyM/s50-c-k-no/photo.jpg",
      "userId": "109969660738913262150"
     },
     "user_tz": 240
    },
    "id": "R8RriV9EMuMm",
    "outputId": "7ca56f16-e899-4b0c-c50f-1d7d2d0e657f"
   },
   "outputs": [
    {
     "name": "stdout",
     "output_type": "stream",
     "text": [
      "X_numeric shape: (400277, 4)\n",
      "X_numeric_test shape: (50064, 4)\n",
      "X_text shape: (398403, 1)\n",
      "X_text_test shape: (49948, 1)\n",
      "y shape: (400277, 104)\n"
     ]
    }
   ],
   "source": [
    "label = ['Function',\n",
    "         'Object_Type',\n",
    "         'Operating_Status',\n",
    "         'Position_Type',\n",
    "         'Pre_K',\n",
    "         'Reporting',\n",
    "         'Sharing',\n",
    "         'Student_Type',\n",
    "         'Use']\n",
    "y = pd.get_dummies(data_train[label]).values.astype('float64')\n",
    "\n",
    "X_numeric = pd.read_csv('outputs/use_model/X_numeric.csv', header=None).values\n",
    "X_numeric_test = pd.read_csv('outputs/use_model/X_numeric_test.csv', header=None).values\n",
    "X_text = pd.read_csv('outputs/use_model/X_text.csv', header=None).values\n",
    "X_text_test = pd.read_csv('outputs/use_model/X_text_test.csv', header=None).values\n",
    "\n",
    "print('X_numeric shape:', X_numeric.shape)\n",
    "print('X_numeric_test shape:', X_numeric_test.shape)\n",
    "print('X_text shape:', X_text.shape)\n",
    "print('X_text_test shape:', X_text_test.shape)\n",
    "print('y shape:', y.shape)"
   ]
  },
  {
   "cell_type": "code",
   "execution_count": 10,
   "metadata": {},
   "outputs": [],
   "source": [
    "def sentence_to_embedding(X_text):\n",
    "    # Compute a representation for each message, showing various lengths supported.\n",
    "    X_text = [text[0] for text in X_text]\n",
    "    # Reduce logging output.\n",
    "    tf.logging.set_verbosity(tf.logging.ERROR)\n",
    "    \n",
    "    with tf.Session() as session:\n",
    "        session.run([tf.global_variables_initializer(), tf.tables_initializer()])\n",
    "        X_text_embeddings = session.run(embed(X_text))\n",
    "    return(X_text_embeddings)"
   ]
  },
  {
   "cell_type": "code",
   "execution_count": 11,
   "metadata": {},
   "outputs": [],
   "source": [
    "X_text_test_embedding = sentence_to_embedding(X_text_test[:5])"
   ]
  },
  {
   "cell_type": "code",
   "execution_count": 12,
   "metadata": {},
   "outputs": [
    {
     "data": {
      "text/plain": [
       "(5, 512)"
      ]
     },
     "execution_count": 12,
     "metadata": {},
     "output_type": "execute_result"
    }
   ],
   "source": [
    "X_text_test_embedding.shape"
   ]
  },
  {
   "cell_type": "code",
   "execution_count": null,
   "metadata": {},
   "outputs": [],
   "source": []
  },
  {
   "cell_type": "code",
   "execution_count": 12,
   "metadata": {},
   "outputs": [
    {
     "name": "stdout",
     "output_type": "stream",
     "text": [
      "Message: Elephant\n",
      "Embedding size: 512\n",
      "Embedding: [0.07817806303501129, 0.016053786501288414, 0.010111941024661064, ...]\n",
      "\n",
      "Message: I am a sentence for which I would like to get its embedding.\n",
      "Embedding size: 512\n",
      "Embedding: [0.048935841768980026, -0.061583418399095535, 0.0032471357844769955, ...]\n",
      "\n",
      "Message: Universal Sentence Encoder embeddings also support short paragraphs. There is no hard limit on how long the paragraph is. Roughly, the longer the more 'diluted' the embedding will be.\n",
      "Embedding size: 512\n",
      "Embedding: [-0.00357084721326828, -0.03505905717611313, -0.009133106097579002, ...]\n",
      "\n"
     ]
    }
   ],
   "source": [
    "word = \"Elephant\"\n",
    "sentence = \"I am a sentence for which I would like to get its embedding.\"\n",
    "paragraph = (\n",
    "    \"Universal Sentence Encoder embeddings also support short paragraphs. \"\n",
    "    \"There is no hard limit on how long the paragraph is. Roughly, the longer \"\n",
    "    \"the more 'diluted' the embedding will be.\")\n",
    "messages = [word, sentence, paragraph]\n",
    "\n",
    "# Reduce logging output.\n",
    "tf.logging.set_verbosity(tf.logging.ERROR)\n",
    "\n",
    "with tf.Session() as session:\n",
    "  session.run([tf.global_variables_initializer(), tf.tables_initializer()])\n",
    "  message_embeddings = session.run(embed(messages))\n",
    "\n",
    "  for i, message_embedding in enumerate(np.array(message_embeddings).tolist()):\n",
    "    print(\"Message: {}\".format(messages[i]))\n",
    "    print(\"Embedding size: {}\".format(len(message_embedding)))\n",
    "    message_embedding_snippet = \", \".join(\n",
    "        (str(x) for x in message_embedding[:3]))\n",
    "    print(\"Embedding: [{}, ...]\\n\".format(message_embedding_snippet))"
   ]
  },
  {
   "cell_type": "code",
   "execution_count": 17,
   "metadata": {},
   "outputs": [
    {
     "name": "stdout",
     "output_type": "stream",
     "text": [
      "contractor service building improvement service building fund blank rgn gob undesignated bond expenditure regular building improvement service contractor service building improvement service building fund blank rgn gob undesignated bond expenditure regular building improvement service\n"
     ]
    }
   ],
   "source": [
    "for i in X_text[1]:\n",
    "    print(i)"
   ]
  },
  {
   "cell_type": "code",
   "execution_count": 41,
   "metadata": {
    "colab": {
     "autoexec": {
      "startup": false,
      "wait_interval": 0
     }
    },
    "colab_type": "code",
    "id": "FiqgQCnLjiul"
   },
   "outputs": [],
   "source": [
    "# https://www.dlology.com/blog/keras-meets-universal-sentence-encoder-transfer-learning-for-text-data/\n",
    "def UniversalEmbedding(x):\n",
    "    return embed(tf.squeeze(tf.cast(x, tf.string)), signature=\"default\", as_dict=True)[\"default\"]\n",
    "\n",
    "def build_network(X_numeric, X_text, X_numeric_test, X_text_test, y):\n",
    "    \"\"\"\n",
    "    Return compiled keras-model model\n",
    "    \n",
    "    param numpy array X: feature matrix for classification\n",
    "    param numpy array y: labels matrix for classification\n",
    "    \n",
    "    Required Libraries: keras\n",
    "    \"\"\"\n",
    "    \n",
    "    dropout_value = 0.5\n",
    "    recurrent_dropout_value = 0.5\n",
    "    embedding_vector_length = 512\n",
    "    kernel_size_value = 5\n",
    "    padding_value = 'same'\n",
    "    stride_value = 2\n",
    "    pool_size_value = 2\n",
    "    \n",
    "    numeric_input = Input(shape=(X_numeric.shape[1],), name='numeric_input') \n",
    "    text_input = Input(shape=(1,), dtype=tf.string, name='text_input')\n",
    "    \n",
    "    # Function\n",
    "    word_embedding_function = Lambda(UniversalEmbedding, output_shape=(embedding_vector_length, ))(text_input)\n",
    "    word_embedding_function = Dropout(dropout_value)(word_embedding_function)\n",
    "    text_function_hidden_layer_1 = Dense(200, activation='relu')(word_embedding_function)\n",
    "    text_function_hidden_layer_1 = Dropout(dropout_value)(text_function_hidden_layer_1)\n",
    "    text_function_hidden_layer_2 = Dense(100, activation='relu')(text_function_hidden_layer_1)\n",
    "    text_function_hidden_layer_2 = Dropout(dropout_value)(text_function_hidden_layer_2)\n",
    "    text_function_hidden_layer_3 = Dense(50, activation='relu')(text_function_hidden_layer_2)\n",
    "    text_function_hidden_layer_3 = Dropout(dropout_value)(text_function_hidden_layer_3)\n",
    "    numeric_function_hidden_layer_1 = Dense(4, activation='relu')(numeric_input)\n",
    "    numeric_function_hidden_layer_1 = Dropout(dropout_value)(numeric_function_hidden_layer_1)\n",
    "    combined_function_layer = concatenate([numeric_function_hidden_layer_1, text_function_hidden_layer_2])\n",
    "    function_output_layer = Dense(37, activation='softmax')(combined_function_layer)\n",
    "    \n",
    "    # Object_Type\n",
    "    word_embedding_object_type = Lambda(UniversalEmbedding, output_shape=(embedding_vector_length,))(text_input)\n",
    "    word_embedding_object_type = Dropout(dropout_value)(word_embedding_object_type)\n",
    "    text_object_type_hidden_layer_1 = Dense(200, activation='relu')(word_embedding_object_type)\n",
    "    text_object_type_hidden_layer_1 = Dropout(dropout_value)(text_object_type_hidden_layer_1)\n",
    "    text_object_type_hidden_layer_2 = Dense(100, activation='relu')(text_object_type_hidden_layer_1)\n",
    "    text_object_type_hidden_layer_2 = Dropout(dropout_value)(text_object_type_hidden_layer_2)\n",
    "    text_object_type_hidden_layer_3 = Dense(50, activation='relu')(text_object_type_hidden_layer_2)\n",
    "    text_object_type_hidden_layer_3 = Dropout(dropout_value)(text_object_type_hidden_layer_3)\n",
    "    text_object_type_hidden_layer_4 = Dense(25, activation='relu')(text_object_type_hidden_layer_3)\n",
    "    text_object_type_hidden_layer_4 = Dropout(dropout_value)(text_object_type_hidden_layer_4)\n",
    "    numeric_object_type_hidden_layer_1 = Dense(4, activation='relu')(numeric_input)\n",
    "    numeric_object_type_hidden_layer_1 = Dropout(dropout_value)(numeric_object_type_hidden_layer_1)\n",
    "    combined_object_type_layer = concatenate([numeric_object_type_hidden_layer_1, text_object_type_hidden_layer_4])\n",
    "    object_type_output_layer = Dense(11, activation='softmax')(combined_object_type_layer)\n",
    "    \n",
    "    # Operating_Status\n",
    "    word_embedding_operating_status = Lambda(UniversalEmbedding, output_shape=(embedding_vector_length,))(text_input)\n",
    "    word_embedding_operating_status = Dropout(dropout_value)(word_embedding_operating_status)\n",
    "    text_operating_status_hidden_layer_1 = Dense(200, activation='relu')(word_embedding_operating_status)\n",
    "    text_operating_status_hidden_layer_1 = Dropout(dropout_value)(text_operating_status_hidden_layer_1)\n",
    "    text_operating_status_hidden_layer_2 = Dense(100, activation='relu')(text_operating_status_hidden_layer_1)\n",
    "    text_operating_status_hidden_layer_2 = Dropout(dropout_value)(text_operating_status_hidden_layer_2)\n",
    "    text_operating_status_hidden_layer_3 = Dense(50, activation='relu')(text_operating_status_hidden_layer_2)\n",
    "    text_operating_status_hidden_layer_3 = Dropout(dropout_value)(text_operating_status_hidden_layer_3)\n",
    "    text_operating_status_hidden_layer_4 = Dense(25, activation='relu')(text_operating_status_hidden_layer_3)\n",
    "    text_operating_status_hidden_layer_4 = Dropout(dropout_value)(text_operating_status_hidden_layer_4)\n",
    "    text_operating_status_hidden_layer_5 = Dense(12, activation='relu')(text_operating_status_hidden_layer_4)\n",
    "    text_operating_status_hidden_layer_5 = Dropout(dropout_value)(text_operating_status_hidden_layer_5)\n",
    "    text_operating_status_hidden_layer_6 = Dense(6, activation='relu')(text_operating_status_hidden_layer_5)\n",
    "    text_operating_status_hidden_layer_6 = Dropout(dropout_value)(text_operating_status_hidden_layer_6)\n",
    "    numeric_operating_status_hidden_layer_1 = Dense(4, activation='relu')(numeric_input)\n",
    "    numeric_operating_status_hidden_layer_1 = Dropout(dropout_value)(numeric_operating_status_hidden_layer_1)\n",
    "    combined_operating_status_layer = concatenate([numeric_operating_status_hidden_layer_1, text_operating_status_hidden_layer_6])\n",
    "    operating_status_output_layer = Dense(3, activation='softmax')(combined_operating_status_layer)\n",
    "    \n",
    "    # Position_Type\n",
    "    word_embedding_position_type = Lambda(UniversalEmbedding, output_shape=(embedding_vector_length,))(text_input)\n",
    "    word_embedding_position_type = Dropout(dropout_value)(word_embedding_position_type)\n",
    "    text_position_type_hidden_layer_1 = Dense(200, activation='relu')(word_embedding_operating_status)\n",
    "    text_position_type_hidden_layer_1 = Dropout(dropout_value)(text_position_type_hidden_layer_1)\n",
    "    text_position_type_hidden_layer_2 = Dense(100, activation='relu')(text_position_type_hidden_layer_1)\n",
    "    text_position_type_hidden_layer_2 = Dropout(dropout_value)(text_position_type_hidden_layer_2)\n",
    "    text_position_type_hidden_layer_3 = Dense(50, activation='relu')(text_position_type_hidden_layer_2)\n",
    "    text_position_type_hidden_layer_3 = Dropout(dropout_value)(text_position_type_hidden_layer_3)\n",
    "    numeric_position_type_hidden_layer_1 = Dense(4, activation='relu')(numeric_input)\n",
    "    numeric_position_type_hidden_layer_1 = Dropout(dropout_value)(numeric_position_type_hidden_layer_1)\n",
    "    combined_position_type_layer = concatenate([numeric_position_type_hidden_layer_1, text_position_type_hidden_layer_3])\n",
    "    position_type_output_layer = Dense(25, activation='softmax')(combined_position_type_layer)\n",
    "    \n",
    "    # Pre_K\n",
    "    word_embedding_pre_k = Lambda(UniversalEmbedding, output_shape=(embedding_vector_length,))(text_input)\n",
    "    word_embedding_pre_k = Dropout(dropout_value)(word_embedding_pre_k)\n",
    "    text_pre_k_hidden_layer_1 = Dense(200, activation='relu')(word_embedding_pre_k)\n",
    "    text_pre_k_hidden_layer_1 = Dropout(dropout_value)(text_pre_k_hidden_layer_1)\n",
    "    text_pre_k_hidden_layer_2 = Dense(100, activation='relu')(text_pre_k_hidden_layer_1)\n",
    "    text_pre_k_hidden_layer_2 = Dropout(dropout_value)(text_pre_k_hidden_layer_2)\n",
    "    text_pre_k_hidden_layer_3 = Dense(50, activation='relu')(text_pre_k_hidden_layer_2)\n",
    "    text_pre_k_hidden_layer_3 = Dropout(dropout_value)(text_pre_k_hidden_layer_3)\n",
    "    text_pre_k_hidden_layer_4 = Dense(25, activation='relu')(text_pre_k_hidden_layer_3)\n",
    "    text_pre_k_hidden_layer_4 = Dropout(dropout_value)(text_pre_k_hidden_layer_4)\n",
    "    text_pre_k_hidden_layer_5 = Dense(12, activation='relu')(text_pre_k_hidden_layer_4)\n",
    "    text_pre_k_hidden_layer_5 = Dropout(dropout_value)(text_pre_k_hidden_layer_5)\n",
    "    text_pre_k_hidden_layer_6 = Dense(6, activation='relu')(text_pre_k_hidden_layer_5)\n",
    "    text_pre_k_hidden_layer_6 = Dropout(dropout_value)(text_pre_k_hidden_layer_6)\n",
    "    numeric_pre_k_hidden_layer_1 = Dense(4, activation='relu')(numeric_input)\n",
    "    numeric_pre_k_hidden_layer_1 = Dropout(dropout_value)(numeric_pre_k_hidden_layer_1)\n",
    "    combined_pre_k_layer = concatenate([numeric_pre_k_hidden_layer_1, text_pre_k_hidden_layer_6])\n",
    "    pre_k_output_layer = Dense(3, activation='softmax')(combined_pre_k_layer)\n",
    "    \n",
    "    # Reporting\n",
    "    word_embedding_reporting = Lambda(UniversalEmbedding, output_shape=(embedding_vector_length,))(text_input)\n",
    "    word_embedding_reporting = Dropout(dropout_value)(word_embedding_reporting)\n",
    "    text_reporting_hidden_layer_1 = Dense(200, activation='relu')(word_embedding_reporting)\n",
    "    text_reporting_hidden_layer_1 = Dropout(dropout_value)(text_reporting_hidden_layer_1)\n",
    "    text_reporting_hidden_layer_2 = Dense(100, activation='relu')(text_reporting_hidden_layer_1)\n",
    "    text_reporting_hidden_layer_2 = Dropout(dropout_value)(text_reporting_hidden_layer_2)\n",
    "    text_reporting_hidden_layer_3 = Dense(50, activation='relu')(text_reporting_hidden_layer_2)\n",
    "    text_reporting_hidden_layer_3 = Dropout(dropout_value)(text_reporting_hidden_layer_3)\n",
    "    text_reporting_hidden_layer_4 = Dense(25, activation='relu')(text_reporting_hidden_layer_3)\n",
    "    text_reporting_hidden_layer_4 = Dropout(dropout_value)(text_reporting_hidden_layer_4)\n",
    "    text_reporting_hidden_layer_5 = Dense(12, activation='relu')(text_reporting_hidden_layer_4)\n",
    "    text_reporting_hidden_layer_5 = Dropout(dropout_value)(text_reporting_hidden_layer_5)\n",
    "    text_reporting_hidden_layer_6 = Dense(6, activation='relu')(text_reporting_hidden_layer_5)\n",
    "    text_reporting_hidden_layer_6 = Dropout(dropout_value)(text_reporting_hidden_layer_6)\n",
    "    numeric_reporting_hidden_layer_1 = Dense(4, activation='relu')(numeric_input)\n",
    "    numeric_reporting_hidden_layer_1 = Dropout(dropout_value)(numeric_reporting_hidden_layer_1)\n",
    "    combined_reporting_layer = concatenate([numeric_reporting_hidden_layer_1, text_reporting_hidden_layer_6])\n",
    "    reporting_output_layer = Dense(3, activation='softmax')(combined_reporting_layer)\n",
    "    \n",
    "    # Sharing\n",
    "    word_embedding_sharing = Lambda(UniversalEmbedding, output_shape=(embedding_vector_length,))(text_input)\n",
    "    word_embedding_sharing = Dropout(dropout_value)(word_embedding_sharing)\n",
    "    text_sharing_hidden_layer_1 = Dense(200, activation='relu')(word_embedding_sharing)\n",
    "    text_sharing_hidden_layer_1 = Dropout(dropout_value)(text_sharing_hidden_layer_1)\n",
    "    text_sharing_hidden_layer_2 = Dense(100, activation='relu')(text_sharing_hidden_layer_1)\n",
    "    text_sharing_hidden_layer_2 = Dropout(dropout_value)(text_sharing_hidden_layer_2)\n",
    "    text_sharing_hidden_layer_3 = Dense(50, activation='relu')(text_sharing_hidden_layer_2)\n",
    "    text_sharing_hidden_layer_3 = Dropout(dropout_value)(text_sharing_hidden_layer_3)\n",
    "    text_sharing_hidden_layer_4 = Dense(25, activation='relu')(text_sharing_hidden_layer_3)\n",
    "    text_sharing_hidden_layer_4 = Dropout(dropout_value)(text_sharing_hidden_layer_4)\n",
    "    text_sharing_hidden_layer_5 = Dense(12, activation='relu')(text_sharing_hidden_layer_4)\n",
    "    text_sharing_hidden_layer_5 = Dropout(dropout_value)(text_sharing_hidden_layer_5)\n",
    "    numeric_sharing_hidden_layer_1 = Dense(4, activation='relu')(numeric_input)\n",
    "    numeric_sharing_hidden_layer_1 = Dropout(dropout_value)(numeric_sharing_hidden_layer_1)\n",
    "    combined_sharing_layer = concatenate([numeric_sharing_hidden_layer_1, text_sharing_hidden_layer_5])\n",
    "    sharing_output_layer = Dense(5, activation='softmax')(combined_sharing_layer)\n",
    "    \n",
    "    # Student_Type\n",
    "    word_embedding_student_type = Lambda(UniversalEmbedding, output_shape=(embedding_vector_length,))(text_input)\n",
    "    word_embedding_student_type = Dropout(dropout_value)(word_embedding_student_type)\n",
    "    text_student_type_hidden_layer_1 = Dense(200, activation='relu')(word_embedding_student_type)\n",
    "    text_student_type_hidden_layer_1 = Dropout(dropout_value)(text_student_type_hidden_layer_1)\n",
    "    text_student_type_hidden_layer_2 = Dense(100, activation='relu')(text_student_type_hidden_layer_1)\n",
    "    text_student_type_hidden_layer_2 = Dropout(dropout_value)(text_student_type_hidden_layer_2)\n",
    "    text_student_type_hidden_layer_3 = Dense(50, activation='relu')(text_student_type_hidden_layer_2)\n",
    "    text_student_type_hidden_layer_3 = Dropout(dropout_value)(text_student_type_hidden_layer_3)\n",
    "    text_student_type_hidden_layer_4 = Dense(25, activation='relu')(text_student_type_hidden_layer_3)\n",
    "    text_student_type_hidden_layer_4 = Dropout(dropout_value)(text_student_type_hidden_layer_4)\n",
    "    numeric_student_type_hidden_layer_1 = Dense(4, activation='relu')(numeric_input)\n",
    "    numeric_student_type_hidden_layer_1 = Dropout(dropout_value)(numeric_student_type_hidden_layer_1)\n",
    "    combined_student_type_layer = concatenate([numeric_student_type_hidden_layer_1, text_student_type_hidden_layer_4])\n",
    "    student_type_output_layer = Dense(9, activation='softmax')(combined_student_type_layer)\n",
    "    \n",
    "    # Use\n",
    "    word_embedding_use = Lambda(UniversalEmbedding, output_shape=(embedding_vector_length,))(text_input)\n",
    "    word_embedding_use = Dropout(dropout_value)(word_embedding_use)\n",
    "    text_use_hidden_layer_1 = Dense(200, activation='relu')(word_embedding_use)\n",
    "    text_use_hidden_layer_1 = Dropout(dropout_value)(text_use_hidden_layer_1)\n",
    "    text_use_hidden_layer_2 = Dense(100, activation='relu')(text_use_hidden_layer_1)\n",
    "    text_use_hidden_layer_2 = Dropout(dropout_value)(text_use_hidden_layer_2)\n",
    "    text_use_hidden_layer_3 = Dense(50, activation='relu')(text_use_hidden_layer_2)\n",
    "    text_use_hidden_layer_3 = Dropout(dropout_value)(text_use_hidden_layer_3)\n",
    "    text_use_hidden_layer_4 = Dense(25, activation='relu')(text_use_hidden_layer_3)\n",
    "    text_use_hidden_layer_4 = Dropout(dropout_value)(text_use_hidden_layer_4)\n",
    "    numeric_use_hidden_layer_1 = Dense(4, activation='relu')(numeric_input)\n",
    "    numeric_use_hidden_layer_1 = Dropout(dropout_value)(numeric_use_hidden_layer_1)\n",
    "    combined_use_layer = concatenate([numeric_use_hidden_layer_1, text_use_hidden_layer_4])\n",
    "    use_output_layer = Dense(8, activation='softmax')(combined_use_layer)\n",
    "    \n",
    "    # Output\n",
    "    combined_output_layer = concatenate([function_output_layer, \n",
    "                                         object_type_output_layer,\n",
    "                                         operating_status_output_layer,\n",
    "                                         position_type_output_layer,\n",
    "                                         pre_k_output_layer,\n",
    "                                         reporting_output_layer,\n",
    "                                         sharing_output_layer,\n",
    "                                         student_type_output_layer,\n",
    "                                         use_output_layer])\n",
    "    \n",
    "    model = Model(inputs=[numeric_input, text_input], outputs=[combined_output_layer])\n",
    "    \n",
    "    model.compile(optimizer='adam', loss='categorical_crossentropy', metrics=['accuracy'])\n",
    "    \n",
    "    return model"
   ]
  },
  {
   "cell_type": "code",
   "execution_count": null,
   "metadata": {},
   "outputs": [],
   "source": []
  },
  {
   "cell_type": "code",
   "execution_count": null,
   "metadata": {
    "colab": {
     "autoexec": {
      "startup": false,
      "wait_interval": 0
     },
     "base_uri": "https://localhost:8080/",
     "height": 6698
    },
    "colab_type": "code",
    "executionInfo": {
     "elapsed": 9629436,
     "status": "ok",
     "timestamp": 1533398381112,
     "user": {
      "displayName": "Albert Lee",
      "photoUrl": "//lh3.googleusercontent.com/-f0u8obCCk_w/AAAAAAAAAAI/AAAAAAAAAxs/83E22s4mtyM/s50-c-k-no/photo.jpg",
      "userId": "109969660738913262150"
     },
     "user_tz": 240
    },
    "id": "1wWQdejZlOPD",
    "outputId": "6f965b69-7213-4656-9ee9-f698f915c386"
   },
   "outputs": [
    {
     "name": "stdout",
     "output_type": "stream",
     "text": [
      "Train on 360249 samples, validate on 40028 samples\n",
      "Epoch 1/150\n"
     ]
    }
   ],
   "source": [
    "clf = build_network(X_numeric, X_text, X_numeric_test, X_text_test, y)\n",
    "# clf.load_weights('embedding_model.h5')\n",
    "\n",
    "early_stopping_monitor = EarlyStopping(patience=10)\n",
    "checkpointer = ModelCheckpoint(filepath=\"use_model.h5\", verbose=1, save_best_only=True)\n",
    "\n",
    "history_clf = clf.fit([X_numeric, X_text.astype(str)], y, epochs=150, batch_size=1024, validation_split=0.1, callbacks=[early_stopping_monitor, checkpointer])\n",
    "\n",
    "clf.save_weights(\"use_model.h5\")\n",
    "model_json = clf.to_json()\n",
    "with open(\"use_model.json\", \"w\") as json_file:\n",
    "    json_file.write(model_json)"
   ]
  },
  {
   "cell_type": "code",
   "execution_count": 10,
   "metadata": {
    "colab": {
     "autoexec": {
      "startup": false,
      "wait_interval": 0
     },
     "base_uri": "https://localhost:8080/",
     "height": 376
    },
    "colab_type": "code",
    "executionInfo": {
     "elapsed": 1745,
     "status": "ok",
     "timestamp": 1533398382974,
     "user": {
      "displayName": "Albert Lee",
      "photoUrl": "//lh3.googleusercontent.com/-f0u8obCCk_w/AAAAAAAAAAI/AAAAAAAAAxs/83E22s4mtyM/s50-c-k-no/photo.jpg",
      "userId": "109969660738913262150"
     },
     "user_tz": 240
    },
    "id": "eFYCkcxULI3U",
    "outputId": "85cd4264-036e-43b4-f97d-0b0d4d778063"
   },
   "outputs": [
    {
     "data": {
      "image/png": "[encoded data removed]",
      "text/plain": [
       "<matplotlib.figure.Figure at 0x7f849b519710>"
      ]
     },
     "metadata": {
      "tags": []
     },
     "output_type": "display_data"
    }
   ],
   "source": [
    "plt.plot(history_clf.history['loss'])\n",
    "plt.plot(history_clf.history['val_loss'])\n",
    "plt.title('model loss')\n",
    "plt.ylabel('loss')\n",
    "plt.xlabel('epoch')\n",
    "plt.legend(['train', 'test'], loc='upper left')\n",
    "plt.show()"
   ]
  },
  {
   "cell_type": "code",
   "execution_count": null,
   "metadata": {
    "colab": {
     "autoexec": {
      "startup": false,
      "wait_interval": 0
     }
    },
    "colab_type": "code",
    "id": "LQTaxv8Cl4zs"
   },
   "outputs": [],
   "source": [
    "predictions = clf.predict([X_numeric_test, X_text_test])"
   ]
  },
  {
   "cell_type": "code",
   "execution_count": null,
   "metadata": {
    "colab": {
     "autoexec": {
      "startup": false,
      "wait_interval": 0
     }
    },
    "colab_type": "code",
    "id": "oHKwxY6QLybH"
   },
   "outputs": [],
   "source": [
    "label = ['Function',\n",
    "         'Object_Type',\n",
    "         'Operating_Status',\n",
    "         'Position_Type',\n",
    "         'Pre_K',\n",
    "         'Reporting',\n",
    "         'Sharing',\n",
    "         'Student_Type',\n",
    "         'Use']\n",
    "\n",
    "submission_columns = pd.get_dummies(data_train[label], prefix_sep='__').columns\n",
    "submission = pd.DataFrame(predictions, columns=submission_columns, index=data_test.index)\n",
    "\n",
    "submission.to_csv('use_model.csv')"
   ]
  },
  {
   "cell_type": "code",
   "execution_count": null,
   "metadata": {
    "colab": {
     "autoexec": {
      "startup": false,
      "wait_interval": 0
     }
    },
    "colab_type": "code",
    "id": "Wy6YXYJgVVFs"
   },
   "outputs": [],
   "source": []
  }
 ],
 "metadata": {
  "accelerator": "GPU",
  "colab": {
   "collapsed_sections": [],
   "default_view": {},
   "name": "Copy of Untitled3.ipynb",
   "provenance": [
    {
     "file_id": "1q7pe5AeFmFhagdFQ2NBqbfEwRo4kl1Pp",
     "timestamp": 1533313246969
    }
   ],
   "version": "0.3.2",
   "views": {}
  },
  "kernelspec": {
   "display_name": "Python 3",
   "language": "python",
   "name": "python3"
  },
  "language_info": {
   "codemirror_mode": {
    "name": "ipython",
    "version": 3
   },
   "file_extension": ".py",
   "mimetype": "text/x-python",
   "name": "python",
   "nbconvert_exporter": "python",
   "pygments_lexer": "ipython3",
   "version": "3.6.5"
  }
 },
 "nbformat": 4,
 "nbformat_minor": 2
}
