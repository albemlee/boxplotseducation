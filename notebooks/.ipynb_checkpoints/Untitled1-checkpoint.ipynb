{
 "cells": [
  {
   "cell_type": "code",
   "execution_count": 1,
   "metadata": {},
   "outputs": [],
   "source": [
    "# Set Working Directory\n",
    "import os\n",
    "os.chdir('..')"
   ]
  },
  {
   "cell_type": "code",
   "execution_count": 12,
   "metadata": {},
   "outputs": [],
   "source": [
    "# Load Requirements\n",
    "import pandas as pd\n",
    "import  numpy as np\n",
    "\n",
    "import keras\n",
    "from keras.layers import Dense, concatenate, Input, Dropout\n",
    "from keras.models import Model\n",
    "from keras.callbacks import EarlyStopping\n",
    "\n",
    "from keras.models import model_from_json\n",
    "from keras.callbacks import ModelCheckpoint\n",
    "\n",
    "from helper import *"
   ]
  },
  {
   "cell_type": "code",
   "execution_count": 3,
   "metadata": {},
   "outputs": [
    {
     "name": "stdout",
     "output_type": "stream",
     "text": [
      "data_train shape: (400277, 25)\n",
      "data_test shape: (50064, 16)\n"
     ]
    }
   ],
   "source": [
    "# Load Data\n",
    "data_train, data_test = load_data()\n",
    "print('data_train shape:', data_train.shape)\n",
    "print('data_test shape:', data_test.shape)"
   ]
  },
  {
   "cell_type": "code",
   "execution_count": 29,
   "metadata": {},
   "outputs": [
    {
     "name": "stdout",
     "output_type": "stream",
     "text": [
      "y shape: (400277, 104)\n"
     ]
    }
   ],
   "source": [
    "label = ['Function',\n",
    "         'Object_Type',\n",
    "         'Operating_Status',\n",
    "         'Position_Type',\n",
    "         'Pre_K',\n",
    "         'Reporting',\n",
    "         'Sharing',\n",
    "         'Student_Type',\n",
    "         'Use']\n",
    "\n",
    "y = pd.get_dummies(data_train[label]).values.astype('float64')\n",
    "\n",
    "print('y shape:', y.shape)"
   ]
  },
  {
   "cell_type": "code",
   "execution_count": 8,
   "metadata": {},
   "outputs": [
    {
     "name": "stdout",
     "output_type": "stream",
     "text": [
      "X_numeric shape: (400277, 2)\n",
      "X_numeric_test shape: (50064, 2)\n",
      "X_text_sparse shape: (400277, 3363)\n",
      "X_text_test_sparse shape: (50064, 3363)\n",
      "y_sparse shape: (400277, 104)\n"
     ]
    }
   ],
   "source": [
    "X_numeric = pd.read_csv('X_numeric.csv', header=None).values\n",
    "X_numeric_test = pd.read_csv('X_numeric_test.csv', header=None).values\n",
    "X_text_sparse = sparse.load_npz('X_text_sparse.npz')\n",
    "X_text_test_sparse = sparse.load_npz('X_text_test_sparse.npz')\n",
    "\n",
    "\n",
    "print('X_numeric shape:', X_numeric.shape)\n",
    "print('X_numeric_test shape:', X_numeric_test.shape)\n",
    "print('X_text_sparse shape:', X_text_sparse.shape)\n",
    "print('X_text_test_sparse shape:', X_text_test_sparse.shape)\n",
    "print('y_sparse shape:', y.shape)"
   ]
  },
  {
   "cell_type": "code",
   "execution_count": 9,
   "metadata": {},
   "outputs": [],
   "source": [
    "def build_network(X_numeric, X_text, X_numeric_test, X_text_test, y):\n",
    "    \"\"\"\n",
    "    Return compiled keras-model model\n",
    "    \n",
    "    param numpy array X: feature matrix for classification\n",
    "    param numpy array y: labels matrix for classification\n",
    "    \n",
    "    Required Libraries: keras\n",
    "    \"\"\"\n",
    "    \n",
    "    numeric_input = Input(shape=(X_numeric.shape[1],) , name='numeric_input') \n",
    "    text_input = Input(shape=(X_text.shape[1],) , name='text_input')\n",
    "    \n",
    "    # Function\n",
    "    text_function_hidden_layer_1 = Dense(1600, activation='relu')(text_input)\n",
    "    text_function_hidden_layer_1 = Dropout(0.5)(text_function_hidden_layer_1)\n",
    "    text_function_hidden_layer_2 = Dense(800, activation='relu')(text_function_hidden_layer_1)\n",
    "    text_function_hidden_layer_2 = Dropout(0.5)(text_function_hidden_layer_2)\n",
    "    text_function_hidden_layer_3 = Dense(400, activation='relu')(text_function_hidden_layer_2)\n",
    "    text_function_hidden_layer_3 = Dropout(0.5)(text_function_hidden_layer_3)\n",
    "    text_function_hidden_layer_4 = Dense(200, activation='relu')(text_function_hidden_layer_3)\n",
    "    text_function_hidden_layer_4 = Dropout(0.5)(text_function_hidden_layer_4)\n",
    "    text_function_hidden_layer_5 = Dense(100, activation='relu')(text_function_hidden_layer_4)\n",
    "    text_function_hidden_layer_5 = Dropout(0.5)(text_function_hidden_layer_5)\n",
    "    text_function_hidden_layer_6 = Dense(50, activation='relu')(text_function_hidden_layer_5)\n",
    "    text_function_hidden_layer_6 = Dropout(0.5)(text_function_hidden_layer_6)\n",
    "    combined_function_layer = concatenate([numeric_input, text_function_hidden_layer_6])\n",
    "    function_output_layer = Dense(37, activation='softmax')(combined_function_layer)\n",
    "    \n",
    "    # Object_Type\n",
    "    text_object_type_hidden_layer_1 = Dense(1600, activation='relu')(text_input)\n",
    "    text_object_type_hidden_layer_1 = Dropout(0.5)(text_object_type_hidden_layer_1)\n",
    "    text_object_type_hidden_layer_2 = Dense(800, activation='relu')(text_object_type_hidden_layer_1)\n",
    "    text_object_type_hidden_layer_2 = Dropout(0.5)(text_object_type_hidden_layer_2)\n",
    "    text_object_type_hidden_layer_3 = Dense(400, activation='relu')(text_object_type_hidden_layer_2)\n",
    "    text_object_type_hidden_layer_3 = Dropout(0.5)(text_object_type_hidden_layer_3)\n",
    "    text_object_type_hidden_layer_4 = Dense(200, activation='relu')(text_object_type_hidden_layer_3)\n",
    "    text_object_type_hidden_layer_4 = Dropout(0.5)(text_object_type_hidden_layer_4)\n",
    "    text_object_type_hidden_layer_5 = Dense(100, activation='relu')(text_object_type_hidden_layer_4)\n",
    "    text_object_type_hidden_layer_5 = Dropout(0.5)(text_object_type_hidden_layer_5)\n",
    "    text_object_type_hidden_layer_6 = Dense(50, activation='relu')(text_object_type_hidden_layer_5)\n",
    "    text_object_type_hidden_layer_6 = Dropout(0.5)(text_object_type_hidden_layer_6)\n",
    "    text_object_type_hidden_layer_7 = Dense(25, activation='relu')(text_object_type_hidden_layer_6)\n",
    "    text_object_type_hidden_layer_7 = Dropout(0.5)(text_object_type_hidden_layer_7)\n",
    "    combined_object_type_layer = concatenate([numeric_input, text_object_type_hidden_layer_7])\n",
    "    object_type_output_layer = Dense(11, activation='softmax')(combined_object_type_layer)\n",
    "    \n",
    "    # Operating_Status\n",
    "    text_operating_status_hidden_layer_1 = Dense(1600, activation='relu')(text_input)\n",
    "    text_operating_status_hidden_layer_1 = Dropout(0.5)(text_operating_status_hidden_layer_1)\n",
    "    text_operating_status_hidden_layer_2 = Dense(800, activation='relu')(text_operating_status_hidden_layer_1)\n",
    "    text_operating_status_hidden_layer_2 = Dropout(0.5)(text_operating_status_hidden_layer_2)\n",
    "    text_operating_status_hidden_layer_3 = Dense(400, activation='relu')(text_operating_status_hidden_layer_2)\n",
    "    text_operating_status_hidden_layer_3 = Dropout(0.5)(text_operating_status_hidden_layer_3)\n",
    "    text_operating_status_hidden_layer_4 = Dense(200, activation='relu')(text_operating_status_hidden_layer_3)\n",
    "    text_operating_status_hidden_layer_4 = Dropout(0.5)(text_operating_status_hidden_layer_4)\n",
    "    text_operating_status_hidden_layer_5 = Dense(100, activation='relu')(text_operating_status_hidden_layer_4)\n",
    "    text_operating_status_hidden_layer_5 = Dropout(0.5)(text_operating_status_hidden_layer_5)\n",
    "    text_operating_status_hidden_layer_6 = Dense(50, activation='relu')(text_operating_status_hidden_layer_5)\n",
    "    text_operating_status_hidden_layer_6 = Dropout(0.5)(text_operating_status_hidden_layer_6)\n",
    "    text_operating_status_hidden_layer_7 = Dense(25, activation='relu')(text_operating_status_hidden_layer_6)\n",
    "    text_operating_status_hidden_layer_7 = Dropout(0.5)(text_operating_status_hidden_layer_7)\n",
    "    text_operating_status_hidden_layer_8 = Dense(10, activation='relu')(text_operating_status_hidden_layer_7)\n",
    "    text_operating_status_hidden_layer_8 = Dropout(0.5)(text_operating_status_hidden_layer_8)\n",
    "    combined_operating_status_layer = concatenate([numeric_input, text_operating_status_hidden_layer_8])\n",
    "    operating_status_output_layer = Dense(3, activation='softmax')(combined_operating_status_layer)\n",
    "    \n",
    "    # Position_Type\n",
    "    text_position_type_hidden_layer_1 = Dense(1600, activation='relu')(text_input)\n",
    "    text_position_type_hidden_layer_1 = Dropout(0.5)(text_position_type_hidden_layer_1)\n",
    "    text_position_type_hidden_layer_2 = Dense(800, activation='relu')(text_position_type_hidden_layer_1)\n",
    "    text_position_type_hidden_layer_2 = Dropout(0.5)(text_position_type_hidden_layer_2)\n",
    "    text_position_type_hidden_layer_3 = Dense(400, activation='relu')(text_position_type_hidden_layer_2)\n",
    "    text_position_type_hidden_layer_3 = Dropout(0.5)(text_position_type_hidden_layer_3)\n",
    "    text_position_type_hidden_layer_4 = Dense(200, activation='relu')(text_position_type_hidden_layer_3)\n",
    "    text_position_type_hidden_layer_4 = Dropout(0.5)(text_position_type_hidden_layer_4)\n",
    "    text_position_type_hidden_layer_5 = Dense(100, activation='relu')(text_position_type_hidden_layer_4)\n",
    "    text_position_type_hidden_layer_5 = Dropout(0.5)(text_position_type_hidden_layer_5)\n",
    "    text_position_type_hidden_layer_6 = Dense(50, activation='relu')(text_position_type_hidden_layer_5)\n",
    "    text_position_type_hidden_layer_6 = Dropout(0.5)(text_position_type_hidden_layer_6)\n",
    "    combined_position_type_layer = concatenate([numeric_input, text_position_type_hidden_layer_6])\n",
    "    position_type_output_layer = Dense(25, activation='softmax')(combined_position_type_layer)\n",
    "    \n",
    "    # Pre_K\n",
    "    text_pre_k_hidden_layer_1 = Dense(1600, activation='relu')(text_input)\n",
    "    text_pre_k_hidden_layer_1 = Dropout(0.5)(text_pre_k_hidden_layer_1)\n",
    "    text_pre_k_hidden_layer_2 = Dense(800, activation='relu')(text_pre_k_hidden_layer_1)\n",
    "    text_pre_k_hidden_layer_2 = Dropout(0.5)(text_pre_k_hidden_layer_2)\n",
    "    text_pre_k_hidden_layer_3 = Dense(400, activation='relu')(text_pre_k_hidden_layer_2)\n",
    "    text_pre_k_hidden_layer_3 = Dropout(0.5)(text_pre_k_hidden_layer_3)\n",
    "    text_pre_k_hidden_layer_4 = Dense(200, activation='relu')(text_pre_k_hidden_layer_3)\n",
    "    text_pre_k_hidden_layer_4 = Dropout(0.5)(text_pre_k_hidden_layer_4)\n",
    "    text_pre_k_hidden_layer_5 = Dense(100, activation='relu')(text_pre_k_hidden_layer_4)\n",
    "    text_pre_k_hidden_layer_5 = Dropout(0.5)(text_pre_k_hidden_layer_5)\n",
    "    text_pre_k_hidden_layer_6 = Dense(50, activation='relu')(text_pre_k_hidden_layer_5)\n",
    "    text_pre_k_hidden_layer_6 = Dropout(0.5)(text_pre_k_hidden_layer_6)\n",
    "    text_pre_k_hidden_layer_7 = Dense(25, activation='relu')(text_pre_k_hidden_layer_6)\n",
    "    text_pre_k_hidden_layer_7 = Dropout(0.5)(text_pre_k_hidden_layer_7)\n",
    "    text_pre_k_hidden_layer_8 = Dense(10, activation='relu')(text_pre_k_hidden_layer_7)\n",
    "    text_pre_k_hidden_layer_8 = Dropout(0.5)(text_pre_k_hidden_layer_8)\n",
    "    combined_pre_k_layer = concatenate([numeric_input, text_pre_k_hidden_layer_8])\n",
    "    pre_k_output_layer = Dense(3, activation='softmax')(combined_pre_k_layer)\n",
    "    \n",
    "    # Reporting\n",
    "    text_reporting_hidden_layer_1 = Dense(1600, activation='relu')(text_input)\n",
    "    text_reporting_hidden_layer_1 = Dropout(0.5)(text_reporting_hidden_layer_1)\n",
    "    text_reporting_hidden_layer_2 = Dense(800, activation='relu')(text_reporting_hidden_layer_1)\n",
    "    text_reporting_hidden_layer_2 = Dropout(0.5)(text_reporting_hidden_layer_2)\n",
    "    text_reporting_hidden_layer_3 = Dense(400, activation='relu')(text_reporting_hidden_layer_2)\n",
    "    text_reporting_hidden_layer_3 = Dropout(0.5)(text_reporting_hidden_layer_3)\n",
    "    text_reporting_hidden_layer_4 = Dense(200, activation='relu')(text_reporting_hidden_layer_3)\n",
    "    text_reporting_hidden_layer_4 = Dropout(0.5)(text_reporting_hidden_layer_4)\n",
    "    text_reporting_hidden_layer_5 = Dense(100, activation='relu')(text_reporting_hidden_layer_4)\n",
    "    text_reporting_hidden_layer_5 = Dropout(0.5)(text_reporting_hidden_layer_5)\n",
    "    text_reporting_hidden_layer_6 = Dense(50, activation='relu')(text_reporting_hidden_layer_5)\n",
    "    text_reporting_hidden_layer_6 = Dropout(0.5)(text_reporting_hidden_layer_6)\n",
    "    text_reporting_hidden_layer_7 = Dense(25, activation='relu')(text_reporting_hidden_layer_6)\n",
    "    text_reporting_hidden_layer_7 = Dropout(0.5)(text_reporting_hidden_layer_7)\n",
    "    text_reporting_hidden_layer_8 = Dense(10, activation='relu')(text_reporting_hidden_layer_7)\n",
    "    text_reporting_hidden_layer_8 = Dropout(0.5)(text_reporting_hidden_layer_8)\n",
    "    combined_reporting_layer = concatenate([numeric_input, text_reporting_hidden_layer_8])\n",
    "    reporting_output_layer = Dense(3, activation='softmax')(combined_reporting_layer)\n",
    "    \n",
    "    # Sharing\n",
    "    text_sharing_hidden_layer_1 = Dense(1600, activation='relu')(text_input)\n",
    "    text_sharing_hidden_layer_1 = Dropout(0.5)(text_sharing_hidden_layer_1)\n",
    "    text_sharing_hidden_layer_2 = Dense(800, activation='relu')(text_sharing_hidden_layer_1)\n",
    "    text_sharing_hidden_layer_2 = Dropout(0.5)(text_sharing_hidden_layer_2)\n",
    "    text_sharing_hidden_layer_3 = Dense(400, activation='relu')(text_sharing_hidden_layer_2)\n",
    "    text_sharing_hidden_layer_3 = Dropout(0.5)(text_sharing_hidden_layer_3)\n",
    "    text_sharing_hidden_layer_4 = Dense(200, activation='relu')(text_sharing_hidden_layer_3)\n",
    "    text_sharing_hidden_layer_4 = Dropout(0.5)(text_sharing_hidden_layer_4)\n",
    "    text_sharing_hidden_layer_5 = Dense(100, activation='relu')(text_sharing_hidden_layer_4)\n",
    "    text_sharing_hidden_layer_5 = Dropout(0.5)(text_sharing_hidden_layer_5)\n",
    "    text_sharing_hidden_layer_6 = Dense(50, activation='relu')(text_sharing_hidden_layer_5)\n",
    "    text_sharing_hidden_layer_6 = Dropout(0.5)(text_sharing_hidden_layer_6)\n",
    "    text_sharing_hidden_layer_7 = Dense(25, activation='relu')(text_sharing_hidden_layer_6)\n",
    "    text_sharing_hidden_layer_7 = Dropout(0.5)(text_sharing_hidden_layer_7)\n",
    "    text_sharing_hidden_layer_8 = Dense(10, activation='relu')(text_sharing_hidden_layer_7)\n",
    "    text_sharing_hidden_layer_8 = Dropout(0.5)(text_sharing_hidden_layer_8)\n",
    "    combined_sharing_layer = concatenate([numeric_input, text_sharing_hidden_layer_8])\n",
    "    sharing_output_layer = Dense(5, activation='softmax')(combined_sharing_layer)\n",
    "    \n",
    "    # Student_Type\n",
    "    text_student_type_hidden_layer_1 = Dense(1600, activation='relu')(text_input)\n",
    "    text_student_type_hidden_layer_1 = Dropout(0.5)(text_student_type_hidden_layer_1)\n",
    "    text_student_type_hidden_layer_2 = Dense(800, activation='relu')(text_student_type_hidden_layer_1)\n",
    "    text_student_type_hidden_layer_2 = Dropout(0.5)(text_student_type_hidden_layer_2)\n",
    "    text_student_type_hidden_layer_3 = Dense(400, activation='relu')(text_student_type_hidden_layer_2)\n",
    "    text_student_type_hidden_layer_3 = Dropout(0.5)(text_student_type_hidden_layer_3)\n",
    "    text_student_type_hidden_layer_4 = Dense(200, activation='relu')(text_student_type_hidden_layer_3)\n",
    "    text_student_type_hidden_layer_4 = Dropout(0.5)(text_student_type_hidden_layer_4)\n",
    "    text_student_type_hidden_layer_5 = Dense(100, activation='relu')(text_student_type_hidden_layer_4)\n",
    "    text_student_type_hidden_layer_5 = Dropout(0.5)(text_student_type_hidden_layer_5)\n",
    "    text_student_type_hidden_layer_6 = Dense(50, activation='relu')(text_student_type_hidden_layer_5)\n",
    "    text_student_type_hidden_layer_6 = Dropout(0.5)(text_student_type_hidden_layer_6)\n",
    "    text_student_type_hidden_layer_7 = Dense(25, activation='relu')(text_student_type_hidden_layer_6)\n",
    "    text_student_type_hidden_layer_7 = Dropout(0.5)(text_student_type_hidden_layer_7)\n",
    "    combined_student_type_layer = concatenate([numeric_input, text_student_type_hidden_layer_7])\n",
    "    student_type_output_layer = Dense(9, activation='softmax')(combined_student_type_layer)\n",
    "    \n",
    "    # Use\n",
    "    text_use_hidden_layer_1 = Dense(1600, activation='relu')(text_input)\n",
    "    text_use_hidden_layer_1 = Dropout(0.5)(text_use_hidden_layer_1)\n",
    "    text_use_hidden_layer_2 = Dense(800, activation='relu')(text_use_hidden_layer_1)\n",
    "    text_use_hidden_layer_2 = Dropout(0.5)(text_use_hidden_layer_2)\n",
    "    text_use_hidden_layer_3 = Dense(400, activation='relu')(text_use_hidden_layer_2)\n",
    "    text_use_hidden_layer_3 = Dropout(0.5)(text_use_hidden_layer_3)\n",
    "    text_use_hidden_layer_4 = Dense(200, activation='relu')(text_use_hidden_layer_3)\n",
    "    text_use_hidden_layer_4 = Dropout(0.5)(text_use_hidden_layer_4)\n",
    "    text_use_hidden_layer_5 = Dense(100, activation='relu')(text_use_hidden_layer_4)\n",
    "    text_use_hidden_layer_5 = Dropout(0.5)(text_use_hidden_layer_5)\n",
    "    text_use_hidden_layer_6 = Dense(50, activation='relu')(text_use_hidden_layer_5)\n",
    "    text_use_hidden_layer_6 = Dropout(0.5)(text_use_hidden_layer_6)\n",
    "    text_use_hidden_layer_7 = Dense(25, activation='relu')(text_use_hidden_layer_6)\n",
    "    text_use_hidden_layer_7 = Dropout(0.5)(text_use_hidden_layer_7)\n",
    "    combined_use_layer = concatenate([numeric_input, text_use_hidden_layer_7])\n",
    "    use_output_layer = Dense(8, activation='softmax')(combined_use_layer)\n",
    "    \n",
    "    # Output\n",
    "    combined_output_layer = concatenate([function_output_layer, \n",
    "                                         object_type_output_layer,\n",
    "                                         operating_status_output_layer,\n",
    "                                         position_type_output_layer,\n",
    "                                         pre_k_output_layer,\n",
    "                                         reporting_output_layer,\n",
    "                                         sharing_output_layer,\n",
    "                                         student_type_output_layer,\n",
    "                                         use_output_layer])\n",
    "    \n",
    "    model = Model(inputs=[numeric_input, text_input], outputs=[combined_output_layer])\n",
    "    \n",
    "    model.compile(optimizer='adam', loss='categorical_crossentropy', metrics=['accuracy'])\n",
    "    \n",
    "    return model"
   ]
  },
  {
   "cell_type": "code",
   "execution_count": null,
   "metadata": {},
   "outputs": [
    {
     "name": "stdout",
     "output_type": "stream",
     "text": [
      "Train on 280193 samples, validate on 120084 samples\n",
      "Epoch 1/30\n",
      " 20480/280193 [=>............................] - ETA: 15:31 - loss: 42.7519 - acc: 0.6553"
     ]
    }
   ],
   "source": [
    "clf = build_network(X_numeric, X_text_sparse, X_numeric_test, X_text_test_sparse, y)\n",
    "clf.load_weights('functional_model.h5')\n",
    "\n",
    "early_stopping_monitor = EarlyStopping(patience=3)\n",
    "checkpointer = ModelCheckpoint(filepath=\"functional_model.h5\", verbose=1, save_best_only=True)\n",
    "\n",
    "history = clf.fit([X_numeric, X_text_sparse], y, epochs=30, batch_size=1024, validation_split=0.3, callbacks=[early_stopping_monitor, checkpointer])\n",
    "\n",
    "clf.save_weights(\"functional_model.h5\")\n",
    "model_json = clf.to_json()\n",
    "with open(\"functional_model.json\", \"w\") as json_file:\n",
    "    json_file.write(model_json)"
   ]
  },
  {
   "cell_type": "code",
   "execution_count": 17,
   "metadata": {},
   "outputs": [],
   "source": [
    "predictions = clf.predict([X_numeric_test, X_text_test_sparse])\n",
    "\n",
    "label = ['Function',\n",
    "         'Object_Type',\n",
    "         'Operating_Status',\n",
    "         'Position_Type',\n",
    "         'Pre_K',\n",
    "         'Reporting',\n",
    "         'Sharing',\n",
    "         'Student_Type',\n",
    "         'Use']\n",
    "\n",
    "submission_columns = pd.get_dummies(data_train[label], prefix_sep='__').columns\n",
    "submission = pd.DataFrame(predictions, columns=submission_columns, index=data_test.index)\n",
    "\n",
    "submission.to_csv('functional_model.csv')"
   ]
  },
  {
   "cell_type": "code",
   "execution_count": 23,
   "metadata": {},
   "outputs": [],
   "source": [
    "import matplotlib.pyplot as plt"
   ]
  },
  {
   "cell_type": "code",
   "execution_count": 25,
   "metadata": {},
   "outputs": [
    {
     "ename": "TypeError",
     "evalue": "'History' object is not subscriptable",
     "output_type": "error",
     "traceback": [
      "\u001b[0;31m---------------------------------------------------------------------------\u001b[0m",
      "\u001b[0;31mTypeError\u001b[0m                                 Traceback (most recent call last)",
      "\u001b[0;32m<ipython-input-25-0ef25705f455>\u001b[0m in \u001b[0;36m<module>\u001b[0;34m()\u001b[0m\n\u001b[0;32m----> 1\u001b[0;31m \u001b[0mplt\u001b[0m\u001b[0;34m.\u001b[0m\u001b[0mplot\u001b[0m\u001b[0;34m(\u001b[0m\u001b[0mclf\u001b[0m\u001b[0;34m.\u001b[0m\u001b[0mhistory\u001b[0m\u001b[0;34m[\u001b[0m\u001b[0;34m'loss'\u001b[0m\u001b[0;34m]\u001b[0m\u001b[0;34m)\u001b[0m\u001b[0;34m\u001b[0m\u001b[0m\n\u001b[0m\u001b[1;32m      2\u001b[0m \u001b[0mplt\u001b[0m\u001b[0;34m.\u001b[0m\u001b[0mplot\u001b[0m\u001b[0;34m(\u001b[0m\u001b[0mclf\u001b[0m\u001b[0;34m.\u001b[0m\u001b[0mhistory\u001b[0m\u001b[0;34m[\u001b[0m\u001b[0;34m'val_loss'\u001b[0m\u001b[0;34m]\u001b[0m\u001b[0;34m)\u001b[0m\u001b[0;34m\u001b[0m\u001b[0m\n\u001b[1;32m      3\u001b[0m \u001b[0mplt\u001b[0m\u001b[0;34m.\u001b[0m\u001b[0mtitle\u001b[0m\u001b[0;34m(\u001b[0m\u001b[0;34m'model loss'\u001b[0m\u001b[0;34m)\u001b[0m\u001b[0;34m\u001b[0m\u001b[0m\n\u001b[1;32m      4\u001b[0m \u001b[0mplt\u001b[0m\u001b[0;34m.\u001b[0m\u001b[0mylabel\u001b[0m\u001b[0;34m(\u001b[0m\u001b[0;34m'loss'\u001b[0m\u001b[0;34m)\u001b[0m\u001b[0;34m\u001b[0m\u001b[0m\n\u001b[1;32m      5\u001b[0m \u001b[0mplt\u001b[0m\u001b[0;34m.\u001b[0m\u001b[0mxlabel\u001b[0m\u001b[0;34m(\u001b[0m\u001b[0;34m'epoch'\u001b[0m\u001b[0;34m)\u001b[0m\u001b[0;34m\u001b[0m\u001b[0m\n",
      "\u001b[0;31mTypeError\u001b[0m: 'History' object is not subscriptable"
     ]
    }
   ],
   "source": [
    "plt.plot(history.history['loss'])\n",
    "plt.plot(history.history['val_loss'])\n",
    "plt.title('model loss')\n",
    "plt.ylabel('loss')\n",
    "plt.xlabel('epoch')\n",
    "plt.legend(['train', 'test'], loc='upper left')\n",
    "plt.show()"
   ]
  },
  {
   "cell_type": "code",
   "execution_count": 28,
   "metadata": {},
   "outputs": [
    {
     "ename": "AttributeError",
     "evalue": "'History' object has no attribute 'keys'",
     "output_type": "error",
     "traceback": [
      "\u001b[0;31m---------------------------------------------------------------------------\u001b[0m",
      "\u001b[0;31mAttributeError\u001b[0m                            Traceback (most recent call last)",
      "\u001b[0;32m<ipython-input-28-1a903772e056>\u001b[0m in \u001b[0;36m<module>\u001b[0;34m()\u001b[0m\n\u001b[0;32m----> 1\u001b[0;31m \u001b[0mclf\u001b[0m\u001b[0;34m.\u001b[0m\u001b[0mhistory\u001b[0m\u001b[0;34m.\u001b[0m\u001b[0mkeys\u001b[0m\u001b[0;34m(\u001b[0m\u001b[0;34m)\u001b[0m\u001b[0;34m\u001b[0m\u001b[0m\n\u001b[0m",
      "\u001b[0;31mAttributeError\u001b[0m: 'History' object has no attribute 'keys'"
     ]
    }
   ],
   "source": [
    "clf.history.keys()"
   ]
  },
  {
   "cell_type": "code",
   "execution_count": null,
   "metadata": {},
   "outputs": [],
   "source": []
  }
 ],
 "metadata": {
  "kernelspec": {
   "display_name": "Python 3",
   "language": "python",
   "name": "python3"
  },
  "language_info": {
   "codemirror_mode": {
    "name": "ipython",
    "version": 3
   },
   "file_extension": ".py",
   "mimetype": "text/x-python",
   "name": "python",
   "nbconvert_exporter": "python",
   "pygments_lexer": "ipython3",
   "version": "3.6.6"
  }
 },
 "nbformat": 4,
 "nbformat_minor": 2
}
