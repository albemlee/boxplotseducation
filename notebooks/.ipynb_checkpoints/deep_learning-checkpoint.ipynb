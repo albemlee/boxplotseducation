{
 "cells": [
  {
   "cell_type": "code",
   "execution_count": 1,
   "metadata": {},
   "outputs": [],
   "source": [
    "# Set Working Directory\n",
    "import os\n",
    "os.chdir('..')"
   ]
  },
  {
   "cell_type": "code",
   "execution_count": 2,
   "metadata": {},
   "outputs": [
    {
     "name": "stderr",
     "output_type": "stream",
     "text": [
      "Using TensorFlow backend.\n"
     ]
    }
   ],
   "source": [
    "# Load Requirements\n",
    "import pandas as pd\n",
    "import  numpy as np\n",
    "from sklearn.feature_extraction.text import CountVectorizer\n",
    "from sklearn.preprocessing import Imputer\n",
    "from sklearn.model_selection import train_test_split\n",
    "\n",
    "import keras\n",
    "from keras.layers import Dense\n",
    "from keras.models import Sequential\n",
    "from keras.callbacks import EarlyStopping\n",
    "\n",
    "from keras.models import model_from_json\n",
    "from keras.callbacks import ModelCheckpoint\n",
    "\n",
    "\n",
    "from helper import *"
   ]
  },
  {
   "cell_type": "code",
   "execution_count": 3,
   "metadata": {},
   "outputs": [
    {
     "name": "stdout",
     "output_type": "stream",
     "text": [
      "data_train shape: (400277, 25)\n",
      "data_test shape: (50064, 16)\n"
     ]
    }
   ],
   "source": [
    "# Load Data\n",
    "data_train, data_test = load_data()\n",
    "print('data_train shape:', data_train.shape)\n",
    "print('data_test shape:', data_test.shape)"
   ]
  },
  {
   "cell_type": "code",
   "execution_count": 4,
   "metadata": {},
   "outputs": [
    {
     "name": "stdout",
     "output_type": "stream",
     "text": [
      "data_features shape: (450341, 16)\n"
     ]
    }
   ],
   "source": [
    "# Load Features\n",
    "data_features = load_features(data_train, data_test)\n",
    "print('data_features shape:', data_features.shape)"
   ]
  },
  {
   "cell_type": "markdown",
   "metadata": {},
   "source": [
    "# Prepare dataset for classification"
   ]
  },
  {
   "cell_type": "code",
   "execution_count": 5,
   "metadata": {},
   "outputs": [],
   "source": [
    "def init_prep(data_train, data_test, data_features, label=None):\n",
    "    \"\"\"\n",
    "    Return numpy array X: feature matrix for classification model fitting\n",
    "    Return numpy array y: labels matrix for classification model fitting\n",
    "    Return numpy array X_test: feature matrix of test set\n",
    "    \n",
    "    Param pandas dataframe data_train: training data (features + labels)\n",
    "    Param pandas dataframe data_test: test data (features)\n",
    "    Param pandas dataframe data_features: data in feature columns of data_train and data_test\n",
    "    \n",
    "    Required Libraries: pandas, numpy, sklearn\n",
    "    \"\"\"\n",
    "    \n",
    "    # Combined text columns\n",
    "    data_train['combined_text'] = (data_train[data_features.columns]\n",
    "                                       .drop(columns=['FTE', 'Total'])\n",
    "                                       .fillna(\"\")\n",
    "                                       .apply(lambda x: \" \".join(x), axis=1)\n",
    "                                       .str.lower())\n",
    "    data_test['combined_text'] = (data_test[data_features.columns]\n",
    "                                       .drop(columns=['FTE', 'Total'])\n",
    "                                       .fillna(\"\")\n",
    "                                       .apply(lambda x: \" \".join(x), axis=1)\n",
    "                                       .str.lower())\n",
    "    data_features['combined_text'] = (data_features\n",
    "                                          .drop(columns=['FTE', 'Total'])\n",
    "                                          .fillna(\"\")\n",
    "                                          .apply(lambda x: \" \".join(x), axis=1)\n",
    "                                          .str.lower())\n",
    "    \n",
    "    # Vectorizer text columns in training data\n",
    "    vec = CountVectorizer(stop_words='english',\n",
    "                          token_pattern='[A-Za-z0-9]+(?=\\\\s+)') # initialize CountVectorizer\n",
    "    vec.fit(data_features['combined_text']) # fit CountVectorizer to all data (labeled and unlabeled)\n",
    "    \n",
    "    word_matrix = vec.transform(data_train['combined_text']) # apply fitted CountVectorizer to only training (labeled) data\n",
    "    word_matrix = word_matrix.toarray() # convert from sparse to regular matix\n",
    "    \n",
    "    word_matrix_test = vec.transform(data_test['combined_text']) # apply fitted CountVectorizer to only test (labeled) data\n",
    "    word_matrix_test = word_matrix_test.toarray() # convert from sparse to regular matrix\n",
    "    \n",
    "    # Impute missing numerical data\n",
    "    imp_total = Imputer(strategy='median')\n",
    "    imp_fte = Imputer(strategy='mean')\n",
    "    \n",
    "    imp_total.fit(data_features['Total'].values.reshape(-1, 1))\n",
    "    imp_fte.fit(data_features['FTE'].values.reshape(-1, 1))\n",
    "    \n",
    "    total = imp_total.transform(data_train['Total'].values.reshape(-1, 1))\n",
    "    fte = imp_fte.transform(data_train['FTE'].values.reshape(-1, 1))\n",
    "    \n",
    "    total_test = imp_total.transform(data_test['Total'].values.reshape(-1, 1))\n",
    "    fte_test = imp_fte.transform(data_test['FTE'].values.reshape(-1, 1))\n",
    "    \n",
    "    # Create feature matrix\n",
    "    X = np.concatenate([total, fte, word_matrix], axis=1)\n",
    "    X_test = np.concatenate([total_test, fte_test, word_matrix_test], axis=1)\n",
    "    \n",
    "    # Create labels matrix\n",
    "    if label:\n",
    "        y = pd.get_dummies(data_train[label]).values.astype('float64')\n",
    "    else:\n",
    "        label = ['Function',\n",
    "                 'Object_Type',\n",
    "                 'Operating_Status',\n",
    "                 'Position_Type',\n",
    "                 'Pre_K',\n",
    "                 'Reporting',\n",
    "                 'Sharing',\n",
    "                 'Student_Type',\n",
    "                 'Use']\n",
    "        y = pd.get_dummies(data_train[label]).values.astype('float64')\n",
    "    \n",
    "    return X, y, X_test"
   ]
  },
  {
   "cell_type": "code",
   "execution_count": 6,
   "metadata": {},
   "outputs": [
    {
     "name": "stdout",
     "output_type": "stream",
     "text": [
      "X shape: (400277, 3550)\n",
      "y shape: (400277, 104)\n",
      "X_test shape: (50064, 3550)\n"
     ]
    }
   ],
   "source": [
    "X, y, X_test = init_prep(data_train, data_test, data_features)\n",
    "print('X shape:', X.shape)\n",
    "print('y shape:', y.shape)\n",
    "print('X_test shape:', X_test.shape)"
   ]
  },
  {
   "cell_type": "markdown",
   "metadata": {},
   "source": [
    "# Build Neural Network"
   ]
  },
  {
   "cell_type": "code",
   "execution_count": 7,
   "metadata": {},
   "outputs": [],
   "source": [
    "def build_network(X, y):\n",
    "    \"\"\"\n",
    "    Return compiled keras-model model\n",
    "    \n",
    "    param numpy array X: feature matrix for classification\n",
    "    param numpy array y: labels matrix for classification\n",
    "    \n",
    "    Required Libraries: keras\n",
    "    \"\"\"\n",
    "    \n",
    "    model = Sequential()\n",
    "    \n",
    "    model.add(Dense(2000, activation='relu', input_shape=(X.shape[1],))) #input layer\n",
    "    model.add(Dense(1000, activation='relu'))\n",
    "    model.add(Dense(500, activation='relu'))\n",
    "    model.add(Dense(y.shape[1], activation='softmax')) # output layer\n",
    "    \n",
    "    model.compile(optimizer='adam', loss='categorical_crossentropy', metrics=['accuracy'])\n",
    "    \n",
    "    return model"
   ]
  },
  {
   "cell_type": "code",
   "execution_count": null,
   "metadata": {},
   "outputs": [
    {
     "name": "stdout",
     "output_type": "stream",
     "text": [
      "Train on 360249 samples, validate on 40028 samples\n",
      "Epoch 1/30\n",
      "360249/360249 [==============================] - 1754s 5ms/step - loss: 31.5261 - acc: 0.0306 - val_loss: 29.1243 - val_acc: 0.0230\n",
      "\n",
      "Epoch 00001: val_loss improved from inf to 29.12430, saving model to outputs/base_model.h5\n",
      "Epoch 2/30\n",
      "  7008/360249 [..............................] - ETA: 32:01 - loss: 29.9073 - acc: 0.0265"
     ]
    }
   ],
   "source": [
    "clf = build_network(X, y)\n",
    "\n",
    "early_stopping_monitor = EarlyStopping(patience=3)\n",
    "checkpointer = ModelCheckpoint(filepath=\"outputs/base_model.h5\", verbose=1, save_best_only=True)\n",
    "clf.fit(X, y, epochs=30, validation_split=0.1, callbacks=[early_stopping_monitor, checkpointer])\n",
    "\n",
    "clf.save_weights(\"outputs/base_model.h5\")\n",
    "model_json = clf.to_json()\n",
    "with open(\"outputs/base_model.json\", \"w\") as json_file:\n",
    "    json_file.write(model_json)"
   ]
  },
  {
   "cell_type": "code",
   "execution_count": null,
   "metadata": {},
   "outputs": [],
   "source": [
    "prediction = clf.predict(X_test)\n",
    "print(\"X_test shape:\", X_test.shape)\n",
    "print(\"predictions shape:\", prediction.shape)\n",
    "\n",
    "label = ['Function',\n",
    "         'Object_Type',\n",
    "         'Operating_Status',\n",
    "         'Position_Type',\n",
    "         'Pre_K',\n",
    "         'Reporting',\n",
    "         'Sharing',\n",
    "         'Student_Type',\n",
    "         'Use']\n",
    "\n",
    "submission = pd.DataFrame(prediction, \n",
    "                          index=data_test.index, \n",
    "                          columns=pd.get_dummies(data_train[label], prefix_sep='__').columns)\n",
    "submission.to_csv('outputs/submissions/base_model.csv')"
   ]
  },
  {
   "cell_type": "markdown",
   "metadata": {},
   "source": [
    "# Load model"
   ]
  },
  {
   "cell_type": "code",
   "execution_count": 8,
   "metadata": {},
   "outputs": [],
   "source": [
    "json_file = open('outputs/base_model.json', 'r')\n",
    "loaded_model_json = json_file.read()\n",
    "json_file.close()\n",
    "clf = model_from_json(loaded_model_json)\n",
    "\n",
    "clf.load_weights('outputs/base_model.h5')\n",
    "\n",
    "clf.compile(optimizer='adam', loss='categorical_crossentropy', metrics=['accuracy'])"
   ]
  },
  {
   "cell_type": "code",
   "execution_count": 9,
   "metadata": {},
   "outputs": [
    {
     "name": "stdout",
     "output_type": "stream",
     "text": [
      "X_test shape: (50064, 3550)\n",
      "predictions shape: (50064, 104)\n"
     ]
    }
   ],
   "source": [
    "prediction = clf.predict(X_test)\n",
    "print(\"X_test shape:\", X_test.shape)\n",
    "print(\"predictions shape:\", prediction.shape)\n",
    "\n",
    "label = ['Function',\n",
    "         'Object_Type',\n",
    "         'Operating_Status',\n",
    "         'Position_Type',\n",
    "         'Pre_K',\n",
    "         'Reporting',\n",
    "         'Sharing',\n",
    "         'Student_Type',\n",
    "         'Use']\n",
    "\n",
    "submission = pd.DataFrame(prediction, \n",
    "                          index=data_test.index, \n",
    "                          columns=pd.get_dummies(data_train[label], prefix_sep='__').columns)\n",
    "submission.to_csv('outputs/submissions/base_model.csv')"
   ]
  },
  {
   "cell_type": "markdown",
   "metadata": {},
   "source": [
    "# Basic CNN"
   ]
  },
  {
   "cell_type": "code",
   "execution_count": 7,
   "metadata": {},
   "outputs": [],
   "source": [
    "import keras\n",
    "from keras.models import Sequential\n",
    "from keras.layers import Dense, Conv1D, MaxPooling1D, Flatten\n",
    "from keras.callbacks import EarlyStopping\n",
    "\n",
    "from keras.models import model_from_json\n",
    "from keras.callbacks import ModelCheckpoint"
   ]
  },
  {
   "cell_type": "code",
   "execution_count": 38,
   "metadata": {},
   "outputs": [],
   "source": [
    "def build_network(X, y):\n",
    "    \"\"\"\n",
    "    Return compiled keras-model model\n",
    "    \n",
    "    param numpy array X: feature matrix for classification\n",
    "    param numpy array y: labels matrix for classification\n",
    "    \n",
    "    Required Libraries: keras\n",
    "    \"\"\"\n",
    "    \n",
    "    model = Sequential()\n",
    "    \n",
    "    model.add(Conv1D(2000, 100, padding='valid', activation='relu', strides=10, input_shape=(X.shape[1], 1))) #input layer\n",
    "    model.add(MaxPooling1D(pool_size=2, padding='valid'))\n",
    "    model.add(Conv1D(1000, 50, padding='valid', activation='relu', strides=5))\n",
    "    model.add(MaxPooling1D(pool_size=2, padding='valid'))\n",
    "    model.add(Flatten())\n",
    "    model.add(Dense(500, activation='relu'))\n",
    "    model.add(Dense(y.shape[1], activation='softmax')) # output layer\n",
    "    \n",
    "    model.compile(optimizer='adam', loss='categorical_crossentropy', metrics=['accuracy'])\n",
    "    \n",
    "    return model"
   ]
  },
  {
   "cell_type": "code",
   "execution_count": null,
   "metadata": {},
   "outputs": [
    {
     "name": "stdout",
     "output_type": "stream",
     "text": [
      "Train on 360249 samples, validate on 40028 samples\n",
      "Epoch 1/30\n"
     ]
    }
   ],
   "source": [
    "clf = build_network(X, y)\n",
    "\n",
    "early_stopping_monitor = EarlyStopping(patience=3)\n",
    "checkpointer = ModelCheckpoint(filepath='outputs/base_cnn_model.h5', verbose=1, save_best_only=True)\n",
    "\n",
    "clf.fit(np.expand_dims(X, axis=2), y, epochs=30, validation_split=0.1, callbacks=[early_stopping_monitor, checkpointer])\n",
    "\n",
    "clf.save_weights('outputs/base_cnn_model.h5')\n",
    "model_json = clf.to_json()\n",
    "with open('outputs/base_cnn_model.json', \"w\") as json_file:\n",
    "    json_file.write(model_json)"
   ]
  }
 ],
 "metadata": {
  "kernelspec": {
   "display_name": "Python 3",
   "language": "python",
   "name": "python3"
  },
  "language_info": {
   "codemirror_mode": {
    "name": "ipython",
    "version": 3
   },
   "file_extension": ".py",
   "mimetype": "text/x-python",
   "name": "python",
   "nbconvert_exporter": "python",
   "pygments_lexer": "ipython3",
   "version": "3.6.6"
  }
 },
 "nbformat": 4,
 "nbformat_minor": 2
}
